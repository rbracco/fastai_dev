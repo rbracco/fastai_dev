{
 "cells": [
  {
   "cell_type": "code",
   "execution_count": null,
   "metadata": {},
   "outputs": [],
   "source": [
    "%reload_ext autoreload\n",
    "%autoreload 2\n",
    "%matplotlib inline"
   ]
  },
  {
   "cell_type": "code",
   "execution_count": null,
   "metadata": {},
   "outputs": [],
   "source": [
    "import os"
   ]
  },
  {
   "cell_type": "code",
   "execution_count": null,
   "metadata": {},
   "outputs": [],
   "source": [
    "from local.torch_basics import *\n",
    "from local.test import *\n",
    "from local.basics import *\n",
    "from local.data.all import *\n",
    "from local.vision.core import *\n",
    "from local.notebook.showdoc import show_doc\n",
    "from local.audio.core import *\n",
    "from local.audio.augment import *\n",
    "from local.vision.learner import *\n",
    "from local.vision.models.xresnet import *\n",
    "from local.metrics import *\n",
    "from local.callback.schedule import *\n",
    "import torchaudio\n",
    "from IPython.display import Audio, display"
   ]
  },
  {
   "cell_type": "markdown",
   "metadata": {},
   "source": [
    "# Tutorial: Training a Voice Recognition Model"
   ]
  },
  {
   "cell_type": "code",
   "execution_count": null,
   "metadata": {},
   "outputs": [],
   "source": [
    "import zipfile"
   ]
  },
  {
   "cell_type": "code",
   "execution_count": null,
   "metadata": {},
   "outputs": [],
   "source": [
    "from pyunpack import Archive"
   ]
  },
  {
   "cell_type": "code",
   "execution_count": null,
   "metadata": {},
   "outputs": [],
   "source": [
    "p10speakers = Config()['data_path'] / 'ST-AEDS-20180100_1-OS'"
   ]
  },
  {
   "cell_type": "code",
   "execution_count": null,
   "metadata": {},
   "outputs": [],
   "source": [
    "#def arc_extract(fname, dest): Archive(fname).extractall(dest)\n",
    "URLs.ESC50 = 'https://github.com/karoldvl/ESC-50/archive/master.zip'\n",
    "pESC50 = Config()['data_path'] / 'ESC-50/ESC-50-master'\n",
    "#untar_data(URLs.ESC50, fname=str(pESC50)+'.zip', dest=pESC50, extract_func=arc_extract)"
   ]
  },
  {
   "cell_type": "code",
   "execution_count": null,
   "metadata": {},
   "outputs": [
    {
     "data": {
      "text/plain": [
       "PosixPath('/home/jupyter/.fastai/data/250_speakers/250-speakers')"
      ]
     },
     "execution_count": null,
     "metadata": {},
     "output_type": "execute_result"
    }
   ],
   "source": [
    "#Warning this dataset is ~8GB\n",
    "p250speakers = Config()['data_path'] / '250_speakers'\n",
    "untar_data(URLs.SPEAKERS250, fname=str(p250speakers)+'.tar', dest=p250speakers)"
   ]
  },
  {
   "cell_type": "code",
   "execution_count": null,
   "metadata": {},
   "outputs": [],
   "source": [
    "x = AudioGetter(\"\", recurse=True, folders=None)\n",
    "files_10  = x(p10speakers)\n",
    "files_250 = x(p250speakers)\n",
    "files_ESC50 = x(pESC50)\n",
    "#original_aud = AudioItem.create(files[0])"
   ]
  },
  {
   "cell_type": "markdown",
   "metadata": {},
   "source": [
    "## Datablock and Basic End to End Training on 10 Speakers"
   ]
  },
  {
   "cell_type": "code",
   "execution_count": null,
   "metadata": {},
   "outputs": [],
   "source": [
    "def AudioBlock(cls=AudioItem): return TransformBlock(type_tfms=cls.create, batch_tfms=IntToFloatTensor)"
   ]
  },
  {
   "cell_type": "code",
   "execution_count": null,
   "metadata": {},
   "outputs": [],
   "source": [
    "auds = DataBlock(blocks=(AudioBlock, CategoryBlock),  \n",
    "                 get_items=get_audio_files, \n",
    "                 splitter=RandomSplitter(),\n",
    "                 get_y=lambda x: str(x).split('/')[-1][:5])"
   ]
  },
  {
   "cell_type": "code",
   "execution_count": null,
   "metadata": {},
   "outputs": [],
   "source": [
    "cats = [y for _,y in auds.datasource(p10speakers)]"
   ]
  },
  {
   "cell_type": "code",
   "execution_count": null,
   "metadata": {},
   "outputs": [],
   "source": [
    "#verify categories are being correctly assigned\n",
    "test_eq(min(cats).item(), 0)\n",
    "test_eq(max(cats).item(), 9)"
   ]
  },
  {
   "cell_type": "code",
   "execution_count": null,
   "metadata": {},
   "outputs": [],
   "source": [
    "#crop 2s from the signal and turn it to a MelSpectrogram with no augmentation\n",
    "cfg_voice = AudioConfig.Voice()\n",
    "a2s = AudioToSpec.from_cfg(cfg_voice)\n",
    "crop_2000ms = CropSignal(2000)\n",
    "tfms = [crop_2000ms, a2s]\n",
    "dbunch = auds.databunch(p10speakers, item_tfms=tfms, bs=64)"
   ]
  },
  {
   "cell_type": "markdown",
   "metadata": {},
   "source": [
    "<div class = \"alert alert-block alert-warning\"><strong>Broken:</strong><br>Show batch is broken as it appears to just be grabbing the data from the sg, and not the sg object itself, but calls the sg's show method which relies on nchannels, which is an object of AudioSpectrogram (part of sg settings but we overrode getattr to make it work like an attribute). This means that, for the moment, the items cant show themselves for the batch, but training still works </div>\n"
   ]
  },
  {
   "cell_type": "code",
   "execution_count": null,
   "metadata": {},
   "outputs": [],
   "source": [
    "#dbunch_cropspec.show_batch(max_n=9)"
   ]
  },
  {
   "cell_type": "code",
   "execution_count": null,
   "metadata": {},
   "outputs": [
    {
     "data": {
      "text/plain": [
       "torch.Size([64, 1, 128, 251])"
      ]
     },
     "execution_count": null,
     "metadata": {},
     "output_type": "execute_result"
    }
   ],
   "source": [
    "dbunch.one_batch()[0].shape"
   ]
  },
  {
   "cell_type": "code",
   "execution_count": null,
   "metadata": {},
   "outputs": [],
   "source": [
    "# credit to Kevin Bird and Hiromi Suenaga for these two lines to adjust a CNN model to take 1 channel input\n",
    "def alter_learner(learn, channels=1):\n",
    "    learn.model[0][0].in_channels=channels\n",
    "    learn.model[0][0].weight = torch.nn.parameter.Parameter(learn.model[0][0].weight[:,1,:,:].unsqueeze(1))"
   ]
  },
  {
   "cell_type": "code",
   "execution_count": null,
   "metadata": {},
   "outputs": [],
   "source": [
    "learn = Learner(dbunch, \n",
    "                xresnet18(),\n",
    "                torch.nn.CrossEntropyLoss(), \n",
    "                metrics=[accuracy])\n",
    "nchannels = dbunch.one_batch()[0].shape[1]\n",
    "alter_learner(learn, nchannels)"
   ]
  },
  {
   "cell_type": "code",
   "execution_count": null,
   "metadata": {},
   "outputs": [
    {
     "data": {
      "image/png": "[encoded data removed]",
      "text/plain": [
       "<Figure size 432x288 with 1 Axes>"
      ]
     },
     "metadata": {
      "needs_background": "light"
     },
     "output_type": "display_data"
    }
   ],
   "source": [
    "learn.lr_find()"
   ]
  },
  {
   "cell_type": "code",
   "execution_count": null,
   "metadata": {},
   "outputs": [
    {
     "name": "stdout",
     "output_type": "stream",
     "text": [
      "(#5) [0,1.9626456499099731,1.358862280845642,0.49609375,00:12]\n",
      "(#5) [1,0.7889631390571594,8.353211402893066,0.1731770783662796,00:11]\n",
      "(#5) [2,0.4145869016647339,3.036802053451538,0.5794270634651184,00:11]\n",
      "(#5) [3,0.2525951862335205,1.6720212697982788,0.6875,00:11]\n",
      "(#5) [4,0.15228423476219177,0.7339551448822021,0.83203125,00:11]\n",
      "(#5) [5,0.1163148358464241,2.678802728652954,0.6119791865348816,00:11]\n",
      "(#5) [6,0.0719689130783081,0.062158506363630295,0.9765625,00:11]\n",
      "(#5) [7,0.0451962873339653,0.03220104053616524,0.9908854365348816,00:11]\n",
      "(#5) [8,0.032597947865724564,0.0297225508838892,0.98828125,00:12]\n",
      "(#5) [9,0.021791895851492882,0.02578715980052948,0.9908854365348816,00:12]\n"
     ]
    }
   ],
   "source": [
    "#epochs are a bit longer due to the chosen melspectrogram settings\n",
    "learn.fit_one_cycle(10, lr_max=slice(1e-2))"
   ]
  },
  {
   "cell_type": "markdown",
   "metadata": {},
   "source": [
    "# Training on 250 Speakers"
   ]
  },
  {
   "cell_type": "markdown",
   "metadata": {},
   "source": [
    "## Baseline"
   ]
  },
  {
   "cell_type": "code",
   "execution_count": null,
   "metadata": {},
   "outputs": [
    {
     "data": {
      "text/plain": [
       "44655"
      ]
     },
     "execution_count": null,
     "metadata": {},
     "output_type": "execute_result"
    }
   ],
   "source": [
    "len(files_250)"
   ]
  },
  {
   "cell_type": "code",
   "execution_count": null,
   "metadata": {},
   "outputs": [
    {
     "name": "stdout",
     "output_type": "stream",
     "text": [
      "/home/jupyter/.fastai/data/250_speakers/250-speakers/id08910/c9SrHQ6iSiU/00054.wav\n",
      "/home/jupyter/.fastai/data/250_speakers/250-speakers/id08923/BIN2PeoN6gg/00026.wav\n",
      "/home/jupyter/.fastai/data/250_speakers/250-speakers/id08996/liBbfkvpKhw/00045.wav\n",
      "/home/jupyter/.fastai/data/250_speakers/250-speakers/id09186/FPuVhMfYsj4/00066.wav\n",
      "/home/jupyter/.fastai/data/250_speakers/250-speakers/id08879/CmtWhHaP7U8/00006.wav\n",
      "/home/jupyter/.fastai/data/250_speakers/250-speakers/id08997/bWtRLJQ7QGM/00073.wav\n",
      "/home/jupyter/.fastai/data/250_speakers/250-speakers/id09236/LlTIdY92nmI/00013.wav\n",
      "/home/jupyter/.fastai/data/250_speakers/250-speakers/id09057/FL4xjnaF8Ks/00007.wav\n",
      "/home/jupyter/.fastai/data/250_speakers/250-speakers/id08999/QeAZmOwYKNo/00218.wav\n",
      "/home/jupyter/.fastai/data/250_speakers/250-speakers/id08928/9ZgPk5LHRug/00024.wav\n"
     ]
    }
   ],
   "source": [
    "for i in range(10):\n",
    "    print(random.choice(files_250))"
   ]
  },
  {
   "cell_type": "code",
   "execution_count": null,
   "metadata": {},
   "outputs": [],
   "source": [
    "get_250speakers_label = lambda x: str(x).split('/')[-3][3:]"
   ]
  },
  {
   "cell_type": "code",
   "execution_count": null,
   "metadata": {},
   "outputs": [
    {
     "name": "stdout",
     "output_type": "stream",
     "text": [
      "File: /home/jupyter/.fastai/data/250_speakers/250-speakers/id09059/26r_bBrRxOk/00001.wav\n",
      "Label: 9059\n",
      "File: /home/jupyter/.fastai/data/250_speakers/250-speakers/id09071/MNKyAthzGfI/00153.wav\n",
      "Label: 9071\n",
      "File: /home/jupyter/.fastai/data/250_speakers/250-speakers/id09021/GiTLl9w5Qdw/00023.wav\n",
      "Label: 9021\n",
      "File: /home/jupyter/.fastai/data/250_speakers/250-speakers/id09088/mF-E0LSdRlQ/00394.wav\n",
      "Label: 9088\n",
      "File: /home/jupyter/.fastai/data/250_speakers/250-speakers/id09235/eKuL9vNb7Oo/00146.wav\n",
      "Label: 9235\n",
      "File: /home/jupyter/.fastai/data/250_speakers/250-speakers/id09186/dCm42DSaYEk/00425.wav\n",
      "Label: 9186\n",
      "File: /home/jupyter/.fastai/data/250_speakers/250-speakers/id09034/fc69z5YvdZA/00169.wav\n",
      "Label: 9034\n",
      "File: /home/jupyter/.fastai/data/250_speakers/250-speakers/id09192/l-ft4fQ7M7k/00243.wav\n",
      "Label: 9192\n",
      "File: /home/jupyter/.fastai/data/250_speakers/250-speakers/id08944/awbtRYb1bS8/00085.wav\n",
      "Label: 8944\n",
      "File: /home/jupyter/.fastai/data/250_speakers/250-speakers/id09237/Nudby-bnL2U/00084.wav\n",
      "Label: 9237\n"
     ]
    }
   ],
   "source": [
    "for i in range(10):\n",
    "    f = random.choice(files_250)\n",
    "    print(\"File:\",f )\n",
    "    print(\"Label:\", get_250speakers_label(f))"
   ]
  },
  {
   "cell_type": "code",
   "execution_count": null,
   "metadata": {},
   "outputs": [],
   "source": [
    "auds = DataBlock(blocks=(AudioBlock, CategoryBlock),  \n",
    "                 get_items=get_audio_files, \n",
    "                 splitter=RandomSplitter(),\n",
    "                 get_y=get_250speakers_label)"
   ]
  },
  {
   "cell_type": "code",
   "execution_count": null,
   "metadata": {},
   "outputs": [],
   "source": [
    "dbunch250 = auds.databunch(p250speakers, item_tfms=tfms, bs=64)"
   ]
  },
  {
   "cell_type": "code",
   "execution_count": null,
   "metadata": {},
   "outputs": [],
   "source": [
    "from fastprogress import progress_bar as pb"
   ]
  },
  {
   "cell_type": "code",
   "execution_count": null,
   "metadata": {},
   "outputs": [
    {
     "data": {
      "text/html": [
       "\n",
       "    <div>\n",
       "        <style>\n",
       "            /* Turns off some styling */\n",
       "            progress {\n",
       "                /* gets rid of default border in Firefox and Opera. */\n",
       "                border: none;\n",
       "                /* Needs to be in here for Safari polyfill so background images work as expected. */\n",
       "                background-size: auto;\n",
       "            }\n",
       "            .progress-bar-interrupted, .progress-bar-interrupted::-webkit-progress-bar {\n",
       "                background: #F44336;\n",
       "            }\n",
       "        </style>\n",
       "      <progress value='44655' class='' max='44655', style='width:300px; height:20px; vertical-align: middle;'></progress>\n",
       "      100.00% [44655/44655 00:53<00:00]\n",
       "    </div>\n",
       "    "
      ],
      "text/plain": [
       "<IPython.core.display.HTML object>"
      ]
     },
     "metadata": {},
     "output_type": "display_data"
    }
   ],
   "source": [
    "cats = [y for _,y in pb(auds.datasource(p250speakers))]"
   ]
  },
  {
   "cell_type": "code",
   "execution_count": null,
   "metadata": {},
   "outputs": [],
   "source": [
    "#verify categories are being correctly assigned for 250 speakers\n",
    "test_eq(min(cats).item(), 0)\n",
    "test_eq(max(cats).item(), 249)"
   ]
  },
  {
   "cell_type": "code",
   "execution_count": null,
   "metadata": {},
   "outputs": [],
   "source": [
    "# Use torchaudio default MelSpectrogram to get a baseline\n",
    "a2s = AudioToSpec()\n",
    "crop_4000ms = CropSignal(4000)\n",
    "tfms = [crop_4000ms, a2s]\n",
    "dbunch = auds.databunch(p250speakers, item_tfms=tfms, bs=256)"
   ]
  },
  {
   "cell_type": "code",
   "execution_count": null,
   "metadata": {},
   "outputs": [],
   "source": [
    "learn = Learner(dbunch, \n",
    "                xresnet18(),\n",
    "                torch.nn.CrossEntropyLoss(), \n",
    "                metrics=[accuracy])\n",
    "nchannels = dbunch.one_batch()[0].shape[1]\n",
    "alter_learner(learn, nchannels)"
   ]
  },
  {
   "cell_type": "code",
   "execution_count": null,
   "metadata": {},
   "outputs": [
    {
     "data": {
      "image/png": "[encoded data removed]",
      "text/plain": [
       "<Figure size 432x288 with 1 Axes>"
      ]
     },
     "metadata": {
      "needs_background": "light"
     },
     "output_type": "display_data"
    }
   ],
   "source": [
    "learn.lr_find()"
   ]
  },
  {
   "cell_type": "code",
   "execution_count": null,
   "metadata": {},
   "outputs": [
    {
     "name": "stdout",
     "output_type": "stream",
     "text": [
      "(#5) [0,3.2122292518615723,4.0813679695129395,0.23759937286376953,01:04]\n",
      "(#5) [1,1.316498875617981,1.6841962337493896,0.6065390110015869,01:04]\n",
      "(#5) [2,0.647162914276123,0.7752794027328491,0.8013660311698914,01:04]\n",
      "(#5) [3,0.2630617022514343,0.40967297554016113,0.8973239064216614,01:04]\n",
      "(#5) [4,0.10401999950408936,0.30818530917167664,0.9249804019927979,01:04]\n"
     ]
    }
   ],
   "source": [
    "learn.fit_one_cycle(5, lr_max=slice(2e-2))"
   ]
  },
  {
   "cell_type": "code",
   "execution_count": null,
   "metadata": {},
   "outputs": [
    {
     "data": {
      "image/png": "[encoded data removed]",
      "text/plain": [
       "<Figure size 432x288 with 1 Axes>"
      ]
     },
     "metadata": {
      "needs_background": "light"
     },
     "output_type": "display_data"
    }
   ],
   "source": [
    "learn.lr_find()"
   ]
  },
  {
   "cell_type": "code",
   "execution_count": null,
   "metadata": {},
   "outputs": [
    {
     "name": "stdout",
     "output_type": "stream",
     "text": [
      "(#5) [0,0.06768660247325897,0.3031019866466522,0.9256522059440613,01:04]\n",
      "(#5) [1,0.06981414556503296,0.31619778275489807,0.9208375215530396,01:04]\n",
      "(#5) [2,0.04986869916319847,0.28395724296569824,0.9330422282218933,01:04]\n",
      "(#5) [3,0.0395052470266819,0.2880662977695465,0.9318105578422546,01:04]\n",
      "(#5) [4,0.03327617421746254,0.2784707844257355,0.9357295036315918,01:04]\n"
     ]
    }
   ],
   "source": [
    "learn.unfreeze()\n",
    "learn.fit_one_cycle(5, lr_max=slice(1e-3))"
   ]
  },
  {
   "cell_type": "markdown",
   "metadata": {},
   "source": [
    "## Customize our AudioToSpec Function using a config"
   ]
  },
  {
   "cell_type": "code",
   "execution_count": null,
   "metadata": {},
   "outputs": [],
   "source": [
    "voice_cfg = AudioConfig.Voice()\n",
    "a2s = AudioToSpec.from_cfg(voice_cfg)\n",
    "tfms = [crop_4000ms, a2s]\n",
    "# tfms = Pipeline([CropSignal(4000),  a2s, MaskFreq(size=12), MaskTime(size=15), SGRoll()], as_item=True)\n",
    "dbunch = auds.databunch(p250speakers, item_tfms=tfms, bs=128)"
   ]
  },
  {
   "cell_type": "code",
   "execution_count": null,
   "metadata": {},
   "outputs": [],
   "source": [
    "learn = Learner(dbunch, \n",
    "                xresnet18(),\n",
    "                torch.nn.CrossEntropyLoss(), \n",
    "                metrics=[accuracy])\n",
    "nchannels = dbunch.one_batch()[0].shape[1]\n",
    "alter_learner(learn, nchannels)"
   ]
  },
  {
   "cell_type": "code",
   "execution_count": null,
   "metadata": {},
   "outputs": [
    {
     "data": {
      "image/png": "[encoded data removed]",
      "text/plain": [
       "<Figure size 432x288 with 1 Axes>"
      ]
     },
     "metadata": {
      "needs_background": "light"
     },
     "output_type": "display_data"
    }
   ],
   "source": [
    "learn.lr_find()"
   ]
  },
  {
   "cell_type": "code",
   "execution_count": null,
   "metadata": {},
   "outputs": [
    {
     "name": "stdout",
     "output_type": "stream",
     "text": [
      "(#5) [0,2.370701789855957,4.801907539367676,0.21027880907058716,03:55]\n",
      "(#5) [1,0.9351741075515747,1.4241888523101807,0.6497592926025391,03:53]\n",
      "(#5) [2,0.4317864775657654,0.6161158680915833,0.83988356590271,03:53]\n",
      "(#5) [3,0.1602507382631302,0.311890572309494,0.9218452572822571,03:53]\n",
      "(#5) [4,0.052644867449998856,0.22105051577091217,0.9510692954063416,03:53]\n"
     ]
    }
   ],
   "source": [
    "# Better results even without fine tuning, but much slower. We need to move a2s to the GPU and \n",
    "# then add data augmentation!\n",
    "learn.fit_one_cycle(5, lr_max=slice(2e-2))"
   ]
  },
  {
   "cell_type": "markdown",
   "metadata": {},
   "source": [
    "## Training an MFCC with Delta"
   ]
  },
  {
   "cell_type": "code",
   "execution_count": null,
   "metadata": {},
   "outputs": [],
   "source": [
    "# only grab 1500ms of the clip, voice identity can be done with shorter sections and it will speed it up\n",
    "# this is really slow for mfcc, even for 45k files, need to figure out what's going on here. Also the results\n",
    "# shouldn't be this much worse than melspectrogram\n",
    "a2mfcc = AudioToMFCC(n_mffc=20, melkwargs={\"n_fft\":2048, \"hop_length\":256, \"n_mels\":128})\n",
    "tfms = [CropSignal(1500), a2mfcc, Delta()]\n",
    "# tfms = Pipeline([CropSignal(4000),  a2s, MaskFreq(size=12), MaskTime(size=15), SGRoll()], as_item=True)\n",
    "dbunch = auds.databunch(p250speakers, item_tfms=tfms, bs=1024)"
   ]
  },
  {
   "cell_type": "code",
   "execution_count": null,
   "metadata": {},
   "outputs": [
    {
     "data": {
      "text/plain": [
       "torch.Size([1024, 3, 40, 94])"
      ]
     },
     "execution_count": null,
     "metadata": {},
     "output_type": "execute_result"
    }
   ],
   "source": [
    "#n_mfcc isn't getting passed down? \n",
    "dbunch.one_batch()[0].shape"
   ]
  },
  {
   "cell_type": "code",
   "execution_count": null,
   "metadata": {},
   "outputs": [],
   "source": [
    "learn = Learner(dbunch, \n",
    "                xresnet18(),\n",
    "                torch.nn.CrossEntropyLoss(), \n",
    "                metrics=[accuracy])"
   ]
  },
  {
   "cell_type": "code",
   "execution_count": null,
   "metadata": {},
   "outputs": [
    {
     "data": {
      "image/png": "[encoded data removed]",
      "text/plain": [
       "<Figure size 432x288 with 1 Axes>"
      ]
     },
     "metadata": {
      "needs_background": "light"
     },
     "output_type": "display_data"
    }
   ],
   "source": [
    "learn.lr_find()"
   ]
  },
  {
   "cell_type": "code",
   "execution_count": null,
   "metadata": {},
   "outputs": [
    {
     "name": "stdout",
     "output_type": "stream",
     "text": [
      "(#5) [0,4.666947841644287,4.712531089782715,0.09965289384126663,01:18]\n",
      "(#5) [1,3.334801435470581,12.688240051269531,0.034710559993982315,01:13]\n",
      "(#5) [2,2.457864284515381,4.543926239013672,0.20949502289295197,01:14]\n",
      "(#5) [3,1.827263593673706,2.5221168994903564,0.43746501207351685,01:13]\n",
      "(#5) [4,1.376752257347107,1.7172975540161133,0.585600733757019,01:14]\n",
      "(#5) [5,1.0380667448043823,1.3251761198043823,0.6712574362754822,01:13]\n",
      "(#5) [6,0.7777164578437805,1.0692423582077026,0.7374314069747925,01:13]\n",
      "(#5) [7,0.5751940011978149,0.6517168283462524,0.8404433727264404,01:14]\n",
      "(#5) [8,0.4284226894378662,0.5516476631164551,0.8659724593162537,01:13]\n",
      "(#5) [9,0.3302121162414551,0.5454989075660706,0.8688836693763733,01:13]\n"
     ]
    }
   ],
   "source": [
    "learn.fit_one_cycle(10, lr_max=slice(2e-2))"
   ]
  },
  {
   "cell_type": "code",
   "execution_count": null,
   "metadata": {},
   "outputs": [
    {
     "data": {
      "image/png": "[encoded data removed]",
      "text/plain": [
       "<Figure size 432x288 with 1 Axes>"
      ]
     },
     "metadata": {
      "needs_background": "light"
     },
     "output_type": "display_data"
    }
   ],
   "source": [
    "learn.unfreeze()\n",
    "learn.lr_find()"
   ]
  },
  {
   "cell_type": "code",
   "execution_count": null,
   "metadata": {},
   "outputs": [
    {
     "name": "stdout",
     "output_type": "stream",
     "text": [
      "(#5) [0,0.22381065785884857,0.5382125973701477,0.8697794079780579,01:13]\n",
      "(#5) [1,0.23459886014461517,0.739894449710846,0.8196170926094055,01:13]\n",
      "(#5) [2,0.2472066879272461,0.601187527179718,0.8538797497749329,01:12]\n",
      "(#5) [3,0.22701896727085114,0.5553048849105835,0.8654125928878784,01:13]\n",
      "(#5) [4,0.19371949136257172,None,None,01:05]\n"
     ]
    },
    {
     "ename": "KeyboardInterrupt",
     "evalue": "",
     "output_type": "error",
     "traceback": [
      "\u001b[0;31m---------------------------------------------------------------------------\u001b[0m",
      "\u001b[0;31mKeyboardInterrupt\u001b[0m                         Traceback (most recent call last)",
      "\u001b[0;32m<ipython-input-47-952bbd4fb4cd>\u001b[0m in \u001b[0;36m<module>\u001b[0;34m\u001b[0m\n\u001b[0;32m----> 1\u001b[0;31m \u001b[0mlearn\u001b[0m\u001b[0;34m.\u001b[0m\u001b[0mfit_one_cycle\u001b[0m\u001b[0;34m(\u001b[0m\u001b[0;36m7\u001b[0m\u001b[0;34m,\u001b[0m \u001b[0mlr_max\u001b[0m\u001b[0;34m=\u001b[0m\u001b[0mslice\u001b[0m\u001b[0;34m(\u001b[0m\u001b[0;36m3e-3\u001b[0m\u001b[0;34m,\u001b[0m \u001b[0;36m4e-3\u001b[0m\u001b[0;34m)\u001b[0m\u001b[0;34m)\u001b[0m\u001b[0;34m\u001b[0m\u001b[0;34m\u001b[0m\u001b[0m\n\u001b[0m",
      "\u001b[0;32m~/rob/dev_fastai/dev/local/callback/schedule.py\u001b[0m in \u001b[0;36mfit_one_cycle\u001b[0;34m(self, n_epoch, lr_max, div, div_final, pct_start, wd, moms, cbs, reset_opt)\u001b[0m\n\u001b[1;32m     96\u001b[0m     scheds = {'lr': combined_cos(pct_start, lr_max/div, lr_max, lr_max/div_final),\n\u001b[1;32m     97\u001b[0m               'mom': combined_cos(pct_start, *moms)}\n\u001b[0;32m---> 98\u001b[0;31m     \u001b[0mself\u001b[0m\u001b[0;34m.\u001b[0m\u001b[0mfit\u001b[0m\u001b[0;34m(\u001b[0m\u001b[0mn_epoch\u001b[0m\u001b[0;34m,\u001b[0m \u001b[0mcbs\u001b[0m\u001b[0;34m=\u001b[0m\u001b[0mParamScheduler\u001b[0m\u001b[0;34m(\u001b[0m\u001b[0mscheds\u001b[0m\u001b[0;34m)\u001b[0m\u001b[0;34m+\u001b[0m\u001b[0mL\u001b[0m\u001b[0;34m(\u001b[0m\u001b[0mcbs\u001b[0m\u001b[0;34m)\u001b[0m\u001b[0;34m,\u001b[0m \u001b[0mreset_opt\u001b[0m\u001b[0;34m=\u001b[0m\u001b[0mreset_opt\u001b[0m\u001b[0;34m,\u001b[0m \u001b[0mwd\u001b[0m\u001b[0;34m=\u001b[0m\u001b[0mwd\u001b[0m\u001b[0;34m)\u001b[0m\u001b[0;34m\u001b[0m\u001b[0;34m\u001b[0m\u001b[0m\n\u001b[0m\u001b[1;32m     99\u001b[0m \u001b[0;34m\u001b[0m\u001b[0m\n\u001b[1;32m    100\u001b[0m \u001b[0;31m#Cell\u001b[0m\u001b[0;34m\u001b[0m\u001b[0;34m\u001b[0m\u001b[0;34m\u001b[0m\u001b[0m\n",
      "\u001b[0;32m~/rob/dev_fastai/dev/local/learner.py\u001b[0m in \u001b[0;36mfit\u001b[0;34m(self, n_epoch, lr, wd, cbs, reset_opt)\u001b[0m\n\u001b[1;32m    251\u001b[0m                         \u001b[0mself\u001b[0m\u001b[0;34m.\u001b[0m\u001b[0mepoch\u001b[0m\u001b[0;34m=\u001b[0m\u001b[0mepoch\u001b[0m\u001b[0;34m;\u001b[0m          \u001b[0mself\u001b[0m\u001b[0;34m(\u001b[0m\u001b[0;34m'begin_epoch'\u001b[0m\u001b[0;34m)\u001b[0m\u001b[0;34m\u001b[0m\u001b[0;34m\u001b[0m\u001b[0m\n\u001b[1;32m    252\u001b[0m                         \u001b[0mself\u001b[0m\u001b[0;34m.\u001b[0m\u001b[0m_do_epoch_train\u001b[0m\u001b[0;34m(\u001b[0m\u001b[0;34m)\u001b[0m\u001b[0;34m\u001b[0m\u001b[0;34m\u001b[0m\u001b[0m\n\u001b[0;32m--> 253\u001b[0;31m                         \u001b[0mself\u001b[0m\u001b[0;34m.\u001b[0m\u001b[0m_do_epoch_validate\u001b[0m\u001b[0;34m(\u001b[0m\u001b[0;34m)\u001b[0m\u001b[0;34m\u001b[0m\u001b[0;34m\u001b[0m\u001b[0m\n\u001b[0m\u001b[1;32m    254\u001b[0m                     \u001b[0;32mexcept\u001b[0m \u001b[0mCancelEpochException\u001b[0m\u001b[0;34m:\u001b[0m   \u001b[0mself\u001b[0m\u001b[0;34m(\u001b[0m\u001b[0;34m'after_cancel_epoch'\u001b[0m\u001b[0;34m)\u001b[0m\u001b[0;34m\u001b[0m\u001b[0;34m\u001b[0m\u001b[0m\n\u001b[1;32m    255\u001b[0m                     \u001b[0;32mfinally\u001b[0m\u001b[0;34m:\u001b[0m                       \u001b[0mself\u001b[0m\u001b[0;34m(\u001b[0m\u001b[0;34m'after_epoch'\u001b[0m\u001b[0;34m)\u001b[0m\u001b[0;34m\u001b[0m\u001b[0;34m\u001b[0m\u001b[0m\n",
      "\u001b[0;32m~/rob/dev_fastai/dev/local/learner.py\u001b[0m in \u001b[0;36m_do_epoch_validate\u001b[0;34m(self, ds_idx, dl)\u001b[0m\n\u001b[1;32m    236\u001b[0m         \u001b[0;32mtry\u001b[0m\u001b[0;34m:\u001b[0m\u001b[0;34m\u001b[0m\u001b[0;34m\u001b[0m\u001b[0m\n\u001b[1;32m    237\u001b[0m             \u001b[0mself\u001b[0m\u001b[0;34m.\u001b[0m\u001b[0mdl\u001b[0m \u001b[0;34m=\u001b[0m \u001b[0mdl\u001b[0m\u001b[0;34m;\u001b[0m                                    \u001b[0mself\u001b[0m\u001b[0;34m(\u001b[0m\u001b[0;34m'begin_validate'\u001b[0m\u001b[0;34m)\u001b[0m\u001b[0;34m\u001b[0m\u001b[0;34m\u001b[0m\u001b[0m\n\u001b[0;32m--> 238\u001b[0;31m             \u001b[0;32mwith\u001b[0m \u001b[0mtorch\u001b[0m\u001b[0;34m.\u001b[0m\u001b[0mno_grad\u001b[0m\u001b[0;34m(\u001b[0m\u001b[0;34m)\u001b[0m\u001b[0;34m:\u001b[0m \u001b[0mself\u001b[0m\u001b[0;34m.\u001b[0m\u001b[0mall_batches\u001b[0m\u001b[0;34m(\u001b[0m\u001b[0;34m)\u001b[0m\u001b[0;34m\u001b[0m\u001b[0;34m\u001b[0m\u001b[0m\n\u001b[0m\u001b[1;32m    239\u001b[0m         \u001b[0;32mexcept\u001b[0m \u001b[0mCancelValidException\u001b[0m\u001b[0;34m:\u001b[0m                         \u001b[0mself\u001b[0m\u001b[0;34m(\u001b[0m\u001b[0;34m'after_cancel_validate'\u001b[0m\u001b[0;34m)\u001b[0m\u001b[0;34m\u001b[0m\u001b[0;34m\u001b[0m\u001b[0m\n\u001b[1;32m    240\u001b[0m         \u001b[0;32mfinally\u001b[0m\u001b[0;34m:\u001b[0m                                             \u001b[0mself\u001b[0m\u001b[0;34m(\u001b[0m\u001b[0;34m'after_validate'\u001b[0m\u001b[0;34m)\u001b[0m\u001b[0;34m\u001b[0m\u001b[0;34m\u001b[0m\u001b[0m\n",
      "\u001b[0;32m~/rob/dev_fastai/dev/local/learner.py\u001b[0m in \u001b[0;36mall_batches\u001b[0;34m(self)\u001b[0m\n\u001b[1;32m    206\u001b[0m     \u001b[0;32mdef\u001b[0m \u001b[0mall_batches\u001b[0m\u001b[0;34m(\u001b[0m\u001b[0mself\u001b[0m\u001b[0;34m)\u001b[0m\u001b[0;34m:\u001b[0m\u001b[0;34m\u001b[0m\u001b[0;34m\u001b[0m\u001b[0m\n\u001b[1;32m    207\u001b[0m         \u001b[0mself\u001b[0m\u001b[0;34m.\u001b[0m\u001b[0mn_iter\u001b[0m \u001b[0;34m=\u001b[0m \u001b[0mlen\u001b[0m\u001b[0;34m(\u001b[0m\u001b[0mself\u001b[0m\u001b[0;34m.\u001b[0m\u001b[0mdl\u001b[0m\u001b[0;34m)\u001b[0m\u001b[0;34m\u001b[0m\u001b[0;34m\u001b[0m\u001b[0m\n\u001b[0;32m--> 208\u001b[0;31m         \u001b[0;32mfor\u001b[0m \u001b[0mo\u001b[0m \u001b[0;32min\u001b[0m \u001b[0menumerate\u001b[0m\u001b[0;34m(\u001b[0m\u001b[0mself\u001b[0m\u001b[0;34m.\u001b[0m\u001b[0mdl\u001b[0m\u001b[0;34m)\u001b[0m\u001b[0;34m:\u001b[0m \u001b[0mself\u001b[0m\u001b[0;34m.\u001b[0m\u001b[0mone_batch\u001b[0m\u001b[0;34m(\u001b[0m\u001b[0;34m*\u001b[0m\u001b[0mo\u001b[0m\u001b[0;34m)\u001b[0m\u001b[0;34m\u001b[0m\u001b[0;34m\u001b[0m\u001b[0m\n\u001b[0m\u001b[1;32m    209\u001b[0m \u001b[0;34m\u001b[0m\u001b[0m\n\u001b[1;32m    210\u001b[0m     \u001b[0;32mdef\u001b[0m \u001b[0mone_batch\u001b[0m\u001b[0;34m(\u001b[0m\u001b[0mself\u001b[0m\u001b[0;34m,\u001b[0m \u001b[0mi\u001b[0m\u001b[0;34m,\u001b[0m \u001b[0mb\u001b[0m\u001b[0;34m)\u001b[0m\u001b[0;34m:\u001b[0m\u001b[0;34m\u001b[0m\u001b[0;34m\u001b[0m\u001b[0m\n",
      "\u001b[0;32m~/rob/dev_fastai/dev/local/data/load.py\u001b[0m in \u001b[0;36m__iter__\u001b[0;34m(self)\u001b[0m\n\u001b[1;32m     91\u001b[0m         \u001b[0mself\u001b[0m\u001b[0;34m.\u001b[0m\u001b[0mrandomize\u001b[0m\u001b[0;34m(\u001b[0m\u001b[0;34m)\u001b[0m\u001b[0;34m\u001b[0m\u001b[0;34m\u001b[0m\u001b[0m\n\u001b[1;32m     92\u001b[0m         \u001b[0mself\u001b[0m\u001b[0;34m.\u001b[0m\u001b[0mbefore_iter\u001b[0m\u001b[0;34m(\u001b[0m\u001b[0;34m)\u001b[0m\u001b[0;34m\u001b[0m\u001b[0;34m\u001b[0m\u001b[0m\n\u001b[0;32m---> 93\u001b[0;31m         \u001b[0;32mfor\u001b[0m \u001b[0mb\u001b[0m \u001b[0;32min\u001b[0m \u001b[0m_loaders\u001b[0m\u001b[0;34m[\u001b[0m\u001b[0mself\u001b[0m\u001b[0;34m.\u001b[0m\u001b[0mfake_l\u001b[0m\u001b[0;34m.\u001b[0m\u001b[0mnum_workers\u001b[0m\u001b[0;34m==\u001b[0m\u001b[0;36m0\u001b[0m\u001b[0;34m]\u001b[0m\u001b[0;34m(\u001b[0m\u001b[0mself\u001b[0m\u001b[0;34m.\u001b[0m\u001b[0mfake_l\u001b[0m\u001b[0;34m)\u001b[0m\u001b[0;34m:\u001b[0m \u001b[0;32myield\u001b[0m \u001b[0mself\u001b[0m\u001b[0;34m.\u001b[0m\u001b[0mafter_batch\u001b[0m\u001b[0;34m(\u001b[0m\u001b[0mb\u001b[0m\u001b[0;34m)\u001b[0m\u001b[0;34m\u001b[0m\u001b[0;34m\u001b[0m\u001b[0m\n\u001b[0m\u001b[1;32m     94\u001b[0m         \u001b[0mself\u001b[0m\u001b[0;34m.\u001b[0m\u001b[0mafter_iter\u001b[0m\u001b[0;34m(\u001b[0m\u001b[0;34m)\u001b[0m\u001b[0;34m\u001b[0m\u001b[0;34m\u001b[0m\u001b[0m\n\u001b[1;32m     95\u001b[0m         \u001b[0;32mif\u001b[0m \u001b[0mhasattr\u001b[0m\u001b[0;34m(\u001b[0m\u001b[0mself\u001b[0m\u001b[0;34m,\u001b[0m \u001b[0;34m'it'\u001b[0m\u001b[0;34m)\u001b[0m\u001b[0;34m:\u001b[0m \u001b[0mdelattr\u001b[0m\u001b[0;34m(\u001b[0m\u001b[0mself\u001b[0m\u001b[0;34m,\u001b[0m \u001b[0;34m'it'\u001b[0m\u001b[0;34m)\u001b[0m\u001b[0;34m\u001b[0m\u001b[0;34m\u001b[0m\u001b[0m\n",
      "\u001b[0;32m/opt/anaconda3/envs/dev/lib/python3.7/site-packages/torch/utils/data/dataloader.py\u001b[0m in \u001b[0;36m__next__\u001b[0;34m(self)\u001b[0m\n\u001b[1;32m    802\u001b[0m \u001b[0;34m\u001b[0m\u001b[0m\n\u001b[1;32m    803\u001b[0m             \u001b[0;32massert\u001b[0m \u001b[0;32mnot\u001b[0m \u001b[0mself\u001b[0m\u001b[0;34m.\u001b[0m\u001b[0mshutdown\u001b[0m \u001b[0;32mand\u001b[0m \u001b[0mself\u001b[0m\u001b[0;34m.\u001b[0m\u001b[0mtasks_outstanding\u001b[0m \u001b[0;34m>\u001b[0m \u001b[0;36m0\u001b[0m\u001b[0;34m\u001b[0m\u001b[0;34m\u001b[0m\u001b[0m\n\u001b[0;32m--> 804\u001b[0;31m             \u001b[0midx\u001b[0m\u001b[0;34m,\u001b[0m \u001b[0mdata\u001b[0m \u001b[0;34m=\u001b[0m \u001b[0mself\u001b[0m\u001b[0;34m.\u001b[0m\u001b[0m_get_data\u001b[0m\u001b[0;34m(\u001b[0m\u001b[0;34m)\u001b[0m\u001b[0;34m\u001b[0m\u001b[0;34m\u001b[0m\u001b[0m\n\u001b[0m\u001b[1;32m    805\u001b[0m             \u001b[0mself\u001b[0m\u001b[0;34m.\u001b[0m\u001b[0mtasks_outstanding\u001b[0m \u001b[0;34m-=\u001b[0m \u001b[0;36m1\u001b[0m\u001b[0;34m\u001b[0m\u001b[0;34m\u001b[0m\u001b[0m\n\u001b[1;32m    806\u001b[0m \u001b[0;34m\u001b[0m\u001b[0m\n",
      "\u001b[0;32m/opt/anaconda3/envs/dev/lib/python3.7/site-packages/torch/utils/data/dataloader.py\u001b[0m in \u001b[0;36m_get_data\u001b[0;34m(self)\u001b[0m\n\u001b[1;32m    769\u001b[0m         \u001b[0;32melse\u001b[0m\u001b[0;34m:\u001b[0m\u001b[0;34m\u001b[0m\u001b[0;34m\u001b[0m\u001b[0m\n\u001b[1;32m    770\u001b[0m             \u001b[0;32mwhile\u001b[0m \u001b[0;32mTrue\u001b[0m\u001b[0;34m:\u001b[0m\u001b[0;34m\u001b[0m\u001b[0;34m\u001b[0m\u001b[0m\n\u001b[0;32m--> 771\u001b[0;31m                 \u001b[0msuccess\u001b[0m\u001b[0;34m,\u001b[0m \u001b[0mdata\u001b[0m \u001b[0;34m=\u001b[0m \u001b[0mself\u001b[0m\u001b[0;34m.\u001b[0m\u001b[0m_try_get_data\u001b[0m\u001b[0;34m(\u001b[0m\u001b[0;34m)\u001b[0m\u001b[0;34m\u001b[0m\u001b[0;34m\u001b[0m\u001b[0m\n\u001b[0m\u001b[1;32m    772\u001b[0m                 \u001b[0;32mif\u001b[0m \u001b[0msuccess\u001b[0m\u001b[0;34m:\u001b[0m\u001b[0;34m\u001b[0m\u001b[0;34m\u001b[0m\u001b[0m\n\u001b[1;32m    773\u001b[0m                     \u001b[0;32mreturn\u001b[0m \u001b[0mdata\u001b[0m\u001b[0;34m\u001b[0m\u001b[0;34m\u001b[0m\u001b[0m\n",
      "\u001b[0;32m/opt/anaconda3/envs/dev/lib/python3.7/site-packages/torch/utils/data/dataloader.py\u001b[0m in \u001b[0;36m_try_get_data\u001b[0;34m(self, timeout)\u001b[0m\n\u001b[1;32m    722\u001b[0m         \u001b[0;31m#   (bool: whether successfully get data, any: data if successful else None)\u001b[0m\u001b[0;34m\u001b[0m\u001b[0;34m\u001b[0m\u001b[0;34m\u001b[0m\u001b[0m\n\u001b[1;32m    723\u001b[0m         \u001b[0;32mtry\u001b[0m\u001b[0;34m:\u001b[0m\u001b[0;34m\u001b[0m\u001b[0;34m\u001b[0m\u001b[0m\n\u001b[0;32m--> 724\u001b[0;31m             \u001b[0mdata\u001b[0m \u001b[0;34m=\u001b[0m \u001b[0mself\u001b[0m\u001b[0;34m.\u001b[0m\u001b[0mdata_queue\u001b[0m\u001b[0;34m.\u001b[0m\u001b[0mget\u001b[0m\u001b[0;34m(\u001b[0m\u001b[0mtimeout\u001b[0m\u001b[0;34m=\u001b[0m\u001b[0mtimeout\u001b[0m\u001b[0;34m)\u001b[0m\u001b[0;34m\u001b[0m\u001b[0;34m\u001b[0m\u001b[0m\n\u001b[0m\u001b[1;32m    725\u001b[0m             \u001b[0;32mreturn\u001b[0m \u001b[0;34m(\u001b[0m\u001b[0;32mTrue\u001b[0m\u001b[0;34m,\u001b[0m \u001b[0mdata\u001b[0m\u001b[0;34m)\u001b[0m\u001b[0;34m\u001b[0m\u001b[0;34m\u001b[0m\u001b[0m\n\u001b[1;32m    726\u001b[0m         \u001b[0;32mexcept\u001b[0m \u001b[0mException\u001b[0m \u001b[0;32mas\u001b[0m \u001b[0me\u001b[0m\u001b[0;34m:\u001b[0m\u001b[0;34m\u001b[0m\u001b[0;34m\u001b[0m\u001b[0m\n",
      "\u001b[0;32m/opt/anaconda3/envs/dev/lib/python3.7/multiprocessing/queues.py\u001b[0m in \u001b[0;36mget\u001b[0;34m(self, block, timeout)\u001b[0m\n\u001b[1;32m    102\u001b[0m                 \u001b[0;32mif\u001b[0m \u001b[0mblock\u001b[0m\u001b[0;34m:\u001b[0m\u001b[0;34m\u001b[0m\u001b[0;34m\u001b[0m\u001b[0m\n\u001b[1;32m    103\u001b[0m                     \u001b[0mtimeout\u001b[0m \u001b[0;34m=\u001b[0m \u001b[0mdeadline\u001b[0m \u001b[0;34m-\u001b[0m \u001b[0mtime\u001b[0m\u001b[0;34m.\u001b[0m\u001b[0mmonotonic\u001b[0m\u001b[0;34m(\u001b[0m\u001b[0;34m)\u001b[0m\u001b[0;34m\u001b[0m\u001b[0;34m\u001b[0m\u001b[0m\n\u001b[0;32m--> 104\u001b[0;31m                     \u001b[0;32mif\u001b[0m \u001b[0;32mnot\u001b[0m \u001b[0mself\u001b[0m\u001b[0;34m.\u001b[0m\u001b[0m_poll\u001b[0m\u001b[0;34m(\u001b[0m\u001b[0mtimeout\u001b[0m\u001b[0;34m)\u001b[0m\u001b[0;34m:\u001b[0m\u001b[0;34m\u001b[0m\u001b[0;34m\u001b[0m\u001b[0m\n\u001b[0m\u001b[1;32m    105\u001b[0m                         \u001b[0;32mraise\u001b[0m \u001b[0mEmpty\u001b[0m\u001b[0;34m\u001b[0m\u001b[0;34m\u001b[0m\u001b[0m\n\u001b[1;32m    106\u001b[0m                 \u001b[0;32melif\u001b[0m \u001b[0;32mnot\u001b[0m \u001b[0mself\u001b[0m\u001b[0;34m.\u001b[0m\u001b[0m_poll\u001b[0m\u001b[0;34m(\u001b[0m\u001b[0;34m)\u001b[0m\u001b[0;34m:\u001b[0m\u001b[0;34m\u001b[0m\u001b[0;34m\u001b[0m\u001b[0m\n",
      "\u001b[0;32m/opt/anaconda3/envs/dev/lib/python3.7/multiprocessing/connection.py\u001b[0m in \u001b[0;36mpoll\u001b[0;34m(self, timeout)\u001b[0m\n\u001b[1;32m    255\u001b[0m         \u001b[0mself\u001b[0m\u001b[0;34m.\u001b[0m\u001b[0m_check_closed\u001b[0m\u001b[0;34m(\u001b[0m\u001b[0;34m)\u001b[0m\u001b[0;34m\u001b[0m\u001b[0;34m\u001b[0m\u001b[0m\n\u001b[1;32m    256\u001b[0m         \u001b[0mself\u001b[0m\u001b[0;34m.\u001b[0m\u001b[0m_check_readable\u001b[0m\u001b[0;34m(\u001b[0m\u001b[0;34m)\u001b[0m\u001b[0;34m\u001b[0m\u001b[0;34m\u001b[0m\u001b[0m\n\u001b[0;32m--> 257\u001b[0;31m         \u001b[0;32mreturn\u001b[0m \u001b[0mself\u001b[0m\u001b[0;34m.\u001b[0m\u001b[0m_poll\u001b[0m\u001b[0;34m(\u001b[0m\u001b[0mtimeout\u001b[0m\u001b[0;34m)\u001b[0m\u001b[0;34m\u001b[0m\u001b[0;34m\u001b[0m\u001b[0m\n\u001b[0m\u001b[1;32m    258\u001b[0m \u001b[0;34m\u001b[0m\u001b[0m\n\u001b[1;32m    259\u001b[0m     \u001b[0;32mdef\u001b[0m \u001b[0m__enter__\u001b[0m\u001b[0;34m(\u001b[0m\u001b[0mself\u001b[0m\u001b[0;34m)\u001b[0m\u001b[0;34m:\u001b[0m\u001b[0;34m\u001b[0m\u001b[0;34m\u001b[0m\u001b[0m\n",
      "\u001b[0;32m/opt/anaconda3/envs/dev/lib/python3.7/multiprocessing/connection.py\u001b[0m in \u001b[0;36m_poll\u001b[0;34m(self, timeout)\u001b[0m\n\u001b[1;32m    412\u001b[0m \u001b[0;34m\u001b[0m\u001b[0m\n\u001b[1;32m    413\u001b[0m     \u001b[0;32mdef\u001b[0m \u001b[0m_poll\u001b[0m\u001b[0;34m(\u001b[0m\u001b[0mself\u001b[0m\u001b[0;34m,\u001b[0m \u001b[0mtimeout\u001b[0m\u001b[0;34m)\u001b[0m\u001b[0;34m:\u001b[0m\u001b[0;34m\u001b[0m\u001b[0;34m\u001b[0m\u001b[0m\n\u001b[0;32m--> 414\u001b[0;31m         \u001b[0mr\u001b[0m \u001b[0;34m=\u001b[0m \u001b[0mwait\u001b[0m\u001b[0;34m(\u001b[0m\u001b[0;34m[\u001b[0m\u001b[0mself\u001b[0m\u001b[0;34m]\u001b[0m\u001b[0;34m,\u001b[0m \u001b[0mtimeout\u001b[0m\u001b[0;34m)\u001b[0m\u001b[0;34m\u001b[0m\u001b[0;34m\u001b[0m\u001b[0m\n\u001b[0m\u001b[1;32m    415\u001b[0m         \u001b[0;32mreturn\u001b[0m \u001b[0mbool\u001b[0m\u001b[0;34m(\u001b[0m\u001b[0mr\u001b[0m\u001b[0;34m)\u001b[0m\u001b[0;34m\u001b[0m\u001b[0;34m\u001b[0m\u001b[0m\n\u001b[1;32m    416\u001b[0m \u001b[0;34m\u001b[0m\u001b[0m\n",
      "\u001b[0;32m/opt/anaconda3/envs/dev/lib/python3.7/multiprocessing/connection.py\u001b[0m in \u001b[0;36mwait\u001b[0;34m(object_list, timeout)\u001b[0m\n\u001b[1;32m    918\u001b[0m \u001b[0;34m\u001b[0m\u001b[0m\n\u001b[1;32m    919\u001b[0m             \u001b[0;32mwhile\u001b[0m \u001b[0;32mTrue\u001b[0m\u001b[0;34m:\u001b[0m\u001b[0;34m\u001b[0m\u001b[0;34m\u001b[0m\u001b[0m\n\u001b[0;32m--> 920\u001b[0;31m                 \u001b[0mready\u001b[0m \u001b[0;34m=\u001b[0m \u001b[0mselector\u001b[0m\u001b[0;34m.\u001b[0m\u001b[0mselect\u001b[0m\u001b[0;34m(\u001b[0m\u001b[0mtimeout\u001b[0m\u001b[0;34m)\u001b[0m\u001b[0;34m\u001b[0m\u001b[0;34m\u001b[0m\u001b[0m\n\u001b[0m\u001b[1;32m    921\u001b[0m                 \u001b[0;32mif\u001b[0m \u001b[0mready\u001b[0m\u001b[0;34m:\u001b[0m\u001b[0;34m\u001b[0m\u001b[0;34m\u001b[0m\u001b[0m\n\u001b[1;32m    922\u001b[0m                     \u001b[0;32mreturn\u001b[0m \u001b[0;34m[\u001b[0m\u001b[0mkey\u001b[0m\u001b[0;34m.\u001b[0m\u001b[0mfileobj\u001b[0m \u001b[0;32mfor\u001b[0m \u001b[0;34m(\u001b[0m\u001b[0mkey\u001b[0m\u001b[0;34m,\u001b[0m \u001b[0mevents\u001b[0m\u001b[0;34m)\u001b[0m \u001b[0;32min\u001b[0m \u001b[0mready\u001b[0m\u001b[0;34m]\u001b[0m\u001b[0;34m\u001b[0m\u001b[0;34m\u001b[0m\u001b[0m\n",
      "\u001b[0;32m/opt/anaconda3/envs/dev/lib/python3.7/selectors.py\u001b[0m in \u001b[0;36mselect\u001b[0;34m(self, timeout)\u001b[0m\n\u001b[1;32m    413\u001b[0m         \u001b[0mready\u001b[0m \u001b[0;34m=\u001b[0m \u001b[0;34m[\u001b[0m\u001b[0;34m]\u001b[0m\u001b[0;34m\u001b[0m\u001b[0;34m\u001b[0m\u001b[0m\n\u001b[1;32m    414\u001b[0m         \u001b[0;32mtry\u001b[0m\u001b[0;34m:\u001b[0m\u001b[0;34m\u001b[0m\u001b[0;34m\u001b[0m\u001b[0m\n\u001b[0;32m--> 415\u001b[0;31m             \u001b[0mfd_event_list\u001b[0m \u001b[0;34m=\u001b[0m \u001b[0mself\u001b[0m\u001b[0;34m.\u001b[0m\u001b[0m_selector\u001b[0m\u001b[0;34m.\u001b[0m\u001b[0mpoll\u001b[0m\u001b[0;34m(\u001b[0m\u001b[0mtimeout\u001b[0m\u001b[0;34m)\u001b[0m\u001b[0;34m\u001b[0m\u001b[0;34m\u001b[0m\u001b[0m\n\u001b[0m\u001b[1;32m    416\u001b[0m         \u001b[0;32mexcept\u001b[0m \u001b[0mInterruptedError\u001b[0m\u001b[0;34m:\u001b[0m\u001b[0;34m\u001b[0m\u001b[0;34m\u001b[0m\u001b[0m\n\u001b[1;32m    417\u001b[0m             \u001b[0;32mreturn\u001b[0m \u001b[0mready\u001b[0m\u001b[0;34m\u001b[0m\u001b[0;34m\u001b[0m\u001b[0m\n",
      "\u001b[0;31mKeyboardInterrupt\u001b[0m: "
     ]
    }
   ],
   "source": [
    "learn.fit_one_cycle(7, lr_max=slice(3e-3, 4e-3))"
   ]
  },
  {
   "cell_type": "markdown",
   "metadata": {},
   "source": [
    "<div class='alert alert-block alert-info'><strong>From Here:</strong><br>\n",
    "    1. Get transforms on the GPU <br>\n",
    "    2. Once it's faster test signal and spectrogram augments for speed/efficacy<br>\n",
    "    3. Fine-tune and see how high we can push results on 250 speakers\n",
    "</div>\n"
   ]
  },
  {
   "cell_type": "markdown",
   "metadata": {},
   "source": [
    "# ESC-50"
   ]
  },
  {
   "cell_type": "code",
   "execution_count": null,
   "metadata": {},
   "outputs": [
    {
     "data": {
      "text/plain": [
       "(#2000) [/home/jupyter/.fastai/data/ESC-50/ESC-50-master/audio/1-60676-A-34.wav,/home/jupyter/.fastai/data/ESC-50/ESC-50-master/audio/5-179865-A-43.wav,/home/jupyter/.fastai/data/ESC-50/ESC-50-master/audio/2-117271-A-0.wav,/home/jupyter/.fastai/data/ESC-50/ESC-50-master/audio/1-155858-B-25.wav,/home/jupyter/.fastai/data/ESC-50/ESC-50-master/audio/4-173865-B-9.wav,/home/jupyter/.fastai/data/ESC-50/ESC-50-master/audio/2-104877-A-3.wav,/home/jupyter/.fastai/data/ESC-50/ESC-50-master/audio/1-11687-A-47.wav,/home/jupyter/.fastai/data/ESC-50/ESC-50-master/audio/4-144083-B-16.wav,/home/jupyter/.fastai/data/ESC-50/ESC-50-master/audio/5-238492-A-23.wav,/home/jupyter/.fastai/data/ESC-50/ESC-50-master/audio/1-43760-A-11.wav...]"
      ]
     },
     "execution_count": null,
     "metadata": {},
     "output_type": "execute_result"
    }
   ],
   "source": [
    "files_ESC50"
   ]
  },
  {
   "cell_type": "code",
   "execution_count": null,
   "metadata": {},
   "outputs": [],
   "source": [
    "PATH_AUDIO = pESC50/\"audio\"\n",
    "PATH_CSV  = pESC50/\"meta/esc50.csv\"\n",
    "DF = pd.read_csv(PATH_CSV)"
   ]
  },
  {
   "cell_type": "code",
   "execution_count": null,
   "metadata": {},
   "outputs": [
    {
     "data": {
      "text/plain": [
       "(1600, 400)"
      ]
     },
     "execution_count": null,
     "metadata": {},
     "output_type": "execute_result"
    }
   ],
   "source": [
    "VAL_FOLD = 5\n",
    "FILES_TRAIN = [f for f in DF.loc[DF['fold'] != VAL_FOLD].filename]\n",
    "FILES_VALID = [f for f in DF.loc[DF['fold'] == VAL_FOLD].filename]\n",
    "len(FILES_TRAIN), len(FILES_VALID)"
   ]
  },
  {
   "cell_type": "code",
   "execution_count": null,
   "metadata": {},
   "outputs": [
    {
     "data": {
      "text/html": [
       "<div>\n",
       "<style scoped>\n",
       "    .dataframe tbody tr th:only-of-type {\n",
       "        vertical-align: middle;\n",
       "    }\n",
       "\n",
       "    .dataframe tbody tr th {\n",
       "        vertical-align: top;\n",
       "    }\n",
       "\n",
       "    .dataframe thead th {\n",
       "        text-align: right;\n",
       "    }\n",
       "</style>\n",
       "<table border=\"1\" class=\"dataframe\">\n",
       "  <thead>\n",
       "    <tr style=\"text-align: right;\">\n",
       "      <th></th>\n",
       "      <th>filename</th>\n",
       "      <th>fold</th>\n",
       "      <th>target</th>\n",
       "      <th>category</th>\n",
       "      <th>esc10</th>\n",
       "      <th>src_file</th>\n",
       "      <th>take</th>\n",
       "    </tr>\n",
       "  </thead>\n",
       "  <tbody>\n",
       "    <tr>\n",
       "      <td>0</td>\n",
       "      <td>1-100032-A-0.wav</td>\n",
       "      <td>1</td>\n",
       "      <td>0</td>\n",
       "      <td>dog</td>\n",
       "      <td>True</td>\n",
       "      <td>100032</td>\n",
       "      <td>A</td>\n",
       "    </tr>\n",
       "    <tr>\n",
       "      <td>1</td>\n",
       "      <td>1-100038-A-14.wav</td>\n",
       "      <td>1</td>\n",
       "      <td>14</td>\n",
       "      <td>chirping_birds</td>\n",
       "      <td>False</td>\n",
       "      <td>100038</td>\n",
       "      <td>A</td>\n",
       "    </tr>\n",
       "    <tr>\n",
       "      <td>2</td>\n",
       "      <td>1-100210-A-36.wav</td>\n",
       "      <td>1</td>\n",
       "      <td>36</td>\n",
       "      <td>vacuum_cleaner</td>\n",
       "      <td>False</td>\n",
       "      <td>100210</td>\n",
       "      <td>A</td>\n",
       "    </tr>\n",
       "    <tr>\n",
       "      <td>3</td>\n",
       "      <td>1-100210-B-36.wav</td>\n",
       "      <td>1</td>\n",
       "      <td>36</td>\n",
       "      <td>vacuum_cleaner</td>\n",
       "      <td>False</td>\n",
       "      <td>100210</td>\n",
       "      <td>B</td>\n",
       "    </tr>\n",
       "    <tr>\n",
       "      <td>4</td>\n",
       "      <td>1-101296-A-19.wav</td>\n",
       "      <td>1</td>\n",
       "      <td>19</td>\n",
       "      <td>thunderstorm</td>\n",
       "      <td>False</td>\n",
       "      <td>101296</td>\n",
       "      <td>A</td>\n",
       "    </tr>\n",
       "  </tbody>\n",
       "</table>\n",
       "</div>"
      ],
      "text/plain": [
       "            filename  fold  target        category  esc10  src_file take\n",
       "0   1-100032-A-0.wav     1       0             dog   True    100032    A\n",
       "1  1-100038-A-14.wav     1      14  chirping_birds  False    100038    A\n",
       "2  1-100210-A-36.wav     1      36  vacuum_cleaner  False    100210    A\n",
       "3  1-100210-B-36.wav     1      36  vacuum_cleaner  False    100210    B\n",
       "4  1-101296-A-19.wav     1      19    thunderstorm  False    101296    A"
      ]
     },
     "execution_count": null,
     "metadata": {},
     "output_type": "execute_result"
    }
   ],
   "source": [
    "DF.head()"
   ]
  },
  {
   "cell_type": "code",
   "execution_count": null,
   "metadata": {},
   "outputs": [],
   "source": [
    "def ESC50Splitter(fold, df):\n",
    "    def _inner(files):\n",
    "        valid_idxs = [i for i,f in enumerate(files) if \\\n",
    "                      df[df[\"filename\"] == str(f).split('/')[-1]][\"fold\"].values[0] == fold]\n",
    "        train_idxs = [i for i, _ in enumerate(files) if i not in valid_idxs]\n",
    "        return (train_idxs, valid_idxs)\n",
    "    return _inner"
   ]
  },
  {
   "cell_type": "code",
   "execution_count": null,
   "metadata": {},
   "outputs": [],
   "source": [
    "split_fold_5 = ESC50Splitter(5, DF)"
   ]
  },
  {
   "cell_type": "code",
   "execution_count": null,
   "metadata": {},
   "outputs": [],
   "source": [
    "esc_labeler = lambda x: DF[DF[\"filename\"] == str(x).split('/')[-1]][\"category\"].values[0]\n",
    "auds = DataBlock(blocks=(AudioBlock, CategoryBlock),  \n",
    "                 get_items=get_audio_files, \n",
    "                 splitter=split_fold_5,\n",
    "                 get_y=esc_labeler)"
   ]
  },
  {
   "cell_type": "code",
   "execution_count": null,
   "metadata": {},
   "outputs": [
    {
     "data": {
      "text/plain": [
       "PosixPath('/home/jupyter/.fastai/data/ESC-50/ESC-50-master/audio/1-60676-A-34.wav')"
      ]
     },
     "execution_count": null,
     "metadata": {},
     "output_type": "execute_result"
    }
   ],
   "source": [
    "files_ESC50[0]"
   ]
  },
  {
   "cell_type": "code",
   "execution_count": null,
   "metadata": {},
   "outputs": [
    {
     "data": {
      "text/plain": [
       "'car_horn'"
      ]
     },
     "execution_count": null,
     "metadata": {},
     "output_type": "execute_result"
    }
   ],
   "source": [
    "esc_labeler(files_ESC50[1])"
   ]
  },
  {
   "cell_type": "code",
   "execution_count": null,
   "metadata": {},
   "outputs": [],
   "source": [
    "#crop 2s from the signal and turn it to a MelSpectrogram with no augmentation\n",
    "a2s = AudioToSpec(hop_length=512, n_mels=128, n_fft=1024, top_db=80, f_min=20., f_max=22050.)\n",
    "crop_2000ms = CropSignal(2000)\n",
    "tfms = [crop_2000ms, a2s]\n",
    "dbunch = auds.databunch(pESC50, item_tfms=tfms, bs=64)"
   ]
  },
  {
   "cell_type": "markdown",
   "metadata": {},
   "source": [
    "<div class = \"alert alert-block alert-warning\"><strong>Broken:</strong><br>Show batch is broken as it appears to just be grabbing the data from the sg, and not the sg object itself, but calls the sg's show method which relies on nchannels, which is an object of AudioSpectrogram (part of sg settings but we overrode getattr to make it work like an attribute). This means that, for the moment, the items cant show themselves for the batch, but training still works </div>\n"
   ]
  },
  {
   "cell_type": "code",
   "execution_count": null,
   "metadata": {},
   "outputs": [],
   "source": [
    "#dbunch_cropspec.show_batch(max_n=9)"
   ]
  },
  {
   "cell_type": "code",
   "execution_count": null,
   "metadata": {},
   "outputs": [
    {
     "data": {
      "text/plain": [
       "torch.Size([64, 1, 128, 173])"
      ]
     },
     "execution_count": null,
     "metadata": {},
     "output_type": "execute_result"
    }
   ],
   "source": [
    "dbunch.one_batch()[0].shape"
   ]
  },
  {
   "cell_type": "code",
   "execution_count": null,
   "metadata": {},
   "outputs": [],
   "source": [
    "# credit to Kevin Bird and Hiromi Suenaga for these two lines to adjust a CNN model to take 1 channel input\n",
    "def alter_learner(learn, channels=1):\n",
    "    learn.model[0][0].in_channels=channels\n",
    "    learn.model[0][0].weight = torch.nn.parameter.Parameter(learn.model[0][0].weight[:,1,:,:].unsqueeze(1))"
   ]
  },
  {
   "cell_type": "code",
   "execution_count": null,
   "metadata": {},
   "outputs": [
    {
     "ename": "AttributeError",
     "evalue": "'Learner' object has no attribute 'mixup'",
     "output_type": "error",
     "traceback": [
      "\u001b[0;31m---------------------------------------------------------------------------\u001b[0m",
      "\u001b[0;31mAttributeError\u001b[0m                            Traceback (most recent call last)",
      "\u001b[0;32m<ipython-input-36-ec31ba350ad8>\u001b[0m in \u001b[0;36m<module>\u001b[0;34m\u001b[0m\n\u001b[1;32m      2\u001b[0m                 \u001b[0mxresnet50\u001b[0m\u001b[0;34m(\u001b[0m\u001b[0;34m)\u001b[0m\u001b[0;34m,\u001b[0m\u001b[0;34m\u001b[0m\u001b[0;34m\u001b[0m\u001b[0m\n\u001b[1;32m      3\u001b[0m                 \u001b[0mtorch\u001b[0m\u001b[0;34m.\u001b[0m\u001b[0mnn\u001b[0m\u001b[0;34m.\u001b[0m\u001b[0mCrossEntropyLoss\u001b[0m\u001b[0;34m(\u001b[0m\u001b[0;34m)\u001b[0m\u001b[0;34m,\u001b[0m\u001b[0;34m\u001b[0m\u001b[0;34m\u001b[0m\u001b[0m\n\u001b[0;32m----> 4\u001b[0;31m                 metrics=[accuracy]).mixup()\n\u001b[0m\u001b[1;32m      5\u001b[0m \u001b[0mnchannels\u001b[0m \u001b[0;34m=\u001b[0m \u001b[0mdbunch\u001b[0m\u001b[0;34m.\u001b[0m\u001b[0mone_batch\u001b[0m\u001b[0;34m(\u001b[0m\u001b[0;34m)\u001b[0m\u001b[0;34m[\u001b[0m\u001b[0;36m0\u001b[0m\u001b[0;34m]\u001b[0m\u001b[0;34m.\u001b[0m\u001b[0mshape\u001b[0m\u001b[0;34m[\u001b[0m\u001b[0;36m1\u001b[0m\u001b[0;34m]\u001b[0m\u001b[0;34m\u001b[0m\u001b[0;34m\u001b[0m\u001b[0m\n\u001b[1;32m      6\u001b[0m \u001b[0malter_learner\u001b[0m\u001b[0;34m(\u001b[0m\u001b[0mlearn\u001b[0m\u001b[0;34m,\u001b[0m \u001b[0mnchannels\u001b[0m\u001b[0;34m)\u001b[0m\u001b[0;34m\u001b[0m\u001b[0;34m\u001b[0m\u001b[0m\n",
      "\u001b[0;31mAttributeError\u001b[0m: 'Learner' object has no attribute 'mixup'"
     ]
    }
   ],
   "source": [
    "learn = Learner(dbunch, \n",
    "                xresnet50(),\n",
    "                torch.nn.CrossEntropyLoss(), \n",
    "                metrics=[accuracy])\n",
    "nchannels = dbunch.one_batch()[0].shape[1]\n",
    "alter_learner(learn, nchannels)"
   ]
  },
  {
   "cell_type": "code",
   "execution_count": null,
   "metadata": {},
   "outputs": [
    {
     "data": {
      "image/png": "[encoded data removed]",
      "text/plain": [
       "<Figure size 432x288 with 1 Axes>"
      ]
     },
     "metadata": {
      "needs_background": "light"
     },
     "output_type": "display_data"
    }
   ],
   "source": [
    "learn.lr_find()"
   ]
  },
  {
   "cell_type": "code",
   "execution_count": null,
   "metadata": {},
   "outputs": [
    {
     "name": "stdout",
     "output_type": "stream",
     "text": [
      "(#5) [0,4.742748260498047,3.433241605758667,0.13249999284744263,00:17]\n",
      "(#5) [1,3.5556559562683105,4.990420341491699,0.11249999701976776,00:12]\n",
      "(#5) [2,3.0659592151641846,3.1462185382843018,0.2150000035762787,00:12]\n",
      "(#5) [3,2.619236946105957,2.3852078914642334,0.33250001072883606,00:12]\n",
      "(#5) [4,2.2361373901367188,2.5636541843414307,0.32499998807907104,00:12]\n",
      "(#5) [5,1.9014582633972168,2.0571610927581787,0.4350000023841858,00:12]\n",
      "(#5) [6,1.6128405332565308,1.7362765073776245,0.5149999856948853,00:12]\n",
      "(#5) [7,1.3629419803619385,1.5534389019012451,0.5649999976158142,00:12]\n",
      "(#5) [8,1.1459509134292603,1.3968102931976318,0.6050000190734863,00:12]\n",
      "(#5) [9,1.0005580186843872,1.4534624814987183,0.6100000143051147,00:12]\n"
     ]
    }
   ],
   "source": [
    "learn.fit_one_cycle(10, lr_max=2e-3)"
   ]
  },
  {
   "cell_type": "code",
   "execution_count": null,
   "metadata": {},
   "outputs": [
    {
     "data": {
      "image/png": "[encoded data removed]",
      "text/plain": [
       "<Figure size 432x288 with 1 Axes>"
      ]
     },
     "metadata": {
      "needs_background": "light"
     },
     "output_type": "display_data"
    }
   ],
   "source": [
    "learn.lr_find()"
   ]
  },
  {
   "cell_type": "code",
   "execution_count": null,
   "metadata": {},
   "outputs": [
    {
     "name": "stdout",
     "output_type": "stream",
     "text": [
      "(#5) [0,0.7901014089584351,1.502400517463684,0.6050000190734863,00:12]\n",
      "(#5) [1,0.816780686378479,1.7677453756332397,0.5049999952316284,00:12]\n",
      "(#5) [2,0.8859437108039856,1.8608779907226562,0.5024999976158142,00:12]\n",
      "(#5) [3,0.8878102898597717,1.8241270780563354,0.5024999976158142,00:12]\n",
      "(#5) [4,0.8428448438644409,1.7408032417297363,0.5350000262260437,00:12]\n",
      "(#5) [5,0.7749873399734497,1.3923873901367188,0.6025000214576721,00:12]\n",
      "(#5) [6,0.6915755867958069,1.335370659828186,0.6200000047683716,00:12]\n",
      "(#5) [7,0.6089401841163635,1.2763252258300781,0.6499999761581421,00:12]\n",
      "(#5) [8,0.5517759323120117,1.223260760307312,0.6700000166893005,00:12]\n",
      "(#5) [9,0.503037691116333,1.2118808031082153,0.6725000143051147,00:12]\n"
     ]
    }
   ],
   "source": [
    "learn.fit_one_cycle(10, lr_max=slice(8e-4))"
   ]
  },
  {
   "cell_type": "code",
   "execution_count": null,
   "metadata": {},
   "outputs": [
    {
     "name": "stdout",
     "output_type": "stream",
     "text": [
      "(#5) [0,4.611145496368408,4.05537223815918,0.05999999865889549,00:07]\n",
      "(#5) [1,3.5815956592559814,6.728524208068848,0.09000000357627869,00:06]\n",
      "(#5) [2,3.0904316902160645,4.964371204376221,0.0949999988079071,00:05]\n",
      "(#5) [3,2.703627824783325,4.748586177825928,0.12999999523162842,00:05]\n",
      "(#5) [4,2.3473732471466064,2.2155497074127197,0.4000000059604645,00:06]\n",
      "(#5) [5,2.0084071159362793,2.1762659549713135,0.4050000011920929,00:06]\n",
      "(#5) [6,1.7111304998397827,2.0884854793548584,0.4749999940395355,00:06]\n",
      "(#5) [7,1.4681951999664307,1.5786409378051758,0.574999988079071,00:06]\n",
      "(#5) [8,1.2606219053268433,1.3570386171340942,0.6200000047683716,00:05]\n",
      "(#5) [9,1.0988014936447144,1.4073833227157593,0.5975000262260437,00:05]\n"
     ]
    }
   ],
   "source": [
    "learn.fit_one_cycle(10, lr_max=2e-3)"
   ]
  },
  {
   "cell_type": "code",
   "execution_count": null,
   "metadata": {},
   "outputs": [
    {
     "name": "stdout",
     "output_type": "stream",
     "text": [
      "(#5) [0,0.8529038429260254,1.4644263982772827,0.6025000214576721,00:06]\n",
      "(#5) [1,1.0374728441238403,3.1434755325317383,0.36250001192092896,00:06]\n",
      "(#5) [2,1.364072322845459,3.325856924057007,0.3149999976158142,00:06]\n",
      "(#5) [3,1.3460434675216675,2.4823246002197266,0.42250001430511475,00:05]\n",
      "(#5) [4,1.214269757270813,1.9585118293762207,0.47999998927116394,00:06]\n",
      "(#5) [5,1.0606365203857422,1.850061297416687,0.5274999737739563,00:06]\n",
      "(#5) [6,0.9020562171936035,1.343560814857483,0.6100000143051147,00:06]\n",
      "(#5) [7,0.7671628594398499,1.3671907186508179,0.6225000023841858,00:06]\n",
      "(#5) [8,0.6507179141044617,1.2855066061019897,0.6449999809265137,00:06]\n",
      "(#5) [9,0.5612492561340332,1.1975786685943604,0.6575000286102295,00:05]\n"
     ]
    }
   ],
   "source": [
    "learn.fit_one_cycle(10, lr_max=1e-2)"
   ]
  },
  {
   "cell_type": "markdown",
   "metadata": {},
   "source": [
    "## Rocket on ESC-50"
   ]
  },
  {
   "cell_type": "code",
   "execution_count": null,
   "metadata": {},
   "outputs": [],
   "source": [
    "class ROCKET(nn.Module):\n",
    "    def __init__(self, c_in=1, seq_len=1000, n_kernels=10000, kss=[7, 9, 11]):\n",
    "        '''\n",
    "        ROCKET is a GPU Pytorch implementation of the ROCKET methods generate_kernels \n",
    "        and apply_kernels that can be used  with univariate and multivariate time series.\n",
    "        Input: is a 3d torch tensor of type torch.float32. When used with univariate TS, \n",
    "        make sure you transform the 2d to 3d by adding unsqueeze(1).\n",
    "        c_in: number of channels or features. For univariate c_in is 1.\n",
    "        seq_len: sequence length\n",
    "        '''\n",
    "        super().__init__()\n",
    "        kss = [ks for ks in kss if ks < seq_len]\n",
    "        make_convs = nn.ModuleList()\n",
    "        for i in range(n_kernels):\n",
    "            ks = int(np.random.choice(kss))\n",
    "            dilation = 2**np.random.uniform(0, np.log2((seq_len - 1) // (ks - 1)))\n",
    "            padding = int((ks - 1) * dilation // 2) if np.random.randint(2) == 1 else 0\n",
    "            weight = torch.randn(1, c_in, ks)\n",
    "            weight -= weight.mean()\n",
    "            bias = 2 * (torch.rand(1) - .5)\n",
    "            layer = nn.Conv1d(c_in, 1, ks, padding=2 * padding, dilation=int(dilation), bias=True)\n",
    "            layer.weight = torch.nn.Parameter(weight, requires_grad=False)\n",
    "            layer.bias = torch.nn.Parameter(bias, requires_grad=False)\n",
    "            make_convs.append(layer)\n",
    "        self.convs = make_convs\n",
    "\n",
    "    def forward(self, x):\n",
    "        output = []\n",
    "        for conv in self.convs:\n",
    "            out = conv(x)\n",
    "            _max = out.max(dim=-1).values\n",
    "            _ppv = torch.gt(out, 0).sum(dim=-1).float() / out.shape[-1]\n",
    "            cat = torch.cat((_max, _ppv), dim=-1)\n",
    "            output.append(cat)\n",
    "        output = torch.cat(output, dim=-1)\n",
    "        return output"
   ]
  },
  {
   "cell_type": "code",
   "execution_count": null,
   "metadata": {},
   "outputs": [],
   "source": [
    "a2s = AudioToSpec(hop_length=512, n_mels=128, n_fft=1024, top_db=80, f_min=20., f_max=22050.)\n",
    "crop_2000ms = CropSignal(2000)\n",
    "tfms = [crop_2000ms, a2s]\n",
    "dbunch = auds.databunch(pESC50, item_tfms=tfms, bs=1600)"
   ]
  },
  {
   "cell_type": "code",
   "execution_count": null,
   "metadata": {},
   "outputs": [
    {
     "name": "stdout",
     "output_type": "stream",
     "text": [
      "torch.Size([400])\n"
     ]
    }
   ],
   "source": [
    "x_train, y_train = dbunch.train_dl.one_batch()\n",
    "x_valid, y_valid = dbunch.valid_dl.one_batch()\n",
    "print(y_train.shape, y_valid.shape)"
   ]
  },
  {
   "cell_type": "code",
   "execution_count": null,
   "metadata": {},
   "outputs": [],
   "source": [
    "x_train = x_train.squeeze(1).cuda()\n",
    "x_valid = x_valid.squeeze(1).cuda()"
   ]
  },
  {
   "cell_type": "code",
   "execution_count": null,
   "metadata": {},
   "outputs": [],
   "source": [
    "mdl_tst = ROCKET(c_in=x_train.shape[1], seq_len=x_train.shape[2], n_kernels=10000)\n",
    "mdl_tst.cuda();"
   ]
  },
  {
   "cell_type": "code",
   "execution_count": null,
   "metadata": {},
   "outputs": [
    {
     "name": "stdout",
     "output_type": "stream",
     "text": [
      "91.41890 seconds to process\n"
     ]
    }
   ],
   "source": [
    "import time\n",
    "\n",
    "t = time.time()\n",
    "feat = mdl_tst(x_train)\n",
    "torch.cuda.synchronize()\n",
    "print(f\"{time.time() - t:.5f} seconds to process\")"
   ]
  },
  {
   "cell_type": "code",
   "execution_count": null,
   "metadata": {},
   "outputs": [],
   "source": [
    "from sklearn.linear_model import RidgeClassifierCV\n",
    "classifier = RidgeClassifierCV(alphas=np.logspace(-8, 8, 17), normalize=True)"
   ]
  },
  {
   "cell_type": "code",
   "execution_count": null,
   "metadata": {},
   "outputs": [],
   "source": [
    "classifier.fit(feat.cpu(), y_train.cpu());"
   ]
  },
  {
   "cell_type": "code",
   "execution_count": null,
   "metadata": {},
   "outputs": [],
   "source": [
    "feat_valid = mdl_tst(x_valid)"
   ]
  },
  {
   "cell_type": "code",
   "execution_count": null,
   "metadata": {},
   "outputs": [
    {
     "data": {
      "text/plain": [
       "0.4925"
      ]
     },
     "execution_count": null,
     "metadata": {},
     "output_type": "execute_result"
    }
   ],
   "source": [
    "classifier.score(feat_valid.cpu(), y_valid.cpu())"
   ]
  },
  {
   "cell_type": "markdown",
   "metadata": {},
   "source": [
    "### Attempt with different settings"
   ]
  },
  {
   "cell_type": "code",
   "execution_count": null,
   "metadata": {},
   "outputs": [],
   "source": [
    "a2s = AudioToSpec(hop_length=256, n_mels=128, n_fft=2560, top_db=100, f_min=0., f_max=22050.)\n",
    "crop_5000ms = CropSignal(5000)\n",
    "resampler = Resample(8000)\n",
    "silencer = RemoveSilence()\n",
    "tfms = [silencer, crop_5000ms, a2s]\n",
    "dbunch = auds.databunch(pESC50, item_tfms=tfms, bs=1600)"
   ]
  },
  {
   "cell_type": "code",
   "execution_count": null,
   "metadata": {},
   "outputs": [
    {
     "name": "stdout",
     "output_type": "stream",
     "text": [
      "torch.Size([1600]) torch.Size([400])\n"
     ]
    }
   ],
   "source": [
    "x_train, y_train = dbunch.train_dl.one_batch()\n",
    "x_valid, y_valid = dbunch.valid_dl.one_batch()\n",
    "print(y_train.shape, y_valid.shape)"
   ]
  },
  {
   "cell_type": "code",
   "execution_count": null,
   "metadata": {},
   "outputs": [],
   "source": [
    "x_train = x_train.squeeze(1).cuda()\n",
    "x_valid = x_valid.squeeze(1).cuda()"
   ]
  },
  {
   "cell_type": "code",
   "execution_count": null,
   "metadata": {},
   "outputs": [],
   "source": [
    "mdl_tst = ROCKET(c_in=x_train.shape[1], seq_len=x_train.shape[2], n_kernels=1000)\n",
    "mdl_tst.cuda();"
   ]
  },
  {
   "cell_type": "code",
   "execution_count": null,
   "metadata": {},
   "outputs": [
    {
     "name": "stdout",
     "output_type": "stream",
     "text": [
      "114.23677 seconds to process\n"
     ]
    }
   ],
   "source": [
    "import time\n",
    "\n",
    "t = time.time()\n",
    "feat = mdl_tst(x_train)\n",
    "torch.cuda.synchronize()\n",
    "print(f\"{time.time() - t:.5f} seconds to process\")"
   ]
  },
  {
   "cell_type": "code",
   "execution_count": null,
   "metadata": {},
   "outputs": [],
   "source": [
    "from sklearn.linear_model import RidgeClassifierCV\n",
    "classifier = RidgeClassifierCV(alphas=np.logspace(-8, 8, 17), normalize=True)"
   ]
  },
  {
   "cell_type": "code",
   "execution_count": null,
   "metadata": {},
   "outputs": [],
   "source": [
    "classifier.fit(feat.cpu(), y_train.cpu());"
   ]
  },
  {
   "cell_type": "code",
   "execution_count": null,
   "metadata": {},
   "outputs": [],
   "source": [
    "feat_valid = mdl_tst(x_valid)"
   ]
  },
  {
   "cell_type": "code",
   "execution_count": null,
   "metadata": {},
   "outputs": [
    {
     "data": {
      "text/plain": [
       "0.5575"
      ]
     },
     "execution_count": null,
     "metadata": {},
     "output_type": "execute_result"
    }
   ],
   "source": [
    "classifier.score(feat_valid.cpu(), y_valid.cpu())"
   ]
  },
  {
   "cell_type": "code",
   "execution_count": null,
   "metadata": {},
   "outputs": [],
   "source": []
  },
  {
   "cell_type": "markdown",
   "metadata": {},
   "source": [
    "## Raw Audio on ESC50"
   ]
  },
  {
   "cell_type": "markdown",
   "metadata": {},
   "source": [
    "## Training a raw audio model"
   ]
  },
  {
   "cell_type": "code",
   "execution_count": null,
   "metadata": {},
   "outputs": [],
   "source": [
    "class Wav2Letter(nn.Module):\n",
    "    def __init__(self):\n",
    "        super().__init__()\n",
    "        self.conv1 = nn.Sequential(\n",
    "            nn.Conv1d(1, 250,  kernel_size=250, stride=160),\n",
    "            nn.BatchNorm1d(250),\n",
    "            nn.ReLU(),\n",
    "        )\n",
    "        self.conv2 = nn.Sequential(\n",
    "            nn.Conv1d(250, 250,  kernel_size=48, stride=2),\n",
    "            nn.BatchNorm1d(250),\n",
    "            nn.ReLU(),\n",
    "        )\n",
    "        self.conv3 = nn.Sequential(\n",
    "            nn.Conv1d(250, 250,  kernel_size=8, stride=1),\n",
    "            nn.BatchNorm1d(250),\n",
    "            nn.ReLU(),\n",
    "        )\n",
    "        self.conv9 = nn.Sequential(\n",
    "            nn.Conv1d(250, 2000,  kernel_size=34, stride=1),\n",
    "            nn.BatchNorm1d(2000),\n",
    "            nn.ReLU(),\n",
    "        )\n",
    "        self.conv10 = nn.Sequential(\n",
    "            nn.Conv1d(2000, 2000,  kernel_size=1, stride=1),\n",
    "            nn.BatchNorm1d(2000),\n",
    "            nn.ReLU(),\n",
    "        )\n",
    "    \n",
    "        self.conv11 = nn.Conv1d(2000,10, kernel_size=1, stride=1)\n",
    "    def forward(self, t):\n",
    "        #print(\"Shape befor conv1\", t.shape)\n",
    "        t = self.conv1(t)\n",
    "        #print(\"Shape after conv1\", t.shape)\n",
    "        t = self.conv2(t)\n",
    "        #print(\"Shape after conv2\", t.shape)\n",
    "        for i in range(6):\n",
    "            t = self.conv3(t)\n",
    "            #print(\"Shape after conv\", i+3, t.shape)\n",
    "            t = F.relu(t)\n",
    "        t = self.conv9(t)\n",
    "        #print(\"Shape after conv9\", t.shape)\n",
    "        t = F.relu(t)\n",
    "        t = self.conv10(t)\n",
    "        #print(\"Shape after conv10\", t.shape)\n",
    "        t = self.conv11(t).squeeze(-1)\n",
    "        #print(\"Shape after conv11\", t.shape)\n",
    "        return t"
   ]
  },
  {
   "cell_type": "code",
   "execution_count": null,
   "metadata": {},
   "outputs": [],
   "source": [
    "class SampleCNN(nn.Module):\n",
    "    def __init__(self):\n",
    "        super(SampleCNN, self).__init__()\n",
    "\n",
    "        # 59049 x 1\n",
    "        self.conv1 = nn.Sequential(\n",
    "            nn.Conv1d(1, 128, kernel_size=3, stride=3, padding=0),\n",
    "            nn.BatchNorm1d(128),\n",
    "            nn.ReLU())\n",
    "        # 19683 x 128\n",
    "        self.conv2 = nn.Sequential(\n",
    "            nn.Conv1d(128, 128, kernel_size=3, stride=1, padding=1),\n",
    "            nn.BatchNorm1d(128),\n",
    "            nn.ReLU(),\n",
    "            nn.MaxPool1d(3, stride=3))\n",
    "        # 6561 x 128\n",
    "        self.conv3 = nn.Sequential(\n",
    "            nn.Conv1d(128, 128, kernel_size=3, stride=1, padding=1),\n",
    "            nn.BatchNorm1d(128),\n",
    "            nn.ReLU(),\n",
    "            nn.MaxPool1d(3,stride=3))\n",
    "        # 2187 x 128\n",
    "        self.conv4 = nn.Sequential(\n",
    "            nn.Conv1d(128, 256, kernel_size=3, stride=1, padding=1),\n",
    "            nn.BatchNorm1d(256),\n",
    "            nn.ReLU(),\n",
    "            nn.MaxPool1d(3,stride=3))\n",
    "        # 729 x 256\n",
    "        self.conv5 = nn.Sequential(\n",
    "            nn.Conv1d(256, 256, kernel_size=3, stride=1, padding=1),\n",
    "            nn.BatchNorm1d(256),\n",
    "            nn.ReLU(),\n",
    "            nn.MaxPool1d(3,stride=3))\n",
    "        # 243 x 256\n",
    "        self.conv6 = nn.Sequential(\n",
    "            nn.Conv1d(256, 256, kernel_size=3, stride=1, padding=1),\n",
    "            nn.BatchNorm1d(256),\n",
    "            nn.ReLU(),\n",
    "            nn.MaxPool1d(3,stride=3),\n",
    "            nn.Dropout(0./5))\n",
    "        # 81 x 256\n",
    "        self.conv7 = nn.Sequential(\n",
    "            nn.Conv1d(256, 256, kernel_size=3, stride=1, padding=1),\n",
    "            nn.BatchNorm1d(256),\n",
    "            nn.ReLU(),\n",
    "            nn.MaxPool1d(3,stride=3))\n",
    "        # 27 x 256\n",
    "        self.conv8 = nn.Sequential(\n",
    "            nn.Conv1d(256, 256, kernel_size=3, stride=1, padding=1),\n",
    "            nn.BatchNorm1d(256),\n",
    "            nn.ReLU(),\n",
    "            nn.MaxPool1d(3,stride=3))\n",
    "        # 9 x 256\n",
    "        self.conv9 = nn.Sequential(\n",
    "            nn.Conv1d(256, 256, kernel_size=3, stride=1, padding=1),\n",
    "            nn.BatchNorm1d(256),\n",
    "            nn.ReLU(),\n",
    "            nn.MaxPool1d(3,stride=3))\n",
    "        # 3 x 256\n",
    "        self.conv10 = nn.Sequential(\n",
    "            nn.Conv1d(256, 512, kernel_size=3, stride=1, padding=1),\n",
    "            nn.BatchNorm1d(512),\n",
    "            nn.ReLU(),\n",
    "            nn.MaxPool1d(3,stride=3))\n",
    "        # 1 x 512 \n",
    "        self.conv11 = nn.Sequential(\n",
    "            nn.Conv1d(512, 512, kernel_size=3, stride=1, padding=1),\n",
    "            nn.BatchNorm1d(512),\n",
    "            nn.ReLU(),\n",
    "            nn.Dropout(0.5))\n",
    "        # 1 x 512 \n",
    "        self.fc1 = nn.Linear(512, 200)\n",
    "        self.fc2 = nn.Linear(200,50)\n",
    "        self.activation = nn.Sigmoid()\n",
    "    \n",
    "    def forward(self, x):\n",
    "        # input x : 23 x 59049 x 1\n",
    "        # expected conv1d input : minibatch_size x num_channel x width\n",
    "\n",
    "        x = x.view(x.shape[0], 1,-1)\n",
    "        # x : 23 x 1 x 59049\n",
    "        #print(x.shape)\n",
    "        out = self.conv1(x)\n",
    "        #print(out.shape)\n",
    "        out = self.conv2(out)\n",
    "        #print(out.shape)\n",
    "        out = self.conv3(out)\n",
    "        #print(out.shape)\n",
    "        out = self.conv4(out)\n",
    "        #print(out.shape)\n",
    "        out = self.conv5(out)\n",
    "        #print(out.shape)\n",
    "        out = self.conv6(out)\n",
    "        #print(out.shape)\n",
    "        out = self.conv7(out)\n",
    "        #print(out.shape)\n",
    "        out = self.conv8(out)\n",
    "        #print(out.shape)\n",
    "        out = self.conv9(out)\n",
    "        #print(out.shape)\n",
    "        out = self.conv10(out)\n",
    "        #print(out.shape)\n",
    "        out = self.conv11(out) \n",
    "        #print(out.shape)\n",
    "        out = out.view(x.shape[0], out.size(1) * out.size(2))\n",
    "        out = self.fc1(out)\n",
    "        #print(out.shape)\n",
    "        out = self.fc2(out)\n",
    "        #print(out.shape)\n",
    "        return out\n",
    "        \n",
    "        #logit = self.fc(out)\n",
    "\n",
    "        #logit = self.activation(logit)\n",
    "\n",
    "        #return logit"
   ]
  },
  {
   "cell_type": "code",
   "execution_count": null,
   "metadata": {},
   "outputs": [],
   "source": [
    "oa_esc50 = OpenAudio(files_ESC50)"
   ]
  },
  {
   "cell_type": "code",
   "execution_count": null,
   "metadata": {},
   "outputs": [],
   "source": [
    "esc_labeler = lambda x: DF[DF[\"filename\"] == str(x).split('/')[-1]][\"category\"].values[0]\n",
    "auds = DataBlock(blocks=(AudioBlock, CategoryBlock),  \n",
    "                 get_items=get_audio_files, \n",
    "                 splitter=split_fold_5,\n",
    "                 get_y=esc_labeler)"
   ]
  },
  {
   "cell_type": "code",
   "execution_count": null,
   "metadata": {},
   "outputs": [],
   "source": [
    "def GetSig():\n",
    "    def _inner(ai:AudioItem)->AudioItem:\n",
    "        return ai.sig\n",
    "    return _inner"
   ]
  },
  {
   "cell_type": "code",
   "execution_count": null,
   "metadata": {},
   "outputs": [],
   "source": [
    "crop_3700ms = CropSignal(3700)\n",
    "resampler = Resample(16000)\n",
    "tfms = [resampler, crop_3700ms, GetSig()]\n",
    "dbunch = auds.databunch(pESC50, item_tfms=tfms, bs=48)"
   ]
  },
  {
   "cell_type": "code",
   "execution_count": null,
   "metadata": {},
   "outputs": [
    {
     "data": {
      "text/plain": [
       "torch.Size([48, 1, 59200])"
      ]
     },
     "execution_count": null,
     "metadata": {},
     "output_type": "execute_result"
    }
   ],
   "source": [
    "dbunch.one_batch()[0].shape"
   ]
  },
  {
   "cell_type": "code",
   "execution_count": null,
   "metadata": {},
   "outputs": [],
   "source": [
    "model_cnn = SampleCNN().cuda()"
   ]
  },
  {
   "cell_type": "code",
   "execution_count": null,
   "metadata": {},
   "outputs": [],
   "source": [
    "learn = Learner(dbunch, \n",
    "                model_cnn,\n",
    "                torch.nn.CrossEntropyLoss(), \n",
    "                metrics=[accuracy])\n",
    "#nchannels = dbunch.one_batch()[0].shape[1]\n",
    "#alter_learner(learn, nchannels)"
   ]
  },
  {
   "cell_type": "code",
   "execution_count": null,
   "metadata": {},
   "outputs": [
    {
     "data": {
      "image/png": "[encoded data removed]",
      "text/plain": [
       "<Figure size 432x288 with 1 Axes>"
      ]
     },
     "metadata": {
      "needs_background": "light"
     },
     "output_type": "display_data"
    }
   ],
   "source": [
    "learn.lr_find()"
   ]
  },
  {
   "cell_type": "code",
   "execution_count": null,
   "metadata": {},
   "outputs": [
    {
     "name": "stdout",
     "output_type": "stream",
     "text": [
      "(#5) [0,5.045242786407471,4.030633449554443,0.02250000089406967,00:17]\n",
      "(#5) [1,4.91574239730835,4.1141228675842285,0.027499999850988388,00:16]\n",
      "(#5) [2,4.561268329620361,3.971543550491333,0.032499998807907104,00:16]\n",
      "(#5) [3,4.3696064949035645,9.048896789550781,0.017500000074505806,00:16]\n",
      "(#5) [4,4.161566734313965,3.7582614421844482,0.042500000447034836,00:16]\n",
      "(#5) [5,3.898627996444702,4.057292938232422,0.05249999836087227,00:16]\n",
      "(#5) [6,3.7431344985961914,3.4990482330322266,0.08250000327825546,00:16]\n",
      "(#5) [7,3.5861778259277344,3.3607282638549805,0.05999999865889549,00:16]\n",
      "(#5) [8,3.4843759536743164,3.991708755493164,0.09000000357627869,00:16]\n",
      "(#5) [9,3.384648323059082,3.8111963272094727,0.0949999988079071,00:16]\n"
     ]
    }
   ],
   "source": [
    "learn.fit(10, lr=1e-2)"
   ]
  },
  {
   "cell_type": "code",
   "execution_count": null,
   "metadata": {},
   "outputs": [
    {
     "name": "stdout",
     "output_type": "stream",
     "text": [
      "(#5) [0,3.143995523452759,3.5211966037750244,0.125,00:16]\n",
      "(#5) [1,3.0991389751434326,3.279263973236084,0.10999999940395355,00:16]\n",
      "(#5) [2,3.0614304542541504,3.1434237957000732,0.13750000298023224,00:16]\n",
      "(#5) [3,3.0367743968963623,3.110544204711914,0.13249999284744263,00:16]\n",
      "(#5) [4,2.9900922775268555,3.9071059226989746,0.11999999731779099,00:16]\n",
      "(#5) [5,2.938640594482422,3.1118788719177246,0.14249999821186066,00:16]\n",
      "(#5) [6,2.911473512649536,3.0811212062835693,0.17249999940395355,00:16]\n",
      "(#5) [7,2.875178575515747,3.087613105773926,0.15000000596046448,00:16]\n",
      "(#5) [8,2.8650314807891846,2.923142671585083,0.18000000715255737,00:16]\n",
      "(#5) [9,2.8121325969696045,3.0159571170806885,0.18250000476837158,00:16]\n"
     ]
    }
   ],
   "source": [
    "learn.fit(10, lr=5e-3)"
   ]
  },
  {
   "cell_type": "code",
   "execution_count": null,
   "metadata": {},
   "outputs": [
    {
     "name": "stdout",
     "output_type": "stream",
     "text": [
      "(#5) [0,2.70332670211792,3.1430068016052246,0.2224999964237213,00:16]\n",
      "(#5) [1,2.728884696960449,2.919307231903076,0.20250000059604645,00:16]\n",
      "(#5) [2,2.703312873840332,2.925222158432007,0.19249999523162842,00:16]\n",
      "(#5) [3,2.6629347801208496,3.3038580417633057,0.12999999523162842,00:16]\n",
      "(#5) [4,2.644568920135498,2.822532892227173,0.20250000059604645,00:16]\n",
      "(#5) [5,2.615952253341675,2.7506661415100098,0.25,00:16]\n",
      "(#5) [6,2.6225991249084473,2.9884305000305176,0.18000000715255737,00:16]\n",
      "(#5) [7,2.614938497543335,3.0330255031585693,0.17249999940395355,00:16]\n",
      "(#5) [8,2.5629096031188965,2.6613845825195312,0.25999999046325684,00:16]\n",
      "(#5) [9,2.4885051250457764,2.6975371837615967,0.2574999928474426,00:16]\n",
      "(#5) [10,2.4370086193084717,2.8612585067749023,0.2775000035762787,00:16]\n",
      "(#5) [11,2.384814500808716,3.6821365356445312,0.2175000011920929,00:16]\n",
      "(#5) [12,2.3633885383605957,2.5217320919036865,0.30250000953674316,00:16]\n",
      "(#5) [13,2.3145856857299805,2.655489444732666,0.30000001192092896,00:16]\n",
      "(#5) [14,2.259122133255005,2.480130195617676,0.32749998569488525,00:16]\n",
      "(#5) [15,2.261143922805786,2.938570976257324,0.2475000023841858,00:16]\n",
      "(#5) [16,2.2468857765197754,2.817953586578369,0.2849999964237213,00:16]\n",
      "(#5) [17,2.201894760131836,2.5994873046875,0.33500000834465027,00:16]\n",
      "(#5) [18,2.1542739868164062,2.5271100997924805,0.3100000023841858,00:16]\n",
      "(#5) [19,2.0994679927825928,2.5280776023864746,0.35249999165534973,00:16]\n",
      "(#5) [20,2.076265335083008,2.6430835723876953,0.29499998688697815,00:16]\n",
      "(#5) [21,2.094977378845215,2.4293646812438965,0.3799999952316284,00:16]\n",
      "(#5) [22,2.0704996585845947,2.605081558227539,0.3425000011920929,00:16]\n",
      "(#5) [23,2.0214741230010986,2.316521644592285,0.38749998807907104,00:16]\n",
      "(#5) [24,1.9580649137496948,3.2523763179779053,0.33250001072883606,00:16]\n",
      "(#5) [25,1.9277980327606201,2.824876070022583,0.3474999964237213,00:16]\n",
      "(#5) [26,1.8764030933380127,2.3120784759521484,0.4000000059604645,00:16]\n",
      "(#5) [27,1.846064567565918,2.2690834999084473,0.4099999964237213,00:16]\n",
      "(#5) [28,1.8051620721817017,2.4183578491210938,0.33500000834465027,00:16]\n",
      "(#5) [29,1.7672761678695679,2.4836935997009277,0.3474999964237213,00:16]\n",
      "(#5) [30,1.7553772926330566,2.694079875946045,0.36000001430511475,00:16]\n",
      "(#5) [31,1.6976430416107178,2.0972280502319336,0.4424999952316284,00:16]\n",
      "(#5) [32,1.717592477798462,2.356168270111084,0.4074999988079071,00:16]\n",
      "(#5) [33,1.6766523122787476,2.2031853199005127,0.41749998927116394,00:16]\n",
      "(#5) [34,1.6572431325912476,2.5518877506256104,0.3700000047683716,00:16]\n",
      "(#5) [35,1.6480305194854736,2.33853816986084,0.39500001072883606,00:16]\n",
      "(#5) [36,1.6484315395355225,2.1811330318450928,0.41999998688697815,00:16]\n",
      "(#5) [37,1.6110560894012451,2.2524638175964355,0.41499999165534973,00:16]\n",
      "(#5) [38,1.6154412031173706,2.574817419052124,0.3725000023841858,00:16]\n",
      "(#5) [39,1.606218934059143,2.435819625854492,0.42750000953674316,00:16]\n",
      "(#5) [40,1.5840600728988647,2.27949595451355,0.38749998807907104,00:16]\n",
      "(#5) [41,1.5661252737045288,2.253690481185913,0.41499999165534973,00:16]\n",
      "(#5) [42,1.5120655298233032,2.2954726219177246,0.4050000011920929,00:16]\n",
      "(#5) [43,1.4922844171524048,2.397826910018921,0.4000000059604645,00:16]\n",
      "(#5) [44,1.4637186527252197,2.544822931289673,0.38749998807907104,00:16]\n",
      "(#5) [45,1.4735215902328491,2.1026804447174072,0.41999998688697815,00:16]\n",
      "(#5) [46,1.433672547340393,2.431846857070923,0.4124999940395355,00:16]\n",
      "(#5) [47,1.4250972270965576,2.1380727291107178,0.45249998569488525,00:16]\n",
      "(#5) [48,1.4135937690734863,2.1794819831848145,0.44749999046325684,00:16]\n",
      "(#5) [49,1.388306736946106,2.0289151668548584,0.4650000035762787,00:16]\n"
     ]
    }
   ],
   "source": [
    "learn.fit(50, lr=5e-3)"
   ]
  },
  {
   "cell_type": "markdown",
   "metadata": {},
   "source": [
    "## Not training well, let's try 250 speaker and see if voice rec is different"
   ]
  },
  {
   "cell_type": "code",
   "execution_count": null,
   "metadata": {},
   "outputs": [],
   "source": [
    "get_250speakers_label = lambda x: str(x).split('/')[-3][3:]"
   ]
  },
  {
   "cell_type": "code",
   "execution_count": null,
   "metadata": {},
   "outputs": [],
   "source": [
    "def GetSig():\n",
    "    def _inner(ai:AudioItem)->AudioItem:\n",
    "        return ai.sig\n",
    "    return _inner"
   ]
  },
  {
   "cell_type": "code",
   "execution_count": null,
   "metadata": {},
   "outputs": [
    {
     "ename": "NameError",
     "evalue": "name 'tfms' is not defined",
     "output_type": "error",
     "traceback": [
      "\u001b[0;31m---------------------------------------------------------------------------\u001b[0m",
      "\u001b[0;31mNameError\u001b[0m                                 Traceback (most recent call last)",
      "\u001b[0;32m<ipython-input-17-87e87d19c2b0>\u001b[0m in \u001b[0;36m<module>\u001b[0;34m\u001b[0m\n\u001b[1;32m      4\u001b[0m                  get_y=get_250speakers_label)\n\u001b[1;32m      5\u001b[0m \u001b[0;34m\u001b[0m\u001b[0m\n\u001b[0;32m----> 6\u001b[0;31m \u001b[0mdbunch250\u001b[0m \u001b[0;34m=\u001b[0m \u001b[0mauds\u001b[0m\u001b[0;34m.\u001b[0m\u001b[0mdatabunch\u001b[0m\u001b[0;34m(\u001b[0m\u001b[0mp250speakers\u001b[0m\u001b[0;34m,\u001b[0m \u001b[0mitem_tfms\u001b[0m\u001b[0;34m=\u001b[0m\u001b[0mtfms\u001b[0m\u001b[0;34m,\u001b[0m \u001b[0mbs\u001b[0m\u001b[0;34m=\u001b[0m\u001b[0;36m64\u001b[0m\u001b[0;34m)\u001b[0m\u001b[0;34m\u001b[0m\u001b[0;34m\u001b[0m\u001b[0m\n\u001b[0m",
      "\u001b[0;31mNameError\u001b[0m: name 'tfms' is not defined"
     ]
    }
   ],
   "source": [
    "auds = DataBlock(blocks=(AudioBlock, CategoryBlock),  \n",
    "                 get_items=get_audio_files, \n",
    "                 splitter=RandomSplitter(),\n",
    "                 get_y=get_250speakers_label)\n",
    "\n",
    "dbunch250 = auds.databunch(p250speakers, item_tfms=tfms, bs=64)"
   ]
  },
  {
   "cell_type": "code",
   "execution_count": null,
   "metadata": {},
   "outputs": [],
   "source": [
    "crop_3700ms = CropSignal(3700)\n",
    "tfms = [crop_3700ms, GetSig()]\n",
    "dbunch = auds.databunch(p250speakers, item_tfms=tfms, bs=64)"
   ]
  },
  {
   "cell_type": "code",
   "execution_count": null,
   "metadata": {},
   "outputs": [],
   "source": [
    "class SampleCNN(nn.Module):\n",
    "    def __init__(self):\n",
    "        super(SampleCNN, self).__init__()\n",
    "\n",
    "        # 59049 x 1\n",
    "        self.conv1 = nn.Sequential(\n",
    "            nn.Conv1d(1, 128, kernel_size=3, stride=3, padding=0),\n",
    "            nn.BatchNorm1d(128),\n",
    "            nn.ReLU())\n",
    "        # 19683 x 128\n",
    "        self.conv2 = nn.Sequential(\n",
    "            nn.Conv1d(128, 128, kernel_size=3, stride=1, padding=1),\n",
    "            nn.BatchNorm1d(128),\n",
    "            nn.ReLU(),\n",
    "            nn.MaxPool1d(3, stride=3))\n",
    "        # 6561 x 128\n",
    "        self.conv3 = nn.Sequential(\n",
    "            nn.Conv1d(128, 128, kernel_size=3, stride=1, padding=1),\n",
    "            nn.BatchNorm1d(128),\n",
    "            nn.ReLU(),\n",
    "            nn.MaxPool1d(3,stride=3))\n",
    "        # 2187 x 128\n",
    "        self.conv4 = nn.Sequential(\n",
    "            nn.Conv1d(128, 256, kernel_size=3, stride=1, padding=1),\n",
    "            nn.BatchNorm1d(256),\n",
    "            nn.ReLU(),\n",
    "            nn.MaxPool1d(3,stride=3))\n",
    "        # 729 x 256\n",
    "        self.conv5 = nn.Sequential(\n",
    "            nn.Conv1d(256, 256, kernel_size=3, stride=1, padding=1),\n",
    "            nn.BatchNorm1d(256),\n",
    "            nn.ReLU(),\n",
    "            nn.MaxPool1d(3,stride=3))\n",
    "        # 243 x 256\n",
    "        self.conv6 = nn.Sequential(\n",
    "            nn.Conv1d(256, 256, kernel_size=3, stride=1, padding=1),\n",
    "            nn.BatchNorm1d(256),\n",
    "            nn.ReLU(),\n",
    "            nn.MaxPool1d(3,stride=3),\n",
    "            nn.Dropout(0.5))\n",
    "        # 81 x 256\n",
    "        self.conv7 = nn.Sequential(\n",
    "            nn.Conv1d(256, 256, kernel_size=3, stride=1, padding=1),\n",
    "            nn.BatchNorm1d(256),\n",
    "            nn.ReLU(),\n",
    "            nn.MaxPool1d(3,stride=3))\n",
    "        # 27 x 256\n",
    "        self.conv8 = nn.Sequential(\n",
    "            nn.Conv1d(256, 256, kernel_size=3, stride=1, padding=1),\n",
    "            nn.BatchNorm1d(256),\n",
    "            nn.ReLU(),\n",
    "            nn.MaxPool1d(3,stride=3))\n",
    "        # 9 x 256\n",
    "        self.conv9 = nn.Sequential(\n",
    "            nn.Conv1d(256, 256, kernel_size=3, stride=1, padding=1),\n",
    "            nn.BatchNorm1d(256),\n",
    "            nn.ReLU(),\n",
    "            nn.MaxPool1d(3,stride=3))\n",
    "        # 3 x 256\n",
    "        self.conv10 = nn.Sequential(\n",
    "            nn.Conv1d(256, 512, kernel_size=3, stride=1, padding=1),\n",
    "            nn.BatchNorm1d(512),\n",
    "            nn.ReLU(),\n",
    "            nn.MaxPool1d(3,stride=3))\n",
    "        # 1 x 512 \n",
    "        self.conv11 = nn.Sequential(\n",
    "            nn.Conv1d(512, 512, kernel_size=3, stride=1, padding=1),\n",
    "            nn.BatchNorm1d(512),\n",
    "            nn.ReLU(),\n",
    "            nn.Dropout(0.5))\n",
    "        # 1 x 512 \n",
    "        self.fc1 = nn.Linear(512, 375)\n",
    "        self.fc2 = nn.Linear(375,250)\n",
    "        self.activation = nn.Sigmoid()\n",
    "    \n",
    "    def forward(self, x):\n",
    "        # input x : 23 x 59049 x 1\n",
    "        # expected conv1d input : minibatch_size x num_channel x width\n",
    "\n",
    "        x = x.view(x.shape[0], 1,-1)\n",
    "        # x : 23 x 1 x 59049\n",
    "        #print(x.shape)\n",
    "        out = self.conv1(x)\n",
    "        #print(out.shape)\n",
    "        out = self.conv2(out)\n",
    "        #print(out.shape)\n",
    "        out = self.conv3(out)\n",
    "        #print(out.shape)\n",
    "        out = self.conv4(out)\n",
    "        #print(out.shape)\n",
    "        out = self.conv5(out)\n",
    "        #print(out.shape)\n",
    "        out = self.conv6(out)\n",
    "        #print(out.shape)\n",
    "        out = self.conv7(out)\n",
    "        #print(out.shape)\n",
    "        out = self.conv8(out)\n",
    "        #print(out.shape)\n",
    "        out = self.conv9(out)\n",
    "        #print(out.shape)\n",
    "        out = self.conv10(out)\n",
    "        #print(out.shape)\n",
    "        out = self.conv11(out) \n",
    "        #print(out.shape)\n",
    "        out = out.view(x.shape[0], out.size(1) * out.size(2))\n",
    "        out = self.fc1(out)\n",
    "        #print(out.shape)\n",
    "        out = self.fc2(out)\n",
    "        #print(out.shape)\n",
    "        return out\n",
    "        \n",
    "        #logit = self.fc(out)\n",
    "\n",
    "        #logit = self.activation(logit)\n",
    "\n",
    "        #return logit"
   ]
  },
  {
   "cell_type": "code",
   "execution_count": null,
   "metadata": {},
   "outputs": [],
   "source": [
    "model_cnn = SampleCNN().cuda()"
   ]
  },
  {
   "cell_type": "code",
   "execution_count": null,
   "metadata": {},
   "outputs": [],
   "source": [
    "learn = Learner(dbunch, \n",
    "                model_cnn,\n",
    "                torch.nn.CrossEntropyLoss(), \n",
    "                metrics=[accuracy])"
   ]
  },
  {
   "cell_type": "code",
   "execution_count": null,
   "metadata": {},
   "outputs": [
    {
     "data": {
      "image/png": "[encoded data removed]",
      "text/plain": [
       "<Figure size 432x288 with 1 Axes>"
      ]
     },
     "metadata": {
      "needs_background": "light"
     },
     "output_type": "display_data"
    }
   ],
   "source": [
    "learn.lr_find()"
   ]
  },
  {
   "cell_type": "code",
   "execution_count": null,
   "metadata": {},
   "outputs": [
    {
     "name": "stdout",
     "output_type": "stream",
     "text": [
      "(#5) [0,4.096113204956055,4.302222728729248,0.11028999835252762,05:21]\n",
      "(#5) [1,3.5255556106567383,5.323293685913086,0.09248684346675873,05:07]\n",
      "(#5) [2,3.2658090591430664,3.8444199562072754,0.2025528997182846,05:07]\n",
      "(#5) [3,2.946685552597046,2.9944841861724854,0.31116336584091187,05:07]\n",
      "(#5) [4,2.6352133750915527,2.954530715942383,0.32213637232780457,05:07]\n",
      "(#5) [5,2.3154265880584717,3.090120792388916,0.3253834843635559,05:08]\n",
      "(#5) [6,2.048099994659424,2.7285561561584473,0.3802485764026642,05:08]\n",
      "(#5) [7,1.8495780229568481,2.066857099533081,0.49188220500946045,05:08]\n",
      "(#5) [8,1.704954981803894,2.4404079914093018,0.42615607380867004,05:08]\n",
      "(#5) [9,1.536723256111145,1.977567434310913,0.5245773196220398,05:08]\n",
      "(#5) [10,1.3741086721420288,1.538467526435852,0.6135931015014648,05:08]\n",
      "(#5) [11,1.2290085554122925,1.1873090267181396,0.6909640431404114,05:08]\n",
      "(#5) [12,1.1116015911102295,1.2263519763946533,0.6827902793884277,05:08]\n",
      "(#5) [13,0.9621904492378235,0.9647887349128723,0.7442615628242493,05:08]\n",
      "(#5) [14,0.8565501570701599,0.7736882567405701,0.7958795428276062,05:08]\n",
      "(#5) [15,0.7262387275695801,0.7018604874610901,0.8145784139633179,05:08]\n",
      "(#5) [16,0.6802437901496887,0.6801504492759705,0.8214085698127747,05:08]\n",
      "(#5) [17,0.637471079826355,0.6348564028739929,0.8342850804328918,05:08]\n",
      "(#5) [18,0.5819597244262695,0.6065998673439026,0.8427947759628296,05:08]\n",
      "(#5) [19,0.5662640333175659,0.6065235137939453,0.8424588441848755,05:08]\n"
     ]
    }
   ],
   "source": [
    "learn.fit_one_cycle(20, lr_max=3e-3)"
   ]
  },
  {
   "cell_type": "code",
   "execution_count": null,
   "metadata": {},
   "outputs": [
    {
     "data": {
      "image/png": "[encoded data removed]",
      "text/plain": [
       "<Figure size 432x288 with 1 Axes>"
      ]
     },
     "metadata": {
      "needs_background": "light"
     },
     "output_type": "display_data"
    }
   ],
   "source": [
    "learn.lr_find(num_it=1000)"
   ]
  },
  {
   "cell_type": "code",
   "execution_count": null,
   "metadata": {},
   "outputs": [
    {
     "name": "stdout",
     "output_type": "stream",
     "text": [
      "(#5) [0,0.59647136926651,0.6093095541000366,0.8402194380760193,05:04]\n",
      "(#5) [1,0.597713828086853,0.626058042049408,0.836188554763794,05:09]\n",
      "(#5) [2,0.6490824222564697,0.713577926158905,0.814802348613739,05:09]\n",
      "(#5) [3,0.6792464256286621,0.7048753499984741,0.8190572261810303,05:09]\n",
      "(#5) [4,0.6484290957450867,0.7089768648147583,0.8161460161209106,05:08]\n",
      "(#5) [5,0.6500468254089355,0.7232731580734253,0.8137946724891663,05:08]\n",
      "(#5) [6,0.6184006333351135,0.7272301912307739,0.811219334602356,05:08]\n",
      "(#5) [7,0.5734274387359619,0.7655994892120361,0.8052849769592285,05:08]\n",
      "(#5) [8,0.5747023820877075,0.6374108791351318,0.8374202251434326,05:08]\n",
      "(#5) [9,0.5262126922607422,0.640002965927124,0.8370842933654785,05:08]\n",
      "(#5) [10,0.5170871019363403,0.6218546032905579,0.8377561569213867,05:08]\n",
      "(#5) [11,0.47292575240135193,0.5680103302001953,0.8525360822677612,05:08]\n",
      "(#5) [12,0.44977763295173645,0.5537486672401428,0.8628373146057129,05:08]\n",
      "(#5) [13,0.45351362228393555,0.5307588577270508,0.8656365275382996,05:08]\n",
      "(#5) [14,0.41530999541282654,0.533057689666748,0.8656365275382996,05:08]\n",
      "(#5) [15,0.3762805163860321,0.5106488466262817,0.8702272772789001,05:08]\n",
      "(#5) [16,0.345541775226593,0.4984803795814514,0.8734744191169739,05:08]\n",
      "(#5) [17,0.3631395995616913,0.5055307149887085,0.8705632090568542,05:08]\n",
      "(#5) [18,0.35722190141677856,0.49084603786468506,0.8711230754852295,05:08]\n",
      "(#5) [19,0.3468702435493469,0.49157264828681946,0.8782891035079956,05:08]\n"
     ]
    }
   ],
   "source": [
    "learn.fit_one_cycle(20, lr_max=slice(1e-4, 6e-4))"
   ]
  },
  {
   "cell_type": "markdown",
   "metadata": {},
   "source": [
    "# PyTorch VGGish"
   ]
  },
  {
   "cell_type": "code",
   "execution_count": null,
   "metadata": {},
   "outputs": [
    {
     "name": "stdout",
     "output_type": "stream",
     "text": [
      "Looking in indexes: https://test.pypi.org/simple/\n",
      "Collecting torchvggish==0.1\n",
      "  Using cached https://test-files.pythonhosted.org/packages/ca/0a/fac547eec9a203b2abb6c5f92b9fd3f9c22afcd76748459e8ec70044747a/torchvggish-0.1-py3-none-any.whl\n",
      "Installing collected packages: torchvggish\n",
      "Successfully installed torchvggish-0.1\n"
     ]
    }
   ],
   "source": [
    "! pip install -i https://test.pypi.org/simple/ torchvggish==0.1"
   ]
  },
  {
   "cell_type": "code",
   "execution_count": null,
   "metadata": {},
   "outputs": [],
   "source": [
    "from torchvggish import vggish, vggish_input"
   ]
  },
  {
   "cell_type": "code",
   "execution_count": null,
   "metadata": {},
   "outputs": [
    {
     "data": {
      "text/plain": [
       "VGG(\n",
       "  (features): Sequential(\n",
       "    (0): Conv2d(1, 64, kernel_size=(3, 3), stride=(1, 1), padding=(1, 1))\n",
       "    (1): ReLU(inplace=True)\n",
       "    (2): MaxPool2d(kernel_size=2, stride=2, padding=0, dilation=1, ceil_mode=False)\n",
       "    (3): Conv2d(64, 128, kernel_size=(3, 3), stride=(1, 1), padding=(1, 1))\n",
       "    (4): ReLU(inplace=True)\n",
       "    (5): MaxPool2d(kernel_size=2, stride=2, padding=0, dilation=1, ceil_mode=False)\n",
       "    (6): Conv2d(128, 256, kernel_size=(3, 3), stride=(1, 1), padding=(1, 1))\n",
       "    (7): ReLU(inplace=True)\n",
       "    (8): Conv2d(256, 256, kernel_size=(3, 3), stride=(1, 1), padding=(1, 1))\n",
       "    (9): ReLU(inplace=True)\n",
       "    (10): MaxPool2d(kernel_size=2, stride=2, padding=0, dilation=1, ceil_mode=False)\n",
       "    (11): Conv2d(256, 512, kernel_size=(3, 3), stride=(1, 1), padding=(1, 1))\n",
       "    (12): ReLU(inplace=True)\n",
       "    (13): Conv2d(512, 512, kernel_size=(3, 3), stride=(1, 1), padding=(1, 1))\n",
       "    (14): ReLU(inplace=True)\n",
       "    (15): MaxPool2d(kernel_size=2, stride=2, padding=0, dilation=1, ceil_mode=False)\n",
       "  )\n",
       "  (embeddings): Sequential(\n",
       "    (0): Linear(in_features=12288, out_features=4096, bias=True)\n",
       "    (1): ReLU(inplace=True)\n",
       "    (2): Linear(in_features=4096, out_features=4096, bias=True)\n",
       "    (3): ReLU(inplace=True)\n",
       "    (4): Linear(in_features=4096, out_features=128, bias=True)\n",
       "    (5): ReLU(inplace=True)\n",
       "  )\n",
       ")"
      ]
     },
     "execution_count": null,
     "metadata": {},
     "output_type": "execute_result"
    }
   ],
   "source": [
    "# Initialise model and download weights\n",
    "embedding_model = vggish()\n",
    "embedding_model.eval()"
   ]
  },
  {
   "cell_type": "code",
   "execution_count": null,
   "metadata": {},
   "outputs": [],
   "source": [
    "path_example = \"/home/jupyter/rob/pytorch_videos/RNN-walkthrough/audio_sample/album.wav\""
   ]
  },
  {
   "cell_type": "code",
   "execution_count": null,
   "metadata": {},
   "outputs": [],
   "source": [
    "def get_embedding(p):\n",
    "    example = vggish_input.wavfile_to_examples(p)\n",
    "    embedding = embedding_model.forward(example)\n",
    "    return embedding"
   ]
  },
  {
   "cell_type": "code",
   "execution_count": null,
   "metadata": {},
   "outputs": [],
   "source": [
    "def get_embedding_batch(paths):\n",
    "    pass"
   ]
  },
  {
   "cell_type": "code",
   "execution_count": null,
   "metadata": {},
   "outputs": [
    {
     "name": "stdout",
     "output_type": "stream",
     "text": [
      "0, 0.002336\n",
      "50, 10.680069\n",
      "100, 21.591210\n",
      "150, 32.420957\n",
      "200, 43.952048\n",
      "250, 55.101673\n",
      "300, 65.923700\n",
      "350, 77.289709\n",
      "400, 88.509248\n",
      "450, 99.999045\n",
      "500, 111.301508\n",
      "550, 122.671296\n",
      "600, 133.873600\n",
      "650, 145.175162\n",
      "700, 156.302858\n",
      "750, 167.826710\n",
      "800, 179.985438\n",
      "850, 192.763642\n",
      "900, 205.726375\n",
      "950, 218.558569\n",
      "1000, 231.244728\n",
      "1050, 243.504877\n",
      "1100, 255.982737\n",
      "1150, 268.604558\n",
      "1200, 281.116046\n",
      "1250, 293.752684\n",
      "1300, 306.190345\n",
      "1350, 318.429255\n",
      "1400, 330.226478\n",
      "1450, 341.726424\n"
     ]
    }
   ],
   "source": [
    "import time\n",
    "start = time.time()\n",
    "embeddings = []\n",
    "for i,f in enumerate(files_ESC50):\n",
    "    if(i%50 == 0): print(f\"{i}, {time.time()-start:2f}\")\n",
    "    embeddings.append(get_embedding(f))"
   ]
  },
  {
   "cell_type": "code",
   "execution_count": null,
   "metadata": {},
   "outputs": [
    {
     "data": {
      "text/plain": [
       "torch.Size([5, 128])"
      ]
     },
     "execution_count": null,
     "metadata": {},
     "output_type": "execute_result"
    }
   ],
   "source": [
    "embedding.shape"
   ]
  },
  {
   "cell_type": "code",
   "execution_count": null,
   "metadata": {},
   "outputs": [],
   "source": [
    "embeddings = embedding_model.forward(example)"
   ]
  },
  {
   "cell_type": "code",
   "execution_count": null,
   "metadata": {},
   "outputs": [
    {
     "data": {
      "text/plain": [
       "(#2000) [/home/jupyter/.fastai/data/ESC-50/ESC-50-master/audio/1-60676-A-34.wav,/home/jupyter/.fastai/data/ESC-50/ESC-50-master/audio/5-179865-A-43.wav,/home/jupyter/.fastai/data/ESC-50/ESC-50-master/audio/2-117271-A-0.wav,/home/jupyter/.fastai/data/ESC-50/ESC-50-master/audio/1-155858-B-25.wav,/home/jupyter/.fastai/data/ESC-50/ESC-50-master/audio/4-173865-B-9.wav,/home/jupyter/.fastai/data/ESC-50/ESC-50-master/audio/2-104877-A-3.wav,/home/jupyter/.fastai/data/ESC-50/ESC-50-master/audio/1-11687-A-47.wav,/home/jupyter/.fastai/data/ESC-50/ESC-50-master/audio/4-144083-B-16.wav,/home/jupyter/.fastai/data/ESC-50/ESC-50-master/audio/5-238492-A-23.wav,/home/jupyter/.fastai/data/ESC-50/ESC-50-master/audio/1-43760-A-11.wav...]"
      ]
     },
     "execution_count": null,
     "metadata": {},
     "output_type": "execute_result"
    }
   ],
   "source": [
    "files_ESC50"
   ]
  },
  {
   "cell_type": "code",
   "execution_count": null,
   "metadata": {},
   "outputs": [
    {
     "data": {
      "text/plain": [
       "torch.Size([128])"
      ]
     },
     "execution_count": null,
     "metadata": {},
     "output_type": "execute_result"
    }
   ],
   "source": [
    "embeddings.shape"
   ]
  },
  {
   "cell_type": "code",
   "execution_count": null,
   "metadata": {},
   "outputs": [],
   "source": []
  },
  {
   "cell_type": "code",
   "execution_count": null,
   "metadata": {},
   "outputs": [],
   "source": [
    "oa_esc50 = OpenAudio(files_ESC50)"
   ]
  },
  {
   "cell_type": "code",
   "execution_count": null,
   "metadata": {},
   "outputs": [],
   "source": [
    "sig, _, file = oa_esc50(0)"
   ]
  },
  {
   "cell_type": "code",
   "execution_count": null,
   "metadata": {},
   "outputs": [
    {
     "data": {
      "text/plain": [
       "torch.Size([1, 220500])"
      ]
     },
     "execution_count": null,
     "metadata": {},
     "output_type": "execute_result"
    }
   ],
   "source": [
    "sig.shape"
   ]
  },
  {
   "cell_type": "code",
   "execution_count": null,
   "metadata": {},
   "outputs": [],
   "source": [
    "sig, _, file = oa_esc50(1)"
   ]
  },
  {
   "cell_type": "code",
   "execution_count": null,
   "metadata": {},
   "outputs": [
    {
     "data": {
      "text/plain": [
       "torch.Size([1, 220500])"
      ]
     },
     "execution_count": null,
     "metadata": {},
     "output_type": "execute_result"
    }
   ],
   "source": [
    "sig.shape"
   ]
  },
  {
   "cell_type": "code",
   "execution_count": null,
   "metadata": {},
   "outputs": [],
   "source": [
    "files_10= x(p10speakers)"
   ]
  },
  {
   "cell_type": "code",
   "execution_count": null,
   "metadata": {},
   "outputs": [],
   "source": [
    "oa10 = OpenAudio(files_10)"
   ]
  },
  {
   "cell_type": "code",
   "execution_count": null,
   "metadata": {},
   "outputs": [],
   "source": [
    "sig, _, file = oa10(6)"
   ]
  },
  {
   "cell_type": "code",
   "execution_count": null,
   "metadata": {},
   "outputs": [
    {
     "data": {
      "text/plain": [
       "torch.Size([1, 46720])"
      ]
     },
     "execution_count": null,
     "metadata": {},
     "output_type": "execute_result"
    }
   ],
   "source": [
    "sig.shape"
   ]
  },
  {
   "cell_type": "code",
   "execution_count": null,
   "metadata": {},
   "outputs": [
    {
     "data": {
      "text/plain": [
       "PosixPath('/home/jupyter/.fastai/data/ST-AEDS-20180100_1-OS/m0005_us_m0005_00282.wav')"
      ]
     },
     "execution_count": null,
     "metadata": {},
     "output_type": "execute_result"
    }
   ],
   "source": [
    "file"
   ]
  },
  {
   "cell_type": "code",
   "execution_count": null,
   "metadata": {},
   "outputs": [],
   "source": [
    "import torchvggish"
   ]
  },
  {
   "cell_type": "code",
   "execution_count": null,
   "metadata": {},
   "outputs": [],
   "source": []
  }
 ],
 "metadata": {
  "kernelspec": {
   "display_name": "Python 3",
   "language": "python",
   "name": "python3"
  }
 },
 "nbformat": 4,
 "nbformat_minor": 2
}
