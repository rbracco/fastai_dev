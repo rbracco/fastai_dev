{
 "cells": [
  {
   "cell_type": "code",
   "execution_count": null,
   "metadata": {},
   "outputs": [],
   "source": [
    "%reload_ext autoreload\n",
    "%autoreload 2\n",
    "%matplotlib inline"
   ]
  },
  {
   "cell_type": "code",
   "execution_count": null,
   "metadata": {},
   "outputs": [],
   "source": [
    "from local.torch_basics import *\n",
    "from local.test import *\n",
    "from local.basics import *\n",
    "from local.data.all import *\n",
    "from local.vision.core import *\n",
    "from local.notebook.showdoc import show_doc\n",
    "from local.audio.core import *\n",
    "from local.audio.augment import *\n",
    "from local.vision.learner import *\n",
    "from local.vision.models.xresnet import *\n",
    "from local.metrics import *\n",
    "from local.callback.schedule import *\n",
    "import torchaudio\n",
    "from fastprogress import progress_bar as pb\n",
    "import time\n",
    "from sklearn.linear_model import RidgeClassifierCV\n"
   ]
  },
  {
   "cell_type": "code",
   "execution_count": null,
   "metadata": {},
   "outputs": [],
   "source": [
    "from numba import njit, prange\n",
    "import numpy as np\n",
    "\n",
    "@njit\n",
    "def generate_kernels(input_length, num_kernels, candidate_lengths=np.array((7, 9, 11)), stride=5):\n",
    "    # initialise kernel parameters\n",
    "    strides = np.ones(num_kernels, dtype = np.int32) * stride\n",
    "    weights = np.zeros((num_kernels, candidate_lengths.max())) # see note\n",
    "    lengths = np.zeros(num_kernels, dtype = np.int32) # see note\n",
    "    biases = np.zeros(num_kernels)\n",
    "    dilations = np.zeros(num_kernels, dtype = np.int32)\n",
    "    paddings = np.zeros(num_kernels, dtype = np.int32)\n",
    "    # note: only the first *lengths[i]* values of *weights[i]* are used\n",
    "    for i in range(num_kernels):\n",
    "        length = np.random.choice(candidate_lengths)\n",
    "        _weights = np.random.normal(0, 1, length)\n",
    "        bias = np.random.uniform(-1, 1)\n",
    "        dilation = 2 ** np.random.uniform(0, np.log2((input_length - 1) // (length - 1)))\n",
    "        padding = ((length - 1) * dilation) // 2 if np.random.randint(2) == 1 else 0\n",
    "        weights[i, :length] = _weights - _weights.mean()\n",
    "        lengths[i], biases[i], dilations[i], paddings[i] = length, bias, dilation, padding\n",
    "    return weights, lengths, biases, dilations, paddings, strides"
   ]
  },
  {
   "cell_type": "code",
   "execution_count": null,
   "metadata": {},
   "outputs": [],
   "source": [
    "@njit(fastmath = True)\n",
    "def apply_kernel(X, weights, length, bias, dilation, padding, stride):\n",
    "    # zero padding\n",
    "    if padding > 0:\n",
    "        _input_length = len(X)\n",
    "        _X = np.zeros(_input_length + (2 * padding))\n",
    "        _X[padding:(padding + _input_length)] = X\n",
    "        X = _X\n",
    "    input_length = len(X)\n",
    "    output_length = (input_length - ((length - 1) * dilation))//stride\n",
    "    \n",
    "    _ppv = 0 # \"proportion of positive values\"\n",
    "    _max = np.NINF\n",
    "    for i in range(output_length):\n",
    "        _sum = bias\n",
    "        for j in range(length):\n",
    "            _sum += weights[j] * X[i*stride + (j * dilation)]\n",
    "        if _sum > 0:\n",
    "            _ppv += 1\n",
    "        if _sum > _max:\n",
    "            _max = _sum\n",
    "    return _ppv / output_length, _max"
   ]
  },
  {
   "cell_type": "code",
   "execution_count": null,
   "metadata": {},
   "outputs": [],
   "source": [
    "@njit(parallel = True, fastmath = True)\n",
    "def apply_kernels(X, kernels):\n",
    "    weights, lengths, biases, dilations, paddings, strides = kernels\n",
    "    num_examples = len(X)\n",
    "    num_kernels = len(weights)\n",
    "    # initialise output\n",
    "    _X = np.zeros((num_examples, num_kernels * 2)) # 2 features per kernel\n",
    "    for i in prange(num_examples):\n",
    "        for j in range(num_kernels):\n",
    "            _X[i, (j * 2):((j * 2) + 2)] = \\\n",
    "            apply_kernel(X[i], weights[j][:lengths[j]], lengths[j], biases[j], dilations[j], paddings[j], strides[j])\n",
    "    return _X"
   ]
  },
  {
   "cell_type": "code",
   "execution_count": null,
   "metadata": {},
   "outputs": [
    {
     "data": {
      "text/plain": [
       "PosixPath('/home/jupyter/.fastai/data/250_speakers/250-speakers')"
      ]
     },
     "execution_count": null,
     "metadata": {},
     "output_type": "execute_result"
    }
   ],
   "source": [
    "p250speakers = Config()['data_path'] / '250_speakers'\n",
    "untar_data(URLs.SPEAKERS250, fname=str(p250speakers)+'.tar', dest=p250speakers)"
   ]
  },
  {
   "cell_type": "code",
   "execution_count": null,
   "metadata": {},
   "outputs": [],
   "source": [
    "x = AudioGetter(\"\", recurse=True, folders=None)\n",
    "files_250  = x(p250speakers)"
   ]
  },
  {
   "cell_type": "code",
   "execution_count": null,
   "metadata": {},
   "outputs": [
    {
     "data": {
      "text/plain": [
       "(#44655) [/home/jupyter/.fastai/data/250_speakers/250-speakers/id09028/_KymcHdEW0U/00034.wav,/home/jupyter/.fastai/data/250_speakers/250-speakers/id09028/2HgpwyiMUEE/00002.wav,/home/jupyter/.fastai/data/250_speakers/250-speakers/id09028/11xxoaj4aEA/00001.wav,/home/jupyter/.fastai/data/250_speakers/250-speakers/id09028/gC8wHtwhnZw/00036.wav,/home/jupyter/.fastai/data/250_speakers/250-speakers/id09028/gC8wHtwhnZw/00038.wav,/home/jupyter/.fastai/data/250_speakers/250-speakers/id09028/gC8wHtwhnZw/00037.wav,/home/jupyter/.fastai/data/250_speakers/250-speakers/id09028/DwK2JNH10zE/00013.wav,/home/jupyter/.fastai/data/250_speakers/250-speakers/id09028/DwK2JNH10zE/00012.wav,/home/jupyter/.fastai/data/250_speakers/250-speakers/id09028/DwK2JNH10zE/00011.wav,/home/jupyter/.fastai/data/250_speakers/250-speakers/id09028/4f8IoTgW8z0/00005.wav...]"
      ]
     },
     "execution_count": null,
     "metadata": {},
     "output_type": "execute_result"
    }
   ],
   "source": [
    "files_250"
   ]
  },
  {
   "cell_type": "code",
   "execution_count": null,
   "metadata": {},
   "outputs": [],
   "source": [
    "oa = OpenAudio(files_250)"
   ]
  },
  {
   "cell_type": "code",
   "execution_count": null,
   "metadata": {},
   "outputs": [],
   "source": [
    "# 2s clip length causes Memory error 9GB RAM, we could also Resample to 8k\n",
    "CLIP_LENGTH = 1"
   ]
  },
  {
   "cell_type": "code",
   "execution_count": null,
   "metadata": {},
   "outputs": [
    {
     "data": {
      "text/html": [
       "\n",
       "    <div>\n",
       "        <style>\n",
       "            /* Turns off some styling */\n",
       "            progress {\n",
       "                /* gets rid of default border in Firefox and Opera. */\n",
       "                border: none;\n",
       "                /* Needs to be in here for Safari polyfill so background images work as expected. */\n",
       "                background-size: auto;\n",
       "            }\n",
       "            .progress-bar-interrupted, .progress-bar-interrupted::-webkit-progress-bar {\n",
       "                background: #F44336;\n",
       "            }\n",
       "        </style>\n",
       "      <progress value='44655' class='' max='44655', style='width:300px; height:20px; vertical-align: middle;'></progress>\n",
       "      100.00% [44655/44655 17:11<00:00]\n",
       "    </div>\n",
       "    "
      ],
      "text/plain": [
       "<IPython.core.display.HTML object>"
      ]
     },
     "metadata": {},
     "output_type": "display_data"
    }
   ],
   "source": [
    "labeler = lambda x: str(x).split('/')[-3][3:]\n",
    "sigs, labels = [],[]\n",
    "cropper = CropSignal(1000*CLIP_LENGTH, pad_mode='repeat')\n",
    "remove_silence = RemoveSilence()\n",
    "for i in pb(range(len(files_250))):\n",
    "    sigs.append(cropper(remove_silence(oa(i))).sig)\n",
    "    labels.append(labeler(files_250[i]))"
   ]
  },
  {
   "cell_type": "code",
   "execution_count": null,
   "metadata": {},
   "outputs": [
    {
     "data": {
      "text/plain": [
       "(44655, 44655)"
      ]
     },
     "execution_count": null,
     "metadata": {},
     "output_type": "execute_result"
    }
   ],
   "source": [
    "len(sigs), len(labels)"
   ]
  },
  {
   "cell_type": "code",
   "execution_count": null,
   "metadata": {},
   "outputs": [],
   "source": [
    "train_size = int(44655*.8)\n",
    "train_idxs = torch.randperm(44655)[:train_size]\n",
    "valid_idxs = [i for i in range(44655) if i not in train_idxs]"
   ]
  },
  {
   "cell_type": "code",
   "execution_count": null,
   "metadata": {},
   "outputs": [],
   "source": [
    "assert len(train_idxs) + len(valid_idxs) == len(sigs)"
   ]
  },
  {
   "cell_type": "code",
   "execution_count": null,
   "metadata": {},
   "outputs": [],
   "source": [
    "x_train = [sigs[idx].squeeze(0).numpy() for idx in train_idxs]\n",
    "y_train = [labels[idx] for idx in train_idxs]\n",
    "x_valid = [sigs[idx].squeeze(0).numpy() for idx in valid_idxs]\n",
    "y_valid = [labels[idx] for idx in valid_idxs]"
   ]
  },
  {
   "cell_type": "code",
   "execution_count": null,
   "metadata": {},
   "outputs": [
    {
     "data": {
      "text/plain": [
       "[35724, 35724, 8931, 8931]"
      ]
     },
     "execution_count": null,
     "metadata": {},
     "output_type": "execute_result"
    }
   ],
   "source": [
    "list(map(len, (x_train, y_train, x_valid, y_valid)))"
   ]
  },
  {
   "cell_type": "code",
   "execution_count": null,
   "metadata": {},
   "outputs": [
    {
     "data": {
      "text/plain": [
       "((35724, 16000), (8931, 16000))"
      ]
     },
     "execution_count": null,
     "metadata": {},
     "output_type": "execute_result"
    }
   ],
   "source": [
    "np_x_train = np.stack(x_train).astype(np.float64)\n",
    "np_x_valid = np.stack(x_valid).astype(np.float64)\n",
    "np_x_train.shape, np_x_valid.shape"
   ]
  },
  {
   "cell_type": "code",
   "execution_count": null,
   "metadata": {},
   "outputs": [
    {
     "data": {
      "text/plain": [
       "('9272', '8860')"
      ]
     },
     "execution_count": null,
     "metadata": {},
     "output_type": "execute_result"
    }
   ],
   "source": [
    "max(y_train), min(y_train)"
   ]
  },
  {
   "cell_type": "code",
   "execution_count": null,
   "metadata": {},
   "outputs": [],
   "source": [
    "cleaned_labels = sorted(list(set(y_train)))"
   ]
  },
  {
   "cell_type": "code",
   "execution_count": null,
   "metadata": {},
   "outputs": [
    {
     "data": {
      "text/plain": [
       "250"
      ]
     },
     "execution_count": null,
     "metadata": {},
     "output_type": "execute_result"
    }
   ],
   "source": [
    "len(cleaned_labels)"
   ]
  },
  {
   "cell_type": "code",
   "execution_count": null,
   "metadata": {},
   "outputs": [],
   "source": [
    "o2i_f = lambda x: cleaned_labels.index(x)"
   ]
  },
  {
   "cell_type": "code",
   "execution_count": null,
   "metadata": {},
   "outputs": [],
   "source": [
    "np_y_train = np.array(list(map(o2i_f, y_train)))\n",
    "np_y_valid = np.array(list(map(o2i_f, y_valid)))"
   ]
  },
  {
   "cell_type": "code",
   "execution_count": null,
   "metadata": {},
   "outputs": [
    {
     "data": {
      "text/plain": [
       "array([ 51, 176, 201, ...,  97,  50, 190])"
      ]
     },
     "execution_count": null,
     "metadata": {},
     "output_type": "execute_result"
    }
   ],
   "source": [
    "np_y_train"
   ]
  },
  {
   "cell_type": "code",
   "execution_count": null,
   "metadata": {},
   "outputs": [
    {
     "data": {
      "text/plain": [
       "(250, 250, 0, 249, 0, 249)"
      ]
     },
     "execution_count": null,
     "metadata": {},
     "output_type": "execute_result"
    }
   ],
   "source": [
    "len(np.unique(np_y_train)), len(np.unique(np_y_valid)),np_y_train.min(), np_y_train.max(), np_y_valid.min(), np_y_valid.max()"
   ]
  },
  {
   "cell_type": "code",
   "execution_count": null,
   "metadata": {},
   "outputs": [
    {
     "data": {
      "text/plain": [
       "((35724, 16000), (35724,), (8931, 16000), (8931,))"
      ]
     },
     "execution_count": null,
     "metadata": {},
     "output_type": "execute_result"
    }
   ],
   "source": [
    "np_x_train.shape, np_y_train.shape, np_x_valid.shape, np_y_valid.shape"
   ]
  },
  {
   "cell_type": "code",
   "execution_count": null,
   "metadata": {},
   "outputs": [
    {
     "data": {
      "text/plain": [
       "2.5251292232008987e-05"
      ]
     },
     "execution_count": null,
     "metadata": {},
     "output_type": "execute_result"
    }
   ],
   "source": [
    "np_x_train.mean()"
   ]
  },
  {
   "cell_type": "markdown",
   "metadata": {},
   "source": [
    "### Normalize the training data"
   ]
  },
  {
   "cell_type": "code",
   "execution_count": null,
   "metadata": {},
   "outputs": [
    {
     "data": {
      "text/plain": [
       "(35724, 32000)"
      ]
     },
     "execution_count": null,
     "metadata": {},
     "output_type": "execute_result"
    }
   ],
   "source": [
    "np_x_train.shape"
   ]
  },
  {
   "cell_type": "code",
   "execution_count": null,
   "metadata": {},
   "outputs": [],
   "source": [
    "np_x_train = (np_x_train - np_x_train.mean(axis = 1, keepdims = True)) / (np_x_train.std(axis = 1, keepdims = True) + 1e-8)\n",
    "np_x_valid = (np_x_valid - np_x_valid.mean(axis = 1, keepdims = True)) / (np_x_valid.std(axis = 1, keepdims = True) + 1e-8)"
   ]
  },
  {
   "cell_type": "code",
   "execution_count": null,
   "metadata": {},
   "outputs": [
    {
     "data": {
      "text/plain": [
       "(2.199686084508134e-20, 0.9999997129530986)"
      ]
     },
     "execution_count": null,
     "metadata": {},
     "output_type": "execute_result"
    }
   ],
   "source": [
    "np_x_train.mean(), np_x_train.std()"
   ]
  },
  {
   "cell_type": "code",
   "execution_count": null,
   "metadata": {},
   "outputs": [
    {
     "data": {
      "text/plain": [
       "dtype('float64')"
      ]
     },
     "execution_count": null,
     "metadata": {},
     "output_type": "execute_result"
    }
   ],
   "source": [
    "np_x_train.dtype"
   ]
  },
  {
   "cell_type": "code",
   "execution_count": null,
   "metadata": {},
   "outputs": [],
   "source": [
    "candidate_lengths = np.array((7,9,11))\n",
    "stride = 3"
   ]
  },
  {
   "cell_type": "code",
   "execution_count": null,
   "metadata": {},
   "outputs": [],
   "source": [
    "def timing_test(runs, candidate_lengths, stride, num_kernels, seq_length):\n",
    "    times, scores = [],[]\n",
    "    for i in range(runs):\n",
    "        kernels = generate_kernels(seq_length, num_kernels, candidate_lengths, stride)\n",
    "        start = time.time()\n",
    "        x_train_tfm = apply_kernels(np_x_train, kernels)\n",
    "       # #catch weird bug where np.NINF is occasionally showing up, hard to trace due to numba/jit\n",
    "        3x_train_tfm[x_train_tfm <= -1E308] = 0\n",
    "        x_valid_tfm = apply_kernels(np_x_valid, kernels)\n",
    "        #x_valid_tfm[x_valid_tfm <= -1E308] = 0\n",
    "        classifier = RidgeClassifierCV(alphas=np.logspace(-3, 3, 7), normalize=True)\n",
    "        classifier.fit(x_train_tfm, np_y_train)\n",
    "        score = classifier.score(x_valid_tfm, np_y_valid)\n",
    "        t = time.time()-start\n",
    "        scores.append(score)\n",
    "        times.append(t)\n",
    "        print(\"Finished Run\", i+1, \"Score:\", round(score, 3), \"Time:\", round(t,3))\n",
    "    return times, scores"
   ]
  },
  {
   "cell_type": "code",
   "execution_count": null,
   "metadata": {},
   "outputs": [
    {
     "name": "stdout",
     "output_type": "stream",
     "text": [
      "Finished Run 1 Score: 0.222 Time: 73.033\n",
      "Finished Run 2 Score: 0.224 Time: 76.247\n"
     ]
    },
    {
     "data": {
      "text/plain": [
       "([73.03297019004822, 76.24688529968262],\n",
       " [0.22169969768223044, 0.22360317993505766])"
      ]
     },
     "execution_count": null,
     "metadata": {},
     "output_type": "execute_result"
    }
   ],
   "source": [
    "timing_test(2, np.array((7,9,11)), stride=5, num_kernels=200, seq_length=16000)"
   ]
  },
  {
   "cell_type": "code",
   "execution_count": null,
   "metadata": {},
   "outputs": [
    {
     "name": "stdout",
     "output_type": "stream",
     "text": [
      "Finished Run 1 Score: 0.279 Time: 388.645\n",
      "Finished Run 2 Score: 0.282 Time: 433.431\n"
     ]
    },
    {
     "data": {
      "text/plain": [
       "([388.64545917510986, 433.43074345588684],\n",
       " [0.2788041652670474, 0.28182734296271417])"
      ]
     },
     "execution_count": null,
     "metadata": {},
     "output_type": "execute_result"
    }
   ],
   "source": [
    "timing_test(2, np.array((7,9,11)), stride=5, num_kernels=1000, seq_length=16000)"
   ]
  },
  {
   "cell_type": "markdown",
   "metadata": {},
   "source": [
    "## Looking at predictive power of a single kernel"
   ]
  },
  {
   "cell_type": "code",
   "execution_count": null,
   "metadata": {},
   "outputs": [
    {
     "name": "stdout",
     "output_type": "stream",
     "text": [
      "Finished Run 1 Score: 0.027 Time: 2.797\n",
      "Finished Run 2 Score: 0.019 Time: 2.657\n",
      "Finished Run 3 Score: 0.022 Time: 2.698\n",
      "Finished Run 4 Score: 0.019 Time: 2.957\n",
      "Finished Run 5 Score: 0.018 Time: 2.673\n",
      "Finished Run 6 Score: 0.019 Time: 2.89\n",
      "Finished Run 7 Score: 0.029 Time: 2.978\n",
      "Finished Run 8 Score: 0.019 Time: 3.02\n",
      "Finished Run 9 Score: 0.019 Time: 2.878\n",
      "Finished Run 10 Score: 0.017 Time: 2.688\n",
      "Finished Run 11 Score: 0.018 Time: 2.976\n",
      "Finished Run 12 Score: 0.028 Time: 2.798\n",
      "Finished Run 13 Score: 0.02 Time: 2.847\n",
      "Finished Run 14 Score: 0.023 Time: 2.861\n",
      "Finished Run 15 Score: 0.018 Time: 2.741\n",
      "Finished Run 16 Score: 0.02 Time: 2.685\n",
      "Finished Run 17 Score: 0.019 Time: 2.907\n",
      "Finished Run 18 Score: 0.019 Time: 2.848\n",
      "Finished Run 19 Score: 0.019 Time: 2.695\n",
      "Finished Run 20 Score: 0.023 Time: 2.976\n",
      "Finished Run 21 Score: 0.015 Time: 2.639\n",
      "Finished Run 22 Score: 0.018 Time: 2.702\n",
      "Finished Run 23 Score: 0.017 Time: 2.715\n",
      "Finished Run 24 Score: 0.018 Time: 2.969\n",
      "Finished Run 25 Score: 0.018 Time: 2.938\n",
      "Finished Run 26 Score: 0.022 Time: 2.678\n",
      "Finished Run 27 Score: 0.021 Time: 2.955\n",
      "Finished Run 28 Score: 0.017 Time: 2.764\n",
      "Finished Run 29 Score: 0.028 Time: 2.851\n",
      "Finished Run 30 Score: 0.019 Time: 2.901\n",
      "Finished Run 31 Score: 0.028 Time: 2.814\n",
      "Finished Run 32 Score: 0.017 Time: 2.734\n",
      "Finished Run 33 Score: 0.025 Time: 2.685\n",
      "Finished Run 34 Score: 0.024 Time: 2.709\n",
      "Finished Run 35 Score: 0.029 Time: 2.898\n",
      "Finished Run 36 Score: 0.02 Time: 2.927\n",
      "Finished Run 37 Score: 0.024 Time: 2.869\n",
      "Finished Run 38 Score: 0.019 Time: 2.995\n",
      "Finished Run 39 Score: 0.026 Time: 2.677\n",
      "Finished Run 40 Score: 0.021 Time: 2.884\n",
      "Finished Run 41 Score: 0.018 Time: 2.599\n",
      "Finished Run 42 Score: 0.025 Time: 2.802\n",
      "Finished Run 43 Score: 0.019 Time: 2.75\n",
      "Finished Run 44 Score: 0.018 Time: 2.959\n",
      "Finished Run 45 Score: 0.019 Time: 2.844\n",
      "Finished Run 46 Score: 0.023 Time: 2.954\n",
      "Finished Run 47 Score: 0.023 Time: 2.929\n",
      "Finished Run 48 Score: 0.027 Time: 2.686\n",
      "Finished Run 49 Score: 0.019 Time: 2.852\n",
      "Finished Run 50 Score: 0.026 Time: 2.735\n",
      "Finished Run 51 Score: 0.017 Time: 2.962\n",
      "Finished Run 52 Score: 0.018 Time: 2.709\n",
      "Finished Run 53 Score: 0.023 Time: 2.825\n",
      "Finished Run 54 Score: 0.02 Time: 2.849\n",
      "Finished Run 55 Score: 0.018 Time: 2.817\n",
      "Finished Run 56 Score: 0.024 Time: 2.715\n",
      "Finished Run 57 Score: 0.022 Time: 2.675\n",
      "Finished Run 58 Score: 0.022 Time: 2.777\n",
      "Finished Run 59 Score: 0.02 Time: 2.779\n",
      "Finished Run 60 Score: 0.015 Time: 2.594\n",
      "Finished Run 61 Score: 0.021 Time: 2.972\n",
      "Finished Run 62 Score: 0.021 Time: 2.881\n",
      "Finished Run 63 Score: 0.025 Time: 2.821\n",
      "Finished Run 64 Score: 0.02 Time: 3.005\n",
      "Finished Run 65 Score: 0.02 Time: 2.671\n",
      "Finished Run 66 Score: 0.026 Time: 2.897\n",
      "Finished Run 67 Score: 0.018 Time: 2.923\n",
      "Finished Run 68 Score: 0.021 Time: 2.877\n",
      "Finished Run 69 Score: 0.023 Time: 2.89\n",
      "Finished Run 70 Score: 0.016 Time: 2.547\n",
      "Finished Run 71 Score: 0.027 Time: 2.679\n",
      "Finished Run 72 Score: 0.022 Time: 2.661\n",
      "Finished Run 73 Score: 0.023 Time: 3.005\n",
      "Finished Run 74 Score: 0.022 Time: 2.994\n",
      "Finished Run 75 Score: 0.013 Time: 2.366\n",
      "Finished Run 76 Score: 0.016 Time: 2.923\n",
      "Finished Run 77 Score: 0.026 Time: 2.669\n",
      "Finished Run 78 Score: 0.021 Time: 2.895\n",
      "Finished Run 79 Score: 0.021 Time: 2.847\n",
      "Finished Run 80 Score: 0.02 Time: 2.802\n",
      "Finished Run 81 Score: 0.024 Time: 2.675\n",
      "Finished Run 82 Score: 0.019 Time: 2.743\n",
      "Finished Run 83 Score: 0.017 Time: 2.991\n",
      "Finished Run 84 Score: 0.024 Time: 2.91\n",
      "Finished Run 85 Score: 0.026 Time: 2.902\n",
      "Finished Run 86 Score: 0.017 Time: 2.924\n",
      "Finished Run 87 Score: 0.021 Time: 2.831\n",
      "Finished Run 88 Score: 0.019 Time: 2.974\n",
      "Finished Run 89 Score: 0.016 Time: 2.559\n",
      "Finished Run 90 Score: 0.022 Time: 2.931\n",
      "Finished Run 91 Score: 0.019 Time: 2.622\n",
      "Finished Run 92 Score: 0.023 Time: 2.677\n",
      "Finished Run 93 Score: 0.018 Time: 2.862\n",
      "Finished Run 94 Score: 0.022 Time: 2.812\n",
      "Finished Run 95 Score: 0.023 Time: 2.9\n",
      "Finished Run 96 Score: 0.016 Time: 2.979\n",
      "Finished Run 97 Score: 0.02 Time: 2.857\n",
      "Finished Run 98 Score: 0.02 Time: 2.682\n",
      "Finished Run 99 Score: 0.018 Time: 2.773\n",
      "Finished Run 100 Score: 0.018 Time: 2.887\n"
     ]
    }
   ],
   "source": [
    "times, scores = timing_test(100, np.array((7,9,11)), stride=5, num_kernels=1, seq_length=16000)"
   ]
  },
  {
   "cell_type": "code",
   "execution_count": null,
   "metadata": {},
   "outputs": [
    {
     "data": {
      "text/plain": [
       "(0.020801701937073123, 0.012652558504086888, 0.029336020602396148)"
      ]
     },
     "execution_count": null,
     "metadata": {},
     "output_type": "execute_result"
    }
   ],
   "source": [
    "sum(scores)/len(scores), min(scores), max(scores)"
   ]
  },
  {
   "cell_type": "code",
   "execution_count": null,
   "metadata": {},
   "outputs": [
    {
     "name": "stdout",
     "output_type": "stream",
     "text": [
      "Finished Run 1 Score: 0.027 Time: 3.198\n",
      "Finished Run 2 Score: 0.021 Time: 3.093\n",
      "Finished Run 3 Score: 0.024 Time: 3.022\n",
      "Finished Run 4 Score: 0.021 Time: 2.995\n",
      "Finished Run 5 Score: 0.02 Time: 3.41\n",
      "Finished Run 6 Score: 0.027 Time: 3.291\n",
      "Finished Run 7 Score: 0.023 Time: 3.315\n",
      "Finished Run 8 Score: 0.032 Time: 3.213\n",
      "Finished Run 9 Score: 0.019 Time: 2.963\n",
      "Finished Run 10 Score: 0.027 Time: 2.992\n"
     ]
    }
   ],
   "source": [
    "times, scores = timing_test(10, np.array((7,9,11)), stride=5, num_kernels=2, seq_length=16000)"
   ]
  },
  {
   "cell_type": "code",
   "execution_count": null,
   "metadata": {},
   "outputs": [
    {
     "data": {
      "text/plain": [
       "(0.02417422461090583, 0.019370731161124175, 0.03235919829806293)"
      ]
     },
     "execution_count": null,
     "metadata": {},
     "output_type": "execute_result"
    }
   ],
   "source": [
    "sum(scores)/len(scores), min(scores), max(scores)"
   ]
  },
  {
   "cell_type": "code",
   "execution_count": null,
   "metadata": {},
   "outputs": [],
   "source": [
    "def timing_test_only_ppv(runs, candidate_lengths, stride, num_kernels, seq_length):\n",
    "    times, scores = [],[]\n",
    "    for i in range(runs):\n",
    "        kernels = generate_kernels(seq_length, num_kernels, candidate_lengths, stride)\n",
    "        start = time.time()\n",
    "        x_train_tfm = apply_kernels(np_x_train, kernels)[:,[0,2]]\n",
    "        #print(x_train_tfm.shape)\n",
    "        #print(x_train_tfm[:,[0,2]].shape)\n",
    "       # #catch weird bug where np.NINF is occasionally showing up, hard to trace due to numba/jit\n",
    "        x_valid_tfm = apply_kernels(np_x_valid, kernels)[:,[0,2]]\n",
    "        classifier = RidgeClassifierCV(alphas=np.logspace(-3, 3, 7), normalize=True)\n",
    "        classifier.fit(x_train_tfm, np_y_train)\n",
    "        score = classifier.score(x_valid_tfm, np_y_valid)\n",
    "        t = time.time()-start\n",
    "        scores.append(score)\n",
    "        times.append(t)\n",
    "        print(\"Finished Run\", i+1, \"Score:\", round(score, 3), \"Time:\", round(t,3))\n",
    "    return times, scores"
   ]
  },
  {
   "cell_type": "code",
   "execution_count": null,
   "metadata": {},
   "outputs": [
    {
     "name": "stdout",
     "output_type": "stream",
     "text": [
      "Finished Run 1 Score: 0.019 Time: 3.114\n",
      "Finished Run 2 Score: 0.024 Time: 3.296\n",
      "Finished Run 3 Score: 0.02 Time: 3.095\n",
      "Finished Run 4 Score: 0.019 Time: 3.154\n",
      "Finished Run 5 Score: 0.02 Time: 2.984\n",
      "Finished Run 6 Score: 0.02 Time: 3.081\n",
      "Finished Run 7 Score: 0.024 Time: 3.201\n",
      "Finished Run 8 Score: 0.022 Time: 3.265\n",
      "Finished Run 9 Score: 0.023 Time: 3.07\n",
      "Finished Run 10 Score: 0.017 Time: 3.147\n"
     ]
    }
   ],
   "source": [
    "times, scores = timing_test_only_ppv(10, np.array((7,9,11)), stride=5, num_kernels=2, seq_length=16000)"
   ]
  },
  {
   "cell_type": "code",
   "execution_count": null,
   "metadata": {},
   "outputs": [
    {
     "data": {
      "text/plain": [
       "(0.02069197178367484, 0.017467248908296942, 0.02373754338819841)"
      ]
     },
     "execution_count": null,
     "metadata": {},
     "output_type": "execute_result"
    }
   ],
   "source": [
    "sum(scores)/len(scores), min(scores), max(scores)"
   ]
  },
  {
   "cell_type": "code",
   "execution_count": null,
   "metadata": {},
   "outputs": [],
   "source": [
    "def timing_test_only_maxpool(runs, candidate_lengths, stride, num_kernels, seq_length):\n",
    "    times, scores = [],[]\n",
    "    for i in range(runs):\n",
    "        kernels = generate_kernels(seq_length, num_kernels, candidate_lengths, stride)\n",
    "        start = time.time()\n",
    "        x_train_tfm = apply_kernels(np_x_train, kernels)[:,[1,3]]\n",
    "        #print(x_train_tfm.shape)\n",
    "        #print(x_train_tfm[:,[0,2]].shape)\n",
    "        x_valid_tfm = apply_kernels(np_x_valid, kernels)[:,[1,3]]\n",
    "        classifier = RidgeClassifierCV(alphas=np.logspace(-3, 3, 7), normalize=True)\n",
    "        classifier.fit(x_train_tfm, np_y_train)\n",
    "        score = classifier.score(x_valid_tfm, np_y_valid)\n",
    "        t = time.time()-start\n",
    "        scores.append(score)\n",
    "        times.append(t)\n",
    "        print(\"Finished Run\", i+1, \"Score:\", round(score, 3), \"Time:\", round(t,3))\n",
    "    return times, scores"
   ]
  },
  {
   "cell_type": "code",
   "execution_count": null,
   "metadata": {},
   "outputs": [
    {
     "name": "stdout",
     "output_type": "stream",
     "text": [
      "Finished Run 1 Score: 0.018 Time: 3.357\n",
      "Finished Run 2 Score: 0.013 Time: 2.778\n",
      "Finished Run 3 Score: 0.018 Time: 3.305\n",
      "Finished Run 4 Score: 0.02 Time: 3.296\n",
      "Finished Run 5 Score: 0.022 Time: 2.832\n",
      "Finished Run 6 Score: 0.02 Time: 2.956\n",
      "Finished Run 7 Score: 0.018 Time: 3.311\n",
      "Finished Run 8 Score: 0.021 Time: 3.344\n",
      "Finished Run 9 Score: 0.018 Time: 3.363\n",
      "Finished Run 10 Score: 0.017 Time: 3.157\n"
     ]
    }
   ],
   "source": [
    "times, scores = timing_test_only_maxpool(10, np.array((7,9,11)), stride=5, num_kernels=2, seq_length=16000)"
   ]
  },
  {
   "cell_type": "code",
   "execution_count": null,
   "metadata": {},
   "outputs": [
    {
     "data": {
      "text/plain": [
       "(0.018474974806852538, 0.013436345314074572, 0.021722091591087223)"
      ]
     },
     "execution_count": null,
     "metadata": {},
     "output_type": "execute_result"
    }
   ],
   "source": [
    "sum(scores)/len(scores), min(scores), max(scores)"
   ]
  },
  {
   "cell_type": "markdown",
   "metadata": {},
   "source": [
    "### PPV appears to be more predictive than maxpool, what if we invent a bunch of other features to process the output from random conv? time wise these should be free"
   ]
  },
  {
   "cell_type": "code",
   "execution_count": null,
   "metadata": {},
   "outputs": [],
   "source": [
    "@njit(fastmath = True)\n",
    "def apply_kernel(X, weights, length, bias, dilation, padding, stride):\n",
    "    # zero padding\n",
    "    if padding > 0:\n",
    "        _input_length = len(X)\n",
    "        _X = np.zeros(_input_length + (2 * padding))\n",
    "        _X[padding:(padding + _input_length)] = X\n",
    "        X = _X\n",
    "    input_length = len(X)\n",
    "    output_length = (input_length - ((length - 1) * dilation))//stride\n",
    "    \n",
    "    _ppv = 0 # \"proportion of positive values\"\n",
    "    _max = np.NINF\n",
    "    for i in range(output_length):\n",
    "        _sum = bias\n",
    "        s = 0\n",
    "        _sum = bias + weights * X[np.linspace(i*stride, i*stride+length*dilation, length)]\n",
    "        if _sum > 0:\n",
    "            _ppv += 1\n",
    "        if _sum > _max:\n",
    "            _max = _sum\n",
    "        s += _sum\n",
    "    # add in mean/global avg poolign\n",
    "    return _ppv / output_length, _max, s/output_length\n",
    "\n",
    "@njit(parallel = True, fastmath = True)\n",
    "def apply_kernels(X, kernels):\n",
    "    weights, lengths, biases, dilations, paddings, strides = kernels\n",
    "    num_examples = len(X)\n",
    "    num_kernels = len(weights)\n",
    "    # initialise output\n",
    "    _X = np.zeros((num_examples, num_kernels * 3)) # 3 features per kernel\n",
    "    for i in prange(num_examples):\n",
    "        for j in range(num_kernels):\n",
    "            _X[i, (j * 3):((j * 3) + 3)] = \\\n",
    "            apply_kernel(X[i], weights[j][:lengths[j]], lengths[j], biases[j], dilations[j], paddings[j], strides[j])\n",
    "    return _X"
   ]
  }
 ],
 "metadata": {
  "kernelspec": {
   "display_name": "Python 3",
   "language": "python",
   "name": "python3"
  }
 },
 "nbformat": 4,
 "nbformat_minor": 2
}
