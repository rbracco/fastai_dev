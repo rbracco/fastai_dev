{
 "cells": [
  {
   "cell_type": "code",
   "execution_count": null,
   "metadata": {},
   "outputs": [],
   "source": [
    "#export\n",
    "from local.test import *\n",
    "from local.basics import *\n",
    "from local.callback.progress import *\n",
    "from local.text.data import TensorText"
   ]
  },
  {
   "cell_type": "code",
   "execution_count": null,
   "metadata": {},
   "outputs": [],
   "source": [
    "from local.notebook.showdoc import *"
   ]
  },
  {
   "cell_type": "code",
   "execution_count": null,
   "metadata": {},
   "outputs": [],
   "source": [
    "#default_exp callback.wandb"
   ]
  },
  {
   "cell_type": "markdown",
   "metadata": {},
   "source": [
    "# Wandb\n",
    "\n",
    "> Integration with [wandb](https://www.wandb.com/) "
   ]
  },
  {
   "cell_type": "markdown",
   "metadata": {},
   "source": [
    "First thing first, you need to install wandb with\n",
    "```\n",
    "pip install wandb\n",
    "```\n",
    "Create a free account then run \n",
    "``` \n",
    "wandb login\n",
    "```\n",
    "in your terminal. Foolw the link to get an API token that you will need to paste, then you're all set!"
   ]
  },
  {
   "cell_type": "code",
   "execution_count": null,
   "metadata": {},
   "outputs": [],
   "source": [
    "#export\n",
    "import wandb"
   ]
  },
  {
   "cell_type": "code",
   "execution_count": null,
   "metadata": {},
   "outputs": [],
   "source": [
    "#export\n",
    "class WandbCallback(Callback):\n",
    "    \"Saves model topology, losses & metrics\"\n",
    "    # Record if watch has been called previously (even in another instance)\n",
    "    _watch_called = False\n",
    "\n",
    "    def __init__(self, log=\"gradients\", log_train=False, log_preds=True, valid_dl=None, n_preds=36, seed=12345):\n",
    "        # Check if wandb.init has been called\n",
    "        if wandb.run is None:\n",
    "            raise ValueError('You must call wandb.init() before WandbCallback()')    \n",
    "        store_attr(self, 'log,log_train,log_preds,valid_dl,n_preds,seed')\n",
    "        \n",
    "    def begin_fit(self):\n",
    "        \"Call watch method to log model topology, gradients & weights\"\n",
    "        if not WandbCallback._watch_called:\n",
    "            WandbCallback._watch_called = True\n",
    "            # Logs model topology and optionally gradients and weights\n",
    "            wandb.watch(self.learn.model, log=self.log)\n",
    "        \n",
    "        if hasattr(self, 'save_model'): self.save_model.add_save = Path(wandb.run.dir)/'bestmodel.pth'\n",
    "        \n",
    "        if self.log_preds and not self.valid_dl: \n",
    "            #Initializes the batch watched\n",
    "            wandbRandom = random.Random(self.seed)  # For repeatability\n",
    "            self.n_preds = min(self.n_preds, len(self.dbunch.valid_ds))\n",
    "            idxs = wandbRandom.sample(range(len(self.dbunch.valid_ds)), self.n_preds)\n",
    "            \n",
    "            items = [self.dbunch.valid_ds.items[i] for i in idxs]\n",
    "            test_tls = [tl._new(items, split_idx=1) for tl in self.dbunch.valid_ds.tls]\n",
    "            self.valid_dl = self.dbunch.valid_dl.new(DataSource(tls=test_tls), bs=self.n_preds)\n",
    "\n",
    "    def after_batch(self):\n",
    "        if self.training and self.log_train: \n",
    "            hypers = {f'{k}_{i}':v for i,h in enumerate(self.opt.hypers) for k,v in h.items()}\n",
    "            wandb.log({'train_loss': self.smooth_loss, **hypers})\n",
    "            \n",
    "    def after_epoch(self):\n",
    "        \"Log training loss, validation loss and custom metrics & log prediction samples & save model\"\n",
    "        # Log sample predictions\n",
    "        if self.log_train: return\n",
    "        if self.log_preds:\n",
    "            b = self.valid_dl.one_batch()\n",
    "            self.learn.one_batch(0, b)\n",
    "            preds = getattr(self.loss_func, 'activation', noop)(self.pred)\n",
    "            out = getattr(self.loss_func, 'decodes', noop)(preds)\n",
    "            x,y,its,outs = self.valid_dl.show_results(b, out, show=False, max_n=self.n_preds)\n",
    "            wandb.log({\"Prediction Samples\": wand_process(x, y, its, outs)}, commit=False)\n",
    "        wandb.log({n:s for n,s in zip(self.recorder.metric_names, self.recorder.log) if n!='train_loss'})\n",
    "        \n",
    "    def after_fit(self):\n",
    "        if self.log_train: return\n",
    "        for p,v in self.recorder.hps.items():\n",
    "            fig,ax = plt.subplots()\n",
    "            ax.plot(v)\n",
    "            ax.set_title(p)\n",
    "            wandb.log({p: wandb.Image(fig)}, commit=False)\n",
    "            plt.close(fig)\n",
    "        fig,ax = plt.subplots()\n",
    "        ax.plot(self.recorder.losses)\n",
    "        ax.set_title('train_loss')\n",
    "        wandb.log({'train_loss': wandb.Image(fig)})\n",
    "        plt.close(fig)"
   ]
  },
  {
   "cell_type": "markdown",
   "metadata": {},
   "source": [
    "Optionally logs weights and or gradients depending on `log` (can be \"gradients\", \"parameters\", \"all\" or None), sample predictions if ` log_preds=True` that will come from `valid_dl` or a random sample pf the validation set (determined by `seed`). `n_preds` are logged in this case.\n",
    "\n",
    "If used in combination with `SaveModelCallback`, the best model is saved as well."
   ]
  },
  {
   "cell_type": "markdown",
   "metadata": {},
   "source": [
    "## Example of use:\n",
    "\n",
    "Once your have defined your `Learner`, before you call to `fit` or `fit_one_cycle`, you need to initialize wandb:\n",
    "```\n",
    "import wandb\n",
    "wandb.init(project=PROJECT_NAME, entity=USER_NAME)\n",
    "```\n",
    "(replace `PROJECT_NAME` and `USER_NAME`). Then you add the callback in your call to fit, potentially with `SaveModelCallback` if you want to save the best model:\n",
    "```\n",
    "from fastai2.callback.wandb import *\n",
    "learn.fit(..., cbs=WandbCallback())\n",
    "```"
   ]
  },
  {
   "cell_type": "code",
   "execution_count": null,
   "metadata": {},
   "outputs": [],
   "source": [
    "#export\n",
    "@typedispatch\n",
    "def wand_process(x:TensorImage, y, samples, outs):\n",
    "    \"Process `sample` and `out` depending on the type of `x/y`\"\n",
    "    res = []\n",
    "    for s,o in zip(samples, outs):\n",
    "        img = s[0].permute(1,2,0)  \n",
    "        res.append(wandb.Image(img, caption='Input data', grouping=3))\n",
    "        for t, capt in ((o[0], \"Prediction\"), (s[1], \"Ground Truth\")):\n",
    "            # Resize plot to image resolution (from https://stackoverflow.com/a/13714915)\n",
    "            my_dpi = 100\n",
    "            fig = plt.figure(frameon=False, dpi=my_dpi)\n",
    "            h, w = img.shape[:2]\n",
    "            fig.set_size_inches(w / my_dpi, h / my_dpi)\n",
    "            ax = plt.Axes(fig, [0., 0., 1., 1.])\n",
    "            ax.set_axis_off()\n",
    "            fig.add_axes(ax)\n",
    "            # Superimpose label or prediction to input image\n",
    "            ax = img.show(ctx=ax)\n",
    "            ax = t.show(ctx=ax)\n",
    "            res.append(wandb.Image(fig, caption=capt))\n",
    "            plt.close(fig)\n",
    "    return res"
   ]
  },
  {
   "cell_type": "code",
   "execution_count": null,
   "metadata": {},
   "outputs": [],
   "source": [
    "#export\n",
    "@typedispatch\n",
    "def wand_process(x:TensorImage, y:(TensorCategory,TensorMultiCategory), samples, outs):\n",
    "    return [wandb.Image(s[0].permute(1,2,0), caption=f'Ground Truth: {s[1]}\\nPrediction: {o[0]}')\n",
    "            for s,o in zip(samples,outs)]"
   ]
  },
  {
   "cell_type": "code",
   "execution_count": null,
   "metadata": {},
   "outputs": [],
   "source": [
    "#export\n",
    "@typedispatch\n",
    "def wand_process(x:TensorText, y:(TensorCategory,TensorMultiCategory), samples, outs):\n",
    "    data = [[s[0], s[1], o[0]] for s,o in zip(samples,outs)]\n",
    "    return wandb.Table(data=data, columns=[\"Text\", \"Target\", \"Prediction\"])"
   ]
  },
  {
   "cell_type": "code",
   "execution_count": null,
   "metadata": {},
   "outputs": [],
   "source": [
    "#export\n",
    "_all_ = ['wand_process']"
   ]
  },
  {
   "cell_type": "markdown",
   "metadata": {},
   "source": [
    "## Export -"
   ]
  },
  {
   "cell_type": "code",
   "execution_count": null,
   "metadata": {},
   "outputs": [
    {
     "name": "stdout",
     "output_type": "stream",
     "text": [
      "Converted 00_test.ipynb.\n",
      "Converted 01_core_foundation.ipynb.\n",
      "Converted 01a_core_utils.ipynb.\n",
      "Converted 01b_core_dispatch.ipynb.\n",
      "Converted 01c_core_transform.ipynb.\n",
      "Converted 02_core_script.ipynb.\n",
      "Converted 03_torchcore.ipynb.\n",
      "Converted 03a_layers.ipynb.\n",
      "Converted 04_data_load.ipynb.\n",
      "Converted 05_data_core.ipynb.\n",
      "Converted 06_data_transforms.ipynb.\n",
      "Converted 07_data_block.ipynb.\n",
      "Converted 08_vision_core.ipynb.\n",
      "Converted 09_vision_augment.ipynb.\n",
      "Converted 09a_vision_data.ipynb.\n",
      "Converted 10_pets_tutorial.ipynb.\n",
      "Converted 11_vision_models_xresnet.ipynb.\n",
      "Converted 12_optimizer.ipynb.\n",
      "Converted 13_learner.ipynb.\n",
      "Converted 13a_metrics.ipynb.\n",
      "Converted 14_callback_schedule.ipynb.\n",
      "Converted 14a_callback_data.ipynb.\n",
      "Converted 15_callback_hook.ipynb.\n",
      "Converted 15a_vision_models_unet.ipynb.\n",
      "Converted 16_callback_progress.ipynb.\n",
      "Converted 17_callback_tracker.ipynb.\n",
      "Converted 18_callback_fp16.ipynb.\n",
      "Converted 19_callback_mixup.ipynb.\n",
      "Converted 20_interpret.ipynb.\n",
      "Converted 20a_distributed.ipynb.\n",
      "Converted 21_vision_learner.ipynb.\n",
      "Converted 22_tutorial_imagenette.ipynb.\n",
      "Converted 23_tutorial_transfer_learning.ipynb.\n",
      "Converted 30_text_core.ipynb.\n",
      "Converted 31_text_data.ipynb.\n",
      "Converted 32_text_models_awdlstm.ipynb.\n",
      "Converted 33_text_models_core.ipynb.\n",
      "Converted 34_callback_rnn.ipynb.\n",
      "Converted 35_tutorial_wikitext.ipynb.\n",
      "Converted 36_text_models_qrnn.ipynb.\n",
      "Converted 37_text_learner.ipynb.\n",
      "Converted 38_tutorial_ulmfit.ipynb.\n",
      "Converted 40_tabular_core.ipynb.\n",
      "Converted 41_tabular_model.ipynb.\n",
      "Converted 42_tabular_rapids.ipynb.\n",
      "Converted 50_data_block_examples.ipynb.\n",
      "Converted 60_medical_imaging.ipynb.\n",
      "Converted 65_medical_text.ipynb.\n",
      "Converted 70_callback_wandb.ipynb.\n",
      "Converted 90_notebook_core.ipynb.\n",
      "Converted 91_notebook_export.ipynb.\n",
      "Converted 92_notebook_showdoc.ipynb.\n",
      "Converted 93_notebook_export2html.ipynb.\n",
      "Converted 94_notebook_test.ipynb.\n",
      "Converted 95_index.ipynb.\n",
      "Converted 96_data_external.ipynb.\n",
      "Converted 97_utils_test.ipynb.\n",
      "Converted notebook2jekyll.ipynb.\n"
     ]
    }
   ],
   "source": [
    "#hide\n",
    "from local.notebook.export import *\n",
    "notebook2script(all_fs=True)"
   ]
  },
  {
   "cell_type": "code",
   "execution_count": null,
   "metadata": {},
   "outputs": [],
   "source": []
  }
 ],
 "metadata": {
  "kernelspec": {
   "display_name": "Python 3",
   "language": "python",
   "name": "python3"
  }
 },
 "nbformat": 4,
 "nbformat_minor": 2
}
