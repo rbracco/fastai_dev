{
 "cells": [
  {
   "cell_type": "code",
   "execution_count": null,
   "metadata": {},
   "outputs": [],
   "source": [
    "%reload_ext autoreload\n",
    "%autoreload 2\n",
    "%matplotlib inline"
   ]
  },
  {
   "cell_type": "code",
   "execution_count": null,
   "metadata": {},
   "outputs": [],
   "source": [
    "from local.torch_basics import *\n",
    "from local.test import *\n",
    "from local.basics import *\n",
    "from local.data.all import *\n",
    "from local.vision.core import *\n",
    "from local.notebook.showdoc import show_doc\n",
    "from local.audio.core import *\n",
    "from local.audio.augment import *\n",
    "from local.vision.learner import *\n",
    "from local.vision.models.xresnet import *\n",
    "from local.metrics import *\n",
    "from local.callback.schedule import *\n",
    "import torchaudio\n",
    "from fastprogress import progress_bar as pb\n",
    "import time\n",
    "from sklearn.model_selection import train_test_split\n",
    "from sklearn.linear_model import RidgeClassifierCV"
   ]
  },
  {
   "cell_type": "code",
   "execution_count": null,
   "metadata": {},
   "outputs": [],
   "source": [
    "from numba import njit, prange\n",
    "import numpy as np\n",
    "\n",
    "@njit\n",
    "def generate_kernels(input_length, num_kernels, candidate_lengths=np.array((7, 9, 11)), stride=5):\n",
    "    # initialise kernel parameters\n",
    "    strides = np.ones(num_kernels, dtype = np.int32) * stride\n",
    "    weights = np.zeros((num_kernels, candidate_lengths.max())) # see note\n",
    "    lengths = np.zeros(num_kernels, dtype = np.int32) # see note\n",
    "    biases = np.zeros(num_kernels)\n",
    "    dilations = np.zeros(num_kernels, dtype = np.int32)\n",
    "    paddings = np.zeros(num_kernels, dtype = np.int32)\n",
    "    # note: only the first *lengths[i]* values of *weights[i]* are used\n",
    "    for i in range(num_kernels):\n",
    "        length = np.random.choice(candidate_lengths)\n",
    "        _weights = np.random.normal(0, 1, length)\n",
    "        bias = np.random.uniform(-1, 1)\n",
    "        dilation = 2 ** np.random.uniform(0, np.log2((input_length - 1) // (length - 1)))\n",
    "        padding = ((length - 1) * dilation) // 2 if np.random.randint(2) == 1 else 0\n",
    "        weights[i, :length] = _weights - _weights.mean()\n",
    "        lengths[i], biases[i], dilations[i], paddings[i] = length, bias, dilation, padding\n",
    "    return weights, lengths, biases, dilations, paddings, strides"
   ]
  },
  {
   "cell_type": "code",
   "execution_count": null,
   "metadata": {},
   "outputs": [],
   "source": [
    "@njit(fastmath = True)\n",
    "def apply_kernel(X, weights, length, bias, dilation, padding, stride):\n",
    "    # zero padding\n",
    "    if padding > 0:\n",
    "        _input_length = len(X)\n",
    "        _X = np.zeros(_input_length + (2 * padding))\n",
    "        _X[padding:(padding + _input_length)] = X\n",
    "        X = _X\n",
    "    input_length = len(X)\n",
    "    output_length = (input_length - ((length - 1) * dilation))//stride\n",
    "    _ppv = 0 # \"proportion of positive values\"\n",
    "    _max = np.NINF\n",
    "    for i in range(output_length):\n",
    "        _sum = bias\n",
    "        for j in range(length):\n",
    "            _sum += weights[j] * X[i*stride + (j * dilation)]\n",
    "        if _sum > 0:\n",
    "            _ppv += 1\n",
    "        if _sum > _max:\n",
    "            _max = _sum\n",
    "    return _ppv / output_length, _max"
   ]
  },
  {
   "cell_type": "code",
   "execution_count": null,
   "metadata": {},
   "outputs": [],
   "source": [
    "@njit(parallel = True, fastmath = True)\n",
    "def apply_kernels(X, kernels):\n",
    "    weights, lengths, biases, dilations, paddings, strides = kernels\n",
    "    num_examples = len(X)\n",
    "    num_kernels = len(weights)\n",
    "    # initialise output\n",
    "    _X = np.zeros((num_examples, num_kernels * 2)) # 2 features per kernel\n",
    "    for i in prange(num_examples):\n",
    "        for j in range(num_kernels):\n",
    "            _X[i, (j * 2):((j * 2) + 2)] = \\\n",
    "            apply_kernel(X[i], weights[j][:lengths[j]], lengths[j], biases[j], dilations[j], paddings[j], strides[j])\n",
    "    return _X"
   ]
  },
  {
   "cell_type": "code",
   "execution_count": null,
   "metadata": {},
   "outputs": [],
   "source": [
    "p10speakers = Config()['data_path'] / 'ST-AEDS-20180100_1-OS'"
   ]
  },
  {
   "cell_type": "code",
   "execution_count": null,
   "metadata": {},
   "outputs": [],
   "source": [
    "x = AudioGetter(\"\", recurse=True, folders=None)\n",
    "files_10  = x(p10speakers)"
   ]
  },
  {
   "cell_type": "code",
   "execution_count": null,
   "metadata": {},
   "outputs": [
    {
     "data": {
      "text/plain": [
       "(#3842) [/home/jupyter/.fastai/data/ST-AEDS-20180100_1-OS/f0004_us_f0004_00446.wav,/home/jupyter/.fastai/data/ST-AEDS-20180100_1-OS/m0002_us_m0002_00128.wav,/home/jupyter/.fastai/data/ST-AEDS-20180100_1-OS/f0003_us_f0003_00279.wav,/home/jupyter/.fastai/data/ST-AEDS-20180100_1-OS/f0001_us_f0001_00168.wav,/home/jupyter/.fastai/data/ST-AEDS-20180100_1-OS/f0005_us_f0005_00286.wav,/home/jupyter/.fastai/data/ST-AEDS-20180100_1-OS/m0005_us_m0005_00282.wav,/home/jupyter/.fastai/data/ST-AEDS-20180100_1-OS/f0005_us_f0005_00432.wav,/home/jupyter/.fastai/data/ST-AEDS-20180100_1-OS/f0005_us_f0005_00054.wav,/home/jupyter/.fastai/data/ST-AEDS-20180100_1-OS/m0004_us_m0004_00110.wav,/home/jupyter/.fastai/data/ST-AEDS-20180100_1-OS/m0003_us_m0003_00180.wav...]"
      ]
     },
     "execution_count": null,
     "metadata": {},
     "output_type": "execute_result"
    }
   ],
   "source": [
    "files_10"
   ]
  },
  {
   "cell_type": "code",
   "execution_count": null,
   "metadata": {},
   "outputs": [],
   "source": [
    "oa = OpenAudio(files_10)"
   ]
  },
  {
   "cell_type": "code",
   "execution_count": null,
   "metadata": {},
   "outputs": [],
   "source": [
    "CLIP_LENGTH = 2"
   ]
  },
  {
   "cell_type": "code",
   "execution_count": null,
   "metadata": {},
   "outputs": [
    {
     "data": {
      "text/html": [
       "\n",
       "    <div>\n",
       "        <style>\n",
       "            /* Turns off some styling */\n",
       "            progress {\n",
       "                /* gets rid of default border in Firefox and Opera. */\n",
       "                border: none;\n",
       "                /* Needs to be in here for Safari polyfill so background images work as expected. */\n",
       "                background-size: auto;\n",
       "            }\n",
       "            .progress-bar-interrupted, .progress-bar-interrupted::-webkit-progress-bar {\n",
       "                background: #F44336;\n",
       "            }\n",
       "        </style>\n",
       "      <progress value='3842' class='' max='3842', style='width:300px; height:20px; vertical-align: middle;'></progress>\n",
       "      100.00% [3842/3842 00:50<00:00]\n",
       "    </div>\n",
       "    "
      ],
      "text/plain": [
       "<IPython.core.display.HTML object>"
      ]
     },
     "metadata": {},
     "output_type": "display_data"
    }
   ],
   "source": [
    "labeler = lambda x: str(x).split('/')[-1][:5]\n",
    "sigs, labels = [],[]\n",
    "cropper = CropSignal(1000*CLIP_LENGTH, pad_mode='repeat')\n",
    "remove_silence = RemoveSilence()\n",
    "for i in pb(range(len(files_10))):\n",
    "    sigs.append(cropper(remove_silence(oa(i))).sig)\n",
    "    labels.append(labeler(files_10[i]))"
   ]
  },
  {
   "cell_type": "code",
   "execution_count": null,
   "metadata": {},
   "outputs": [
    {
     "data": {
      "text/plain": [
       "(3842, 3842)"
      ]
     },
     "execution_count": null,
     "metadata": {},
     "output_type": "execute_result"
    }
   ],
   "source": [
    "len(sigs), len(labels)"
   ]
  },
  {
   "cell_type": "code",
   "execution_count": null,
   "metadata": {},
   "outputs": [],
   "source": [
    "#d = list(zip(sigs, labels))"
   ]
  },
  {
   "cell_type": "code",
   "execution_count": null,
   "metadata": {},
   "outputs": [],
   "source": [
    "#d[0]"
   ]
  },
  {
   "cell_type": "code",
   "execution_count": null,
   "metadata": {},
   "outputs": [],
   "source": [
    "#train, valid = train_test_split()"
   ]
  },
  {
   "cell_type": "code",
   "execution_count": null,
   "metadata": {},
   "outputs": [],
   "source": [
    "train_size = int(3842*.8)\n",
    "train_idxs = torch.randperm(3842)[:train_size]\n",
    "valid_idxs = [i for i in range(3842) if i not in train_idxs]"
   ]
  },
  {
   "cell_type": "code",
   "execution_count": null,
   "metadata": {},
   "outputs": [],
   "source": [
    "assert len(train_idxs) + len(valid_idxs) == len(sigs)"
   ]
  },
  {
   "cell_type": "code",
   "execution_count": null,
   "metadata": {},
   "outputs": [],
   "source": [
    "x_train = [sigs[idx].squeeze(0).numpy() for idx in train_idxs]\n",
    "y_train = [labels[idx] for idx in train_idxs]\n",
    "x_valid = [sigs[idx].squeeze(0).numpy() for idx in valid_idxs]\n",
    "y_valid = [labels[idx] for idx in valid_idxs]"
   ]
  },
  {
   "cell_type": "code",
   "execution_count": null,
   "metadata": {},
   "outputs": [
    {
     "data": {
      "text/plain": [
       "[3073, 3073, 769, 769]"
      ]
     },
     "execution_count": null,
     "metadata": {},
     "output_type": "execute_result"
    }
   ],
   "source": [
    "list(map(len, (x_train, y_train, x_valid, y_valid)))"
   ]
  },
  {
   "cell_type": "code",
   "execution_count": null,
   "metadata": {},
   "outputs": [
    {
     "data": {
      "text/plain": [
       "((3073, 32000), (769, 32000))"
      ]
     },
     "execution_count": null,
     "metadata": {},
     "output_type": "execute_result"
    }
   ],
   "source": [
    "np_x_train = np.stack(x_train).astype(np.float64)\n",
    "np_x_valid = np.stack(x_valid).astype(np.float64)\n",
    "np_x_train.shape, np_x_valid.shape"
   ]
  },
  {
   "cell_type": "code",
   "execution_count": null,
   "metadata": {},
   "outputs": [],
   "source": [
    "o2i_f = lambda x: 5*(x[0]=='m') + int(x[-1]) - 1"
   ]
  },
  {
   "cell_type": "code",
   "execution_count": null,
   "metadata": {},
   "outputs": [],
   "source": [
    "np_y_train = np.array(list(map(o2i_f, y_train)))\n",
    "np_y_valid = np.array(list(map(o2i_f, y_valid)))"
   ]
  },
  {
   "cell_type": "code",
   "execution_count": null,
   "metadata": {},
   "outputs": [
    {
     "data": {
      "text/plain": [
       "array([9, 0, 2, ..., 3, 2, 8])"
      ]
     },
     "execution_count": null,
     "metadata": {},
     "output_type": "execute_result"
    }
   ],
   "source": [
    "np_y_train"
   ]
  },
  {
   "cell_type": "code",
   "execution_count": null,
   "metadata": {},
   "outputs": [
    {
     "data": {
      "text/plain": [
       "((3073, 32000), (3073,), (769, 32000), (769,))"
      ]
     },
     "execution_count": null,
     "metadata": {},
     "output_type": "execute_result"
    }
   ],
   "source": [
    "np_x_train.shape, np_y_train.shape, np_x_valid.shape, np_y_valid.shape"
   ]
  },
  {
   "cell_type": "code",
   "execution_count": null,
   "metadata": {},
   "outputs": [
    {
     "data": {
      "text/plain": [
       "-4.516795804203429e-05"
      ]
     },
     "execution_count": null,
     "metadata": {},
     "output_type": "execute_result"
    }
   ],
   "source": [
    "np_x_train.mean()"
   ]
  },
  {
   "cell_type": "markdown",
   "metadata": {},
   "source": [
    "### Normalize the training data"
   ]
  },
  {
   "cell_type": "code",
   "execution_count": null,
   "metadata": {},
   "outputs": [],
   "source": [
    "np_x_train = (np_x_train - np_x_train.mean(axis = 1, keepdims = True)) / (np_x_train.std(axis = 1, keepdims = True) + 1e-8)\n",
    "np_x_valid = (np_x_valid - np_x_valid.mean(axis = 1, keepdims = True)) / (np_x_valid.std(axis = 1, keepdims = True) + 1e-8)"
   ]
  },
  {
   "cell_type": "code",
   "execution_count": null,
   "metadata": {},
   "outputs": [
    {
     "data": {
      "text/plain": [
       "(-2.4942986534370586e-19, 0.9999995602214256)"
      ]
     },
     "execution_count": null,
     "metadata": {},
     "output_type": "execute_result"
    }
   ],
   "source": [
    "np_x_train.mean(), np_x_train.std()"
   ]
  },
  {
   "cell_type": "code",
   "execution_count": null,
   "metadata": {},
   "outputs": [
    {
     "data": {
      "text/plain": [
       "dtype('float64')"
      ]
     },
     "execution_count": null,
     "metadata": {},
     "output_type": "execute_result"
    }
   ],
   "source": [
    "np_x_train.dtype"
   ]
  },
  {
   "cell_type": "code",
   "execution_count": null,
   "metadata": {},
   "outputs": [],
   "source": [
    "candidate_lengths = np.array((7,9,11))\n",
    "stride = 3"
   ]
  },
  {
   "cell_type": "code",
   "execution_count": null,
   "metadata": {},
   "outputs": [],
   "source": [
    "def timing_test(runs, candidate_lengths, stride, num_kernels, seq_length, show_progress=True):\n",
    "    times, scores = [],[]\n",
    "    for i in range(runs):\n",
    "        kernels = generate_kernels(seq_length, num_kernels, candidate_lengths, stride)\n",
    "        start = time.time()\n",
    "        x_train_tfm = apply_kernels(np_x_train, kernels)\n",
    "        x_valid_tfm = apply_kernels(np_x_valid, kernels)\n",
    "        classifier = RidgeClassifierCV(alphas=np.logspace(-3, 3, 7), normalize=True)\n",
    "        classifier.fit(x_train_tfm, np_y_train)\n",
    "        score = classifier.score(x_valid_tfm, np_y_valid)\n",
    "        t = time.time()-start\n",
    "        scores.append(score)\n",
    "        times.append(t)\n",
    "        if(show_progress): print(\"Finished Run\", i+1, \"Score:\", round(score, 3), \"Time:\", round(t,3))\n",
    "    return times, scores"
   ]
  },
  {
   "cell_type": "code",
   "execution_count": null,
   "metadata": {},
   "outputs": [],
   "source": [
    "def test_kernel_sizes(runs=10):\n",
    "    score_list = []\n",
    "    for k in range(3,100,2):\n",
    "        \n",
    "        times, scores = timing_test(runs, np.array((k,)), stride=5, num_kernels=1, seq_length=32000, show_progress=False)\n",
    "        score = round(sum(scores)/len(scores), 3)\n",
    "        mn = round(min(scores), 3)\n",
    "        mx = round(max(scores), 3)\n",
    "        print(\"Kernel Size:\", k, \"Score:\", score, \"Min:\", mn, \"Max:\",mx)\n",
    "        score_list.append(score)\n",
    "    return score_list"
   ]
  },
  {
   "cell_type": "code",
   "execution_count": null,
   "metadata": {},
   "outputs": [
    {
     "name": "stdout",
     "output_type": "stream",
     "text": [
      "Kernel Size: 3 Score: 0.238 Min: 0.144 Max: 0.325\n",
      "Kernel Size: 5 Score: 0.225 Min: 0.163 Max: 0.299\n",
      "Kernel Size: 7 Score: 0.23 Min: 0.127 Max: 0.311\n",
      "Kernel Size: 9 Score: 0.224 Min: 0.153 Max: 0.306\n",
      "Kernel Size: 11 Score: 0.208 Min: 0.14 Max: 0.313\n",
      "Kernel Size: 13 Score: 0.218 Min: 0.127 Max: 0.316\n",
      "Kernel Size: 15 Score: 0.21 Min: 0.137 Max: 0.283\n",
      "Kernel Size: 17 Score: 0.218 Min: 0.137 Max: 0.316\n",
      "Kernel Size: 19 Score: 0.209 Min: 0.133 Max: 0.303\n",
      "Kernel Size: 21 Score: 0.203 Min: 0.126 Max: 0.283\n",
      "Kernel Size: 23 Score: 0.195 Min: 0.14 Max: 0.286\n",
      "Kernel Size: 25 Score: 0.203 Min: 0.129 Max: 0.315\n",
      "Kernel Size: 27 Score: 0.205 Min: 0.127 Max: 0.312\n",
      "Kernel Size: 29 Score: 0.207 Min: 0.13 Max: 0.298\n",
      "Kernel Size: 31 Score: 0.197 Min: 0.13 Max: 0.278\n",
      "Kernel Size: 33 Score: 0.203 Min: 0.13 Max: 0.293\n",
      "Kernel Size: 35 Score: 0.195 Min: 0.131 Max: 0.265\n",
      "Kernel Size: 37 Score: 0.193 Min: 0.117 Max: 0.289\n",
      "Kernel Size: 39 Score: 0.202 Min: 0.112 Max: 0.341\n",
      "Kernel Size: 41 Score: 0.203 Min: 0.12 Max: 0.289\n",
      "Kernel Size: 43 Score: 0.19 Min: 0.103 Max: 0.28\n",
      "Kernel Size: 45 Score: 0.202 Min: 0.108 Max: 0.306\n",
      "Kernel Size: 47 Score: 0.191 Min: 0.125 Max: 0.294\n",
      "Kernel Size: 49 Score: 0.206 Min: 0.122 Max: 0.276\n",
      "Kernel Size: 51 Score: 0.198 Min: 0.12 Max: 0.291\n",
      "Kernel Size: 53 Score: 0.184 Min: 0.124 Max: 0.257\n",
      "Kernel Size: 55 Score: 0.193 Min: 0.12 Max: 0.295\n",
      "Kernel Size: 57 Score: 0.194 Min: 0.105 Max: 0.265\n",
      "Kernel Size: 59 Score: 0.191 Min: 0.111 Max: 0.291\n",
      "Kernel Size: 61 Score: 0.192 Min: 0.118 Max: 0.294\n",
      "Kernel Size: 63 Score: 0.186 Min: 0.122 Max: 0.277\n",
      "Kernel Size: 65 Score: 0.192 Min: 0.118 Max: 0.299\n",
      "Kernel Size: 67 Score: 0.177 Min: 0.105 Max: 0.276\n",
      "Kernel Size: 69 Score: 0.194 Min: 0.109 Max: 0.278\n",
      "Kernel Size: 71 Score: 0.193 Min: 0.113 Max: 0.274\n",
      "Kernel Size: 73 Score: 0.189 Min: 0.112 Max: 0.298\n",
      "Kernel Size: 75 Score: 0.18 Min: 0.108 Max: 0.293\n",
      "Kernel Size: 77 Score: 0.186 Min: 0.105 Max: 0.27\n",
      "Kernel Size: 79 Score: 0.197 Min: 0.117 Max: 0.307\n",
      "Kernel Size: 81 Score: 0.19 Min: 0.118 Max: 0.278\n",
      "Kernel Size: 83 Score: 0.195 Min: 0.118 Max: 0.293\n",
      "Kernel Size: 85 Score: 0.186 Min: 0.117 Max: 0.295\n",
      "Kernel Size: 87 Score: 0.188 Min: 0.109 Max: 0.285\n",
      "Kernel Size: 89 Score: 0.176 Min: 0.108 Max: 0.264\n",
      "Kernel Size: 91 Score: 0.185 Min: 0.118 Max: 0.295\n",
      "Kernel Size: 93 Score: 0.184 Min: 0.1 Max: 0.293\n",
      "Kernel Size: 95 Score: 0.18 Min: 0.113 Max: 0.272\n",
      "Kernel Size: 97 Score: 0.181 Min: 0.109 Max: 0.303\n",
      "Kernel Size: 99 Score: 0.185 Min: 0.111 Max: 0.298\n"
     ]
    },
    {
     "data": {
      "text/plain": [
       "[0.238,\n",
       " 0.225,\n",
       " 0.23,\n",
       " 0.224,\n",
       " 0.208,\n",
       " 0.218,\n",
       " 0.21,\n",
       " 0.218,\n",
       " 0.209,\n",
       " 0.203,\n",
       " 0.195,\n",
       " 0.203,\n",
       " 0.205,\n",
       " 0.207,\n",
       " 0.197,\n",
       " 0.203,\n",
       " 0.195,\n",
       " 0.193,\n",
       " 0.202,\n",
       " 0.203,\n",
       " 0.19,\n",
       " 0.202,\n",
       " 0.191,\n",
       " 0.206,\n",
       " 0.198,\n",
       " 0.184,\n",
       " 0.193,\n",
       " 0.194,\n",
       " 0.191,\n",
       " 0.192,\n",
       " 0.186,\n",
       " 0.192,\n",
       " 0.177,\n",
       " 0.194,\n",
       " 0.193,\n",
       " 0.189,\n",
       " 0.18,\n",
       " 0.186,\n",
       " 0.197,\n",
       " 0.19,\n",
       " 0.195,\n",
       " 0.186,\n",
       " 0.188,\n",
       " 0.176,\n",
       " 0.185,\n",
       " 0.184,\n",
       " 0.18,\n",
       " 0.181,\n",
       " 0.185]"
      ]
     },
     "execution_count": null,
     "metadata": {},
     "output_type": "execute_result"
    }
   ],
   "source": [
    "test_kernel_sizes(runs = 50)"
   ]
  },
  {
   "cell_type": "code",
   "execution_count": null,
   "metadata": {},
   "outputs": [],
   "source": [
    "scores = _"
   ]
  },
  {
   "cell_type": "code",
   "execution_count": null,
   "metadata": {},
   "outputs": [
    {
     "data": {
      "text/plain": [
       "Text(0, 0.5, 'Single Filter accuracy')"
      ]
     },
     "execution_count": null,
     "metadata": {},
     "output_type": "execute_result"
    },
    {
     "data": {
      "image/png": "[encoded data removed]",
      "text/plain": [
       "<Figure size 432x288 with 1 Axes>"
      ]
     },
     "metadata": {
      "needs_background": "light"
     },
     "output_type": "display_data"
    }
   ],
   "source": [
    "plt.plot(np.arange(3,100,2), scores)\n",
    "plt.xlabel(\"Filter size\")\n",
    "plt.ylabel(\"Single Filter accuracy\")"
   ]
  },
  {
   "cell_type": "code",
   "execution_count": null,
   "metadata": {},
   "outputs": [
    {
     "ename": "KeyboardInterrupt",
     "evalue": "",
     "output_type": "error",
     "traceback": [
      "\u001b[0;31m---------------------------------------------------------------------------\u001b[0m",
      "\u001b[0;31mKeyboardInterrupt\u001b[0m                         Traceback (most recent call last)",
      "\u001b[0;32m<ipython-input-193-c3617013be3e>\u001b[0m in \u001b[0;36m<module>\u001b[0;34m\u001b[0m\n\u001b[0;32m----> 1\u001b[0;31m \u001b[0mtiming_test\u001b[0m\u001b[0;34m(\u001b[0m\u001b[0;36m3\u001b[0m\u001b[0;34m,\u001b[0m \u001b[0mnp\u001b[0m\u001b[0;34m.\u001b[0m\u001b[0marray\u001b[0m\u001b[0;34m(\u001b[0m\u001b[0;34m(\u001b[0m\u001b[0;36m7\u001b[0m\u001b[0;34m,\u001b[0m \u001b[0;36m9\u001b[0m \u001b[0;34m,\u001b[0m\u001b[0;36m11\u001b[0m\u001b[0;34m)\u001b[0m\u001b[0;34m)\u001b[0m\u001b[0;34m,\u001b[0m \u001b[0mstride\u001b[0m\u001b[0;34m=\u001b[0m\u001b[0;36m25\u001b[0m\u001b[0;34m,\u001b[0m \u001b[0mnum_kernels\u001b[0m\u001b[0;34m=\u001b[0m\u001b[0;36m1000\u001b[0m\u001b[0;34m,\u001b[0m \u001b[0mseq_length\u001b[0m\u001b[0;34m=\u001b[0m\u001b[0;36m32000\u001b[0m\u001b[0;34m)\u001b[0m\u001b[0;34m\u001b[0m\u001b[0;34m\u001b[0m\u001b[0m\n\u001b[0m",
      "\u001b[0;32m<ipython-input-190-ed787df34531>\u001b[0m in \u001b[0;36mtiming_test\u001b[0;34m(runs, candidate_lengths, stride, num_kernels, seq_length, show_progress)\u001b[0m\n\u001b[1;32m      4\u001b[0m         \u001b[0mkernels\u001b[0m \u001b[0;34m=\u001b[0m \u001b[0mgenerate_kernels\u001b[0m\u001b[0;34m(\u001b[0m\u001b[0mseq_length\u001b[0m\u001b[0;34m,\u001b[0m \u001b[0mnum_kernels\u001b[0m\u001b[0;34m,\u001b[0m \u001b[0mcandidate_lengths\u001b[0m\u001b[0;34m,\u001b[0m \u001b[0mstride\u001b[0m\u001b[0;34m)\u001b[0m\u001b[0;34m\u001b[0m\u001b[0;34m\u001b[0m\u001b[0m\n\u001b[1;32m      5\u001b[0m         \u001b[0mstart\u001b[0m \u001b[0;34m=\u001b[0m \u001b[0mtime\u001b[0m\u001b[0;34m.\u001b[0m\u001b[0mtime\u001b[0m\u001b[0;34m(\u001b[0m\u001b[0;34m)\u001b[0m\u001b[0;34m\u001b[0m\u001b[0;34m\u001b[0m\u001b[0m\n\u001b[0;32m----> 6\u001b[0;31m         \u001b[0mx_train_tfm\u001b[0m \u001b[0;34m=\u001b[0m \u001b[0mapply_kernels\u001b[0m\u001b[0;34m(\u001b[0m\u001b[0mnp_x_train\u001b[0m\u001b[0;34m,\u001b[0m \u001b[0mkernels\u001b[0m\u001b[0;34m)\u001b[0m\u001b[0;34m\u001b[0m\u001b[0;34m\u001b[0m\u001b[0m\n\u001b[0m\u001b[1;32m      7\u001b[0m         \u001b[0mx_valid_tfm\u001b[0m \u001b[0;34m=\u001b[0m \u001b[0mapply_kernels\u001b[0m\u001b[0;34m(\u001b[0m\u001b[0mnp_x_valid\u001b[0m\u001b[0;34m,\u001b[0m \u001b[0mkernels\u001b[0m\u001b[0;34m)\u001b[0m\u001b[0;34m\u001b[0m\u001b[0;34m\u001b[0m\u001b[0m\n\u001b[1;32m      8\u001b[0m         \u001b[0mclassifier\u001b[0m \u001b[0;34m=\u001b[0m \u001b[0mRidgeClassifierCV\u001b[0m\u001b[0;34m(\u001b[0m\u001b[0malphas\u001b[0m\u001b[0;34m=\u001b[0m\u001b[0mnp\u001b[0m\u001b[0;34m.\u001b[0m\u001b[0mlogspace\u001b[0m\u001b[0;34m(\u001b[0m\u001b[0;34m-\u001b[0m\u001b[0;36m3\u001b[0m\u001b[0;34m,\u001b[0m \u001b[0;36m3\u001b[0m\u001b[0;34m,\u001b[0m \u001b[0;36m7\u001b[0m\u001b[0;34m)\u001b[0m\u001b[0;34m,\u001b[0m \u001b[0mnormalize\u001b[0m\u001b[0;34m=\u001b[0m\u001b[0;32mTrue\u001b[0m\u001b[0;34m)\u001b[0m\u001b[0;34m\u001b[0m\u001b[0;34m\u001b[0m\u001b[0m\n",
      "\u001b[0;31mKeyboardInterrupt\u001b[0m: "
     ]
    }
   ],
   "source": [
    "a"
   ]
  },
  {
   "cell_type": "code",
   "execution_count": null,
   "metadata": {},
   "outputs": [
    {
     "name": "stdout",
     "output_type": "stream",
     "text": [
      "CPU times: user 2 s, sys: 8 ms, total: 2 s\n",
      "Wall time: 303 ms\n"
     ]
    }
   ],
   "source": [
    "%%time \n",
    "#test time with a fraction of data\n",
    "x_small_tfm = apply_kernels(np_x_train[0:100], kernels)"
   ]
  },
  {
   "cell_type": "code",
   "execution_count": null,
   "metadata": {},
   "outputs": [],
   "source": [
    "timing_test(5, np.array((7,9,11)), stride=5, num_kernels=200, seq_length=16000)"
   ]
  },
  {
   "cell_type": "markdown",
   "metadata": {},
   "source": [
    "| Kernel Sizes     | Strides | Results |  Time  |\n",
    "| :--------------: | :-----: | :-----: | :-----:|      \n",
    "| {7,9,11}         | 7       | .85     |  4:30 |\n",
    "| {7,9,11}         | 5       | .899    |  5:20  |\n",
    "| {7,9,11}         | 3       | .903    |  8:15  |\n",
    "|{800,1000,1200}   | 400     | .46     |  3:43  |\n"
   ]
  },
  {
   "cell_type": "markdown",
   "metadata": {},
   "source": [
    "**Silence removed results 10000 kernels**\n",
    "\n",
    "| Kernel Sizes     | Strides | Results |  Time  |\n",
    "| :--------------: | :-----: | :-----: | :-----:|      \n",
    "| {7,9,11}         | 5       | .979     |  5:08 |\n",
    "| {7,9,11}         | 5       | .976     |  5:10 |\n",
    "| {7,9,11}         | 5       | .980     |  5:26 |\n"
   ]
  },
  {
   "cell_type": "markdown",
   "metadata": {},
   "source": [
    "**Silence removed results 2000 kernels**\n",
    "\n",
    "| Kernel Sizes     | Strides | Results |  Time  |\n",
    "| :--------------: | :-----: | :-----: | :-----:|      \n",
    "| {7,9,11}          | 5       | .972     |  1:10 |\n",
    "| {7,9,11}         | 5       | .979     |  1:03 |\n",
    "| {7,9,11}         | 5       | .976     |  1:01 |"
   ]
  },
  {
   "cell_type": "markdown",
   "metadata": {},
   "source": [
    "**Silence removed results 1000 kernels**\n",
    "\n",
    "| Kernel Sizes     | Strides | Results |  Time  |\n",
    "| :--------------: | :-----: | :-----: | :-----:|      \n",
    "| {7,9,11}         | 5       | .974     |  0:31 |\n",
    "| {7,9,11}         | 5       | .974     |  0:31 |\n",
    "| {7,9,11}         | 5       | .966     |  0:31 |"
   ]
  },
  {
   "cell_type": "markdown",
   "metadata": {},
   "source": [
    "**Silence removed results 200 kernels**\n",
    "\n",
    "| Kernel Sizes     | Strides | Results |  Time  |\n",
    "| :--------------: | :-----: | :-----: | :-----:|      \n",
    "| {7,9,11}         | 5       | .949     |  0:06 |\n",
    "| {7,9,11}         | 5       | .950     |  0:06 |\n",
    "| {7,9,11}         | 5       | .934     |  0:06|"
   ]
  },
  {
   "cell_type": "markdown",
   "metadata": {},
   "source": [
    "## messing with strides with fewer kernels"
   ]
  },
  {
   "cell_type": "markdown",
   "metadata": {},
   "source": [
    "**Silence removed results 200 kernels**\n",
    "\n",
    "| Kernel Sizes     | Strides | Results |  Time  |\n",
    "| :--------------: | :-----: | :-----: | :-----:|      \n",
    "| {7,9,11}         | 1       | .942     |  0:30 |\n",
    "| {7,9,11}         | 1       | .954     |  0:28 |\n",
    "| {7,9,11}         | 1       | .950     |  0:28|"
   ]
  },
  {
   "cell_type": "markdown",
   "metadata": {},
   "source": [
    "**Silence removed results 200 kernels**\n",
    "\n",
    "| Kernel Sizes     | Strides | Results |  Time  |\n",
    "| :--------------: | :-----: | :-----: | :-----:|      \n",
    "| {7,9,11}         | 3       | .960     |  0:10 |\n",
    "| {7,9,11}         | 3       | .948     |  0:10 |\n",
    "| {7,9,11}         | 3       | .954     |  0:10 |"
   ]
  },
  {
   "cell_type": "markdown",
   "metadata": {},
   "source": [
    "## Up clip length to 2 seconds"
   ]
  },
  {
   "cell_type": "markdown",
   "metadata": {},
   "source": [
    "**Silence removed results 200 kernels**\n",
    "\n",
    "| Kernel Sizes     | Strides | Results |  Time  |\n",
    "| :--------------: | :-----: | :-----: | :-----:|      \n",
    "| {7,9,11}         | 5       | .987     |  0:15 |\n",
    "| {7,9,11}         | 5       | .980     |  0:13 |\n",
    "| {7,9,11}         | 5       | .986     |  0:13 |"
   ]
  },
  {
   "cell_type": "markdown",
   "metadata": {},
   "source": [
    "**Silence removed results 200 kernels**\n",
    "\n",
    "| Kernel Sizes     | Strides | Results |  Time  |\n",
    "| :--------------: | :-----: | :-----: | :-----:|      \n",
    "| {7,9,11}         | 3       | .986     |  0:20 |\n",
    "| {7,9,11}         | 3       | .986     |  0:20 |\n",
    "| {7,9,11}         | 3       | .990     |  0:20 |"
   ]
  },
  {
   "cell_type": "markdown",
   "metadata": {},
   "source": [
    "**Silence removed results 1000 kernels**\n",
    "\n",
    "| Kernel Sizes     | Strides | Results |  Time  |\n",
    "| :--------------: | :-----: | :-----: | :-----:|      \n",
    "| {7,9,11}         | 3       | .992     |  1:40 |\n",
    "| {7,9,11}         | 3       | .992     |  1:40 |\n",
    "| {7,9,11}         | 3       | .992     |  1:40 |"
   ]
  },
  {
   "cell_type": "code",
   "execution_count": null,
   "metadata": {},
   "outputs": [
    {
     "name": "stdout",
     "output_type": "stream",
     "text": [
      "Finished Run 1 0.971 10.206\n",
      "Finished Run 2 0.969 10.016\n",
      "Finished Run 3 0.966 9.832\n"
     ]
    },
    {
     "data": {
      "text/plain": [
       "([10.206007480621338, 10.015744686126709, 9.83171796798706],\n",
       " [0.9713914174252276, 0.9687906371911573, 0.9661898569570871])"
      ]
     },
     "execution_count": null,
     "metadata": {},
     "output_type": "execute_result"
    }
   ],
   "source": [
    "timing_test(3, np.array((7,9,11)), stride=3, num_kernels=100, seq_length=32000)"
   ]
  },
  {
   "cell_type": "markdown",
   "metadata": {},
   "source": [
    "## Check impact of the kernel size options, do we really need to choose from 3?"
   ]
  },
  {
   "cell_type": "code",
   "execution_count": null,
   "metadata": {},
   "outputs": [
    {
     "name": "stdout",
     "output_type": "stream",
     "text": [
      "Finished Run 1 Score: 0.992 Time: 125.668\n",
      "Finished Run 2 Score: 0.992 Time: 125.973\n"
     ]
    }
   ],
   "source": [
    "timing_test(5, np.array((7,)), stride=3, num_kernels=1000, seq_length=32000)"
   ]
  },
  {
   "cell_type": "code",
   "execution_count": null,
   "metadata": {},
   "outputs": [],
   "source": [
    "timing_test(5, np.array((9,)), stride=3, num_kernels=1000, seq_length=32000)\n"
   ]
  },
  {
   "cell_type": "code",
   "execution_count": null,
   "metadata": {},
   "outputs": [],
   "source": [
    "timing_test(5, np.array((11,)), stride=3, num_kernels=1000, seq_length=32000)"
   ]
  },
  {
   "cell_type": "code",
   "execution_count": null,
   "metadata": {},
   "outputs": [],
   "source": [
    "timing_test(5, np.array((7,9,11)), stride=3, num_kernels=1000, seq_length=32000)"
   ]
  },
  {
   "cell_type": "markdown",
   "metadata": {},
   "source": [
    "## What is the predictive power of a single kernel?"
   ]
  },
  {
   "cell_type": "code",
   "execution_count": null,
   "metadata": {},
   "outputs": [
    {
     "name": "stdout",
     "output_type": "stream",
     "text": [
      "Finished Run 1 Score: 0.319 Time: 0.089\n",
      "Finished Run 2 Score: 0.224 Time: 0.16\n",
      "Finished Run 3 Score: 0.222 Time: 0.095\n",
      "Finished Run 4 Score: 0.212 Time: 0.15\n",
      "Finished Run 5 Score: 0.168 Time: 0.098\n",
      "Finished Run 6 Score: 0.218 Time: 0.159\n",
      "Finished Run 7 Score: 0.203 Time: 0.159\n",
      "Finished Run 8 Score: 0.259 Time: 0.134\n",
      "Finished Run 9 Score: 0.187 Time: 0.114\n",
      "Finished Run 10 Score: 0.176 Time: 0.199\n",
      "Finished Run 11 Score: 0.191 Time: 0.173\n",
      "Finished Run 12 Score: 0.282 Time: 0.112\n",
      "Finished Run 13 Score: 0.164 Time: 0.119\n",
      "Finished Run 14 Score: 0.209 Time: 0.171\n",
      "Finished Run 15 Score: 0.169 Time: 0.161\n",
      "Finished Run 16 Score: 0.198 Time: 0.162\n",
      "Finished Run 17 Score: 0.208 Time: 0.165\n",
      "Finished Run 18 Score: 0.222 Time: 0.153\n",
      "Finished Run 19 Score: 0.246 Time: 0.189\n",
      "Finished Run 20 Score: 0.177 Time: 0.168\n",
      "Finished Run 21 Score: 0.286 Time: 0.167\n",
      "Finished Run 22 Score: 0.251 Time: 0.098\n",
      "Finished Run 23 Score: 0.242 Time: 0.149\n",
      "Finished Run 24 Score: 0.222 Time: 0.114\n",
      "Finished Run 25 Score: 0.157 Time: 0.16\n",
      "Finished Run 26 Score: 0.143 Time: 0.146\n",
      "Finished Run 27 Score: 0.3 Time: 0.127\n",
      "Finished Run 28 Score: 0.204 Time: 0.14\n",
      "Finished Run 29 Score: 0.225 Time: 0.108\n",
      "Finished Run 30 Score: 0.185 Time: 0.165\n",
      "Finished Run 31 Score: 0.181 Time: 0.154\n",
      "Finished Run 32 Score: 0.211 Time: 0.14\n",
      "Finished Run 33 Score: 0.282 Time: 0.091\n",
      "Finished Run 34 Score: 0.207 Time: 0.139\n",
      "Finished Run 35 Score: 0.203 Time: 0.098\n",
      "Finished Run 36 Score: 0.213 Time: 0.168\n",
      "Finished Run 37 Score: 0.255 Time: 0.093\n",
      "Finished Run 38 Score: 0.203 Time: 0.175\n",
      "Finished Run 39 Score: 0.207 Time: 0.146\n",
      "Finished Run 40 Score: 0.199 Time: 0.12\n",
      "Finished Run 41 Score: 0.192 Time: 0.096\n",
      "Finished Run 42 Score: 0.159 Time: 0.119\n",
      "Finished Run 43 Score: 0.14 Time: 0.133\n",
      "Finished Run 44 Score: 0.161 Time: 0.106\n",
      "Finished Run 45 Score: 0.218 Time: 0.103\n",
      "Finished Run 46 Score: 0.237 Time: 0.176\n",
      "Finished Run 47 Score: 0.239 Time: 0.152\n",
      "Finished Run 48 Score: 0.272 Time: 0.11\n",
      "Finished Run 49 Score: 0.257 Time: 0.137\n",
      "Finished Run 50 Score: 0.152 Time: 0.191\n",
      "Finished Run 51 Score: 0.164 Time: 0.172\n",
      "Finished Run 52 Score: 0.224 Time: 0.167\n",
      "Finished Run 53 Score: 0.256 Time: 0.153\n",
      "Finished Run 54 Score: 0.185 Time: 0.17\n",
      "Finished Run 55 Score: 0.237 Time: 0.17\n",
      "Finished Run 56 Score: 0.229 Time: 0.166\n",
      "Finished Run 57 Score: 0.189 Time: 0.141\n",
      "Finished Run 58 Score: 0.2 Time: 0.169\n",
      "Finished Run 59 Score: 0.173 Time: 0.161\n",
      "Finished Run 60 Score: 0.189 Time: 0.141\n",
      "Finished Run 61 Score: 0.169 Time: 0.115\n",
      "Finished Run 62 Score: 0.218 Time: 0.103\n",
      "Finished Run 63 Score: 0.205 Time: 0.094\n",
      "Finished Run 64 Score: 0.202 Time: 0.144\n",
      "Finished Run 65 Score: 0.235 Time: 0.1\n",
      "Finished Run 66 Score: 0.142 Time: 0.127\n",
      "Finished Run 67 Score: 0.172 Time: 0.115\n",
      "Finished Run 68 Score: 0.264 Time: 0.09\n",
      "Finished Run 69 Score: 0.285 Time: 0.153\n",
      "Finished Run 70 Score: 0.247 Time: 0.104\n",
      "Finished Run 71 Score: 0.185 Time: 0.166\n",
      "Finished Run 72 Score: 0.274 Time: 0.156\n",
      "Finished Run 73 Score: 0.255 Time: 0.113\n",
      "Finished Run 74 Score: 0.212 Time: 0.098\n",
      "Finished Run 75 Score: 0.282 Time: 0.094\n",
      "Finished Run 76 Score: 0.176 Time: 0.148\n",
      "Finished Run 77 Score: 0.22 Time: 0.162\n",
      "Finished Run 78 Score: 0.215 Time: 0.165\n",
      "Finished Run 79 Score: 0.225 Time: 0.16\n",
      "Finished Run 80 Score: 0.235 Time: 0.142\n",
      "Finished Run 81 Score: 0.15 Time: 0.1\n",
      "Finished Run 82 Score: 0.208 Time: 0.145\n",
      "Finished Run 83 Score: 0.186 Time: 0.126\n",
      "Finished Run 84 Score: 0.183 Time: 0.159\n",
      "Finished Run 85 Score: 0.19 Time: 0.165\n",
      "Finished Run 86 Score: 0.192 Time: 0.089\n",
      "Finished Run 87 Score: 0.157 Time: 0.125\n",
      "Finished Run 88 Score: 0.191 Time: 0.188\n",
      "Finished Run 89 Score: 0.131 Time: 0.183\n",
      "Finished Run 90 Score: 0.276 Time: 0.17\n",
      "Finished Run 91 Score: 0.203 Time: 0.138\n",
      "Finished Run 92 Score: 0.186 Time: 0.164\n",
      "Finished Run 93 Score: 0.194 Time: 0.168\n",
      "Finished Run 94 Score: 0.189 Time: 0.103\n",
      "Finished Run 95 Score: 0.221 Time: 0.175\n",
      "Finished Run 96 Score: 0.172 Time: 0.115\n",
      "Finished Run 97 Score: 0.203 Time: 0.184\n",
      "Finished Run 98 Score: 0.203 Time: 0.142\n",
      "Finished Run 99 Score: 0.153 Time: 0.097\n",
      "Finished Run 100 Score: 0.222 Time: 0.125\n"
     ]
    }
   ],
   "source": [
    "times, scores = timing_test(100, np.array((7,9,11)), stride=5, num_kernels=1, seq_length=32000)"
   ]
  },
  {
   "cell_type": "code",
   "execution_count": null,
   "metadata": {},
   "outputs": [
    {
     "data": {
      "text/plain": [
       "0.20929778933680107"
      ]
     },
     "execution_count": null,
     "metadata": {},
     "output_type": "execute_result"
    }
   ],
   "source": [
    "sum(scores)/len(scores)"
   ]
  },
  {
   "cell_type": "markdown",
   "metadata": {},
   "source": [
    "## Let's see what this is really doing "
   ]
  },
  {
   "cell_type": "code",
   "execution_count": null,
   "metadata": {},
   "outputs": [],
   "source": [
    "seq_length = 32000\n",
    "kernels = generate_kernels(32000, num_kernels=1, candidate_lengths=np.array((7,)), stride=1)\n"
   ]
  },
  {
   "cell_type": "code",
   "execution_count": null,
   "metadata": {},
   "outputs": [
    {
     "data": {
      "text/plain": [
       "(array([[-0.8703073 , -0.21376067,  1.7579694 , -1.17941855, -0.01218891,\n",
       "          0.32218775,  0.19551828]]),\n",
       " array([7], dtype=int32),\n",
       " array([-0.34924512]),\n",
       " array([2783], dtype=int32),\n",
       " array([8350], dtype=int32),\n",
       " array([1]))"
      ]
     },
     "execution_count": null,
     "metadata": {},
     "output_type": "execute_result"
    }
   ],
   "source": [
    "#return weights, lengths, biases, dilations, paddings, strides\n",
    "kernels"
   ]
  },
  {
   "cell_type": "code",
   "execution_count": null,
   "metadata": {},
   "outputs": [
    {
     "data": {
      "text/plain": [
       "numpy.ndarray"
      ]
     },
     "execution_count": null,
     "metadata": {},
     "output_type": "execute_result"
    }
   ],
   "source": [
    "type(np_x_train)"
   ]
  },
  {
   "cell_type": "code",
   "execution_count": null,
   "metadata": {},
   "outputs": [],
   "source": [
    "x_train_tfm_single = apply_kernels(np.expand_dims(np_x_train[0], 0),kernels)"
   ]
  },
  {
   "cell_type": "code",
   "execution_count": null,
   "metadata": {},
   "outputs": [
    {
     "data": {
      "text/plain": [
       "array([[ 0.4112243, 12.2445997]])"
      ]
     },
     "execution_count": null,
     "metadata": {},
     "output_type": "execute_result"
    }
   ],
   "source": [
    "x_train_tfm_single"
   ]
  },
  {
   "cell_type": "code",
   "execution_count": null,
   "metadata": {},
   "outputs": [],
   "source": [
    "\n",
    "x_train_tfm_all = apply_kernels(np_x_train,kernels)"
   ]
  },
  {
   "cell_type": "code",
   "execution_count": null,
   "metadata": {},
   "outputs": [
    {
     "data": {
      "text/plain": [
       "(3073, 2)"
      ]
     },
     "execution_count": null,
     "metadata": {},
     "output_type": "execute_result"
    }
   ],
   "source": [
    "x_train_tfm_all.shape"
   ]
  },
  {
   "cell_type": "code",
   "execution_count": null,
   "metadata": {},
   "outputs": [
    {
     "data": {
      "text/plain": [
       "(0.1357415161552403, 0.43981626148365727)"
      ]
     },
     "execution_count": null,
     "metadata": {},
     "output_type": "execute_result"
    }
   ],
   "source": [
    "# min and max ppv\n",
    "x_train_tfm_all[:,0].min(), x_train_tfm_all[:,0].max()"
   ]
  },
  {
   "cell_type": "code",
   "execution_count": null,
   "metadata": {},
   "outputs": [
    {
     "data": {
      "text/plain": [
       "(7.565008650099326, 44.96004563476433)"
      ]
     },
     "execution_count": null,
     "metadata": {},
     "output_type": "execute_result"
    }
   ],
   "source": [
    "# min and max maxpool\n",
    "x_train_tfm_all[:,1].min(), x_train_tfm_all[:,1].max()"
   ]
  }
 ],
 "metadata": {
  "kernelspec": {
   "display_name": "Python 3",
   "language": "python",
   "name": "python3"
  }
 },
 "nbformat": 4,
 "nbformat_minor": 2
}
