{
 "cells": [
  {
   "cell_type": "markdown",
   "metadata": {},
   "source": [
    "# Applying Rocket to Raw Audio\n",
    "\n",
    "Note: this notebook is extremely messy as a result of me trying to rapidly prototype rocket for raw audio and not following best practices. It also uses the beta version of fastai v2 for removing silence and preprocessing. If you are interested in experimenting yourself and can't make sense of something here, please reach out to [me](https://forums.fast.ai/u/madeupmasters/summary) by PM, or in the [Deep Learning with Audio](https://forums.fast.ai/t/deep-learning-with-audio-thread) or [Time Series](https://forums.fast.ai/t/time-series-sequential-data-study-group) threads\n",
    "\n",
    "This notebook will apply the findings of the recent [Rocket Paper](https://arxiv.org/abs/1910.13051) by Angus Dempster, François Petitjean, Geoffrey I. Webb to 1D raw audio signals for the task of voice recognition. Some of this code is also adapted from [Ignacio Oguiza](https://forums.fast.ai/u/oguiza) and his [Time Series Module for FastAI v1](https://github.com/timeseriesAI/timeseriesAI)\n",
    "\n",
    "Initially the signals were too long and slow to train at a sample rate of 16000 (was going to take ~30-40 minutes for 1s clips). Training a 3800 audio 10 class dataset (small problem, trains to 99%+ accuracy in 2 minutes using typical audio pipeline of spectrogram + CNN), . To speed things up I added a stride which sped up results without a drop in accuracy, but still only led to 85% accuracy after 4 minutes of training. Removing silence and doubling the amount of time to 2s allowed us to get great results (95% accuracy in 6s, 98.6% in 20 seconds, 99.2% in 1 min 20 sec).\n",
    "\n",
    "Unfortunately so far, I have not been able to scale the results to harder problems, such as a 250 speaker dataset. "
   ]
  },
  {
   "cell_type": "markdown",
   "metadata": {},
   "source": [
    "## Summary of Findings\n",
    "\n",
    "In order to spare you having to go through this network, here's a summary of the interesting results\n",
    "\n",
    " - 95% accuracy in 6s, 98.6% in 20 seconds, 99.2% in 1 min 20 sec on a 10 class problem using raw audio and no augmentation\n",
    " - Having a stride of 5-7 seems to be an optimal balance between computational cost and accuracy\n",
    " - Bigger filter sizes are better only up to 7x7 or 9x9 and then they actually decrease accuracy with increased cost\n",
    " - A variety of filter sizes (7,9,11) doesnt seem to beat out just individual filter sizes 7,9,11 but more testing is needed with a harder dataset\n",
    " - Testing tons of individual kernels on random subsets of the data and then selecting the best ones actually results in less accuracy vs the same number of random kernels (this is likely due to increased correlation between the good random kernels, making them worse in an ensemble)\n",
    " - Small dilations work best (accuracy gradually increases up to dilation of 11 and then starts to decline, this holds for all feature sizes)."
   ]
  },
  {
   "cell_type": "code",
   "execution_count": null,
   "metadata": {},
   "outputs": [],
   "source": [
    "%reload_ext autoreload\n",
    "%autoreload 2\n",
    "%matplotlib inline"
   ]
  },
  {
   "cell_type": "code",
   "execution_count": null,
   "metadata": {},
   "outputs": [],
   "source": [
    "from local.torch_basics import *\n",
    "from local.test import *\n",
    "from local.basics import *\n",
    "from local.data.all import *\n",
    "from local.vision.core import *\n",
    "from local.notebook.showdoc import show_doc\n",
    "from local.audio.core import *\n",
    "from local.audio.augment import *\n",
    "from local.vision.learner import *\n",
    "from local.vision.models.xresnet import *\n",
    "from local.metrics import *\n",
    "from local.callback.schedule import *\n",
    "import torchaudio\n",
    "from fastprogress import progress_bar as pb\n",
    "import time\n",
    "from sklearn.model_selection import train_test_split\n",
    "from sklearn.linear_model import RidgeClassifierCV\n",
    "from rocket import generate_kernels, apply_kernel, apply_kernels"
   ]
  },
  {
   "cell_type": "code",
   "execution_count": null,
   "metadata": {},
   "outputs": [
    {
     "data": {
      "text/plain": [
       "PosixPath('/home/jupyter/.fastai/data/ST-AEDS-20180100_1-OS/ST-AEDS-20180100_1-OS')"
      ]
     },
     "execution_count": null,
     "metadata": {},
     "output_type": "execute_result"
    }
   ],
   "source": [
    "p10speakers = Config()['data_path'] / 'ST-AEDS-20180100_1-OS'\n",
    "untar_data(URLs.SPEAKERS10, fname=str(p10speakers)+'.tar', dest=p10speakers)"
   ]
  },
  {
   "cell_type": "code",
   "execution_count": null,
   "metadata": {},
   "outputs": [],
   "source": [
    "get_audio = AudioGetter(\"\", recurse=True, folders=None)\n",
    "files_10 = get_audio(p10speakers)"
   ]
  },
  {
   "cell_type": "code",
   "execution_count": null,
   "metadata": {},
   "outputs": [
    {
     "data": {
      "text/plain": [
       "(#3842) [/home/jupyter/.fastai/data/ST-AEDS-20180100_1-OS/f0004_us_f0004_00446.wav,/home/jupyter/.fastai/data/ST-AEDS-20180100_1-OS/m0002_us_m0002_00128.wav,/home/jupyter/.fastai/data/ST-AEDS-20180100_1-OS/f0003_us_f0003_00279.wav,/home/jupyter/.fastai/data/ST-AEDS-20180100_1-OS/f0001_us_f0001_00168.wav,/home/jupyter/.fastai/data/ST-AEDS-20180100_1-OS/f0005_us_f0005_00286.wav,/home/jupyter/.fastai/data/ST-AEDS-20180100_1-OS/m0005_us_m0005_00282.wav,/home/jupyter/.fastai/data/ST-AEDS-20180100_1-OS/f0005_us_f0005_00432.wav,/home/jupyter/.fastai/data/ST-AEDS-20180100_1-OS/f0005_us_f0005_00054.wav,/home/jupyter/.fastai/data/ST-AEDS-20180100_1-OS/m0004_us_m0004_00110.wav,/home/jupyter/.fastai/data/ST-AEDS-20180100_1-OS/m0003_us_m0003_00180.wav...]"
      ]
     },
     "execution_count": null,
     "metadata": {},
     "output_type": "execute_result"
    }
   ],
   "source": [
    "files_10"
   ]
  },
  {
   "cell_type": "code",
   "execution_count": null,
   "metadata": {},
   "outputs": [],
   "source": [
    "audio_opener = OpenAudio(files_10)\n",
    "p10_labeler = lambda x: str(x).split('/')[-1][:5] #grab the label from each file"
   ]
  },
  {
   "cell_type": "code",
   "execution_count": null,
   "metadata": {},
   "outputs": [],
   "source": [
    "CLIP_LENGTH = 2000"
   ]
  },
  {
   "cell_type": "code",
   "execution_count": null,
   "metadata": {},
   "outputs": [
    {
     "data": {
      "text/html": [
       "\n",
       "    <div>\n",
       "        <style>\n",
       "            /* Turns off some styling */\n",
       "            progress {\n",
       "                /* gets rid of default border in Firefox and Opera. */\n",
       "                border: none;\n",
       "                /* Needs to be in here for Safari polyfill so background images work as expected. */\n",
       "                background-size: auto;\n",
       "            }\n",
       "            .progress-bar-interrupted, .progress-bar-interrupted::-webkit-progress-bar {\n",
       "                background: #F44336;\n",
       "            }\n",
       "        </style>\n",
       "      <progress value='3842' class='' max='3842', style='width:300px; height:20px; vertical-align: middle;'></progress>\n",
       "      100.00% [3842/3842 00:12<00:00]\n",
       "    </div>\n",
       "    "
      ],
      "text/plain": [
       "<IPython.core.display.HTML object>"
      ]
     },
     "metadata": {},
     "output_type": "display_data"
    }
   ],
   "source": [
    "sigs, labels = [],[]\n",
    "cropper = CropSignal(CLIP_LENGTH, pad_mode='repeat')\n",
    "remove_silence = RemoveSilence()\n",
    "for i in pb(range(len(files_10))):\n",
    "    sigs.append(cropper(remove_silence(audio_opener(i))).sig)\n",
    "    labels.append(p10_labeler(files_10[i]))"
   ]
  },
  {
   "cell_type": "code",
   "execution_count": null,
   "metadata": {},
   "outputs": [
    {
     "data": {
      "text/plain": [
       "(3842, 3842)"
      ]
     },
     "execution_count": null,
     "metadata": {},
     "output_type": "execute_result"
    }
   ],
   "source": [
    "len(sigs), len(labels)"
   ]
  },
  {
   "cell_type": "code",
   "execution_count": null,
   "metadata": {},
   "outputs": [],
   "source": [
    "total_size = len(sigs)\n",
    "train_size = int(total_size*.8)\n",
    "train_idxs = torch.randperm(total_size)[:train_size]\n",
    "valid_idxs = [i for i in range(total_size) if i not in train_idxs]"
   ]
  },
  {
   "cell_type": "code",
   "execution_count": null,
   "metadata": {},
   "outputs": [],
   "source": [
    "assert len(train_idxs) + len(valid_idxs) == len(sigs)"
   ]
  },
  {
   "cell_type": "code",
   "execution_count": null,
   "metadata": {},
   "outputs": [],
   "source": [
    "x_train = [sigs[idx].squeeze(0).numpy() for idx in train_idxs]\n",
    "y_train = [labels[idx] for idx in train_idxs]\n",
    "x_valid = [sigs[idx].squeeze(0).numpy() for idx in valid_idxs]\n",
    "y_valid = [labels[idx] for idx in valid_idxs]"
   ]
  },
  {
   "cell_type": "code",
   "execution_count": null,
   "metadata": {},
   "outputs": [
    {
     "data": {
      "text/plain": [
       "[3073, 3073, 769, 769]"
      ]
     },
     "execution_count": null,
     "metadata": {},
     "output_type": "execute_result"
    }
   ],
   "source": [
    "list(map(len, (x_train, y_train, x_valid, y_valid)))"
   ]
  },
  {
   "cell_type": "code",
   "execution_count": null,
   "metadata": {},
   "outputs": [
    {
     "data": {
      "text/plain": [
       "((3073, 32000), (769, 32000))"
      ]
     },
     "execution_count": null,
     "metadata": {},
     "output_type": "execute_result"
    }
   ],
   "source": [
    "np_x_train = np.stack(x_train).astype(np.float64)\n",
    "np_x_valid = np.stack(x_valid).astype(np.float64)\n",
    "np_x_train.shape, np_x_valid.shape"
   ]
  },
  {
   "cell_type": "code",
   "execution_count": null,
   "metadata": {},
   "outputs": [],
   "source": [
    "o2i_f = lambda x: 5*(x[0]=='m') + int(x[-1]) - 1"
   ]
  },
  {
   "cell_type": "code",
   "execution_count": null,
   "metadata": {},
   "outputs": [],
   "source": [
    "np_y_train = np.array(list(map(o2i_f, y_train)))\n",
    "np_y_valid = np.array(list(map(o2i_f, y_valid)))"
   ]
  },
  {
   "cell_type": "code",
   "execution_count": null,
   "metadata": {},
   "outputs": [
    {
     "data": {
      "text/plain": [
       "array([0, 7, 2, ..., 0, 7, 1])"
      ]
     },
     "execution_count": null,
     "metadata": {},
     "output_type": "execute_result"
    }
   ],
   "source": [
    "np_y_train"
   ]
  },
  {
   "cell_type": "code",
   "execution_count": null,
   "metadata": {},
   "outputs": [
    {
     "data": {
      "text/plain": [
       "((3073, 32000), (3073,), (769, 32000), (769,))"
      ]
     },
     "execution_count": null,
     "metadata": {},
     "output_type": "execute_result"
    }
   ],
   "source": [
    "np_x_train.shape, np_y_train.shape, np_x_valid.shape, np_y_valid.shape"
   ]
  },
  {
   "cell_type": "code",
   "execution_count": null,
   "metadata": {},
   "outputs": [
    {
     "data": {
      "text/plain": [
       "-4.49039649777175e-05"
      ]
     },
     "execution_count": null,
     "metadata": {},
     "output_type": "execute_result"
    }
   ],
   "source": [
    "np_x_train.mean()"
   ]
  },
  {
   "cell_type": "markdown",
   "metadata": {},
   "source": [
    "### Normalize the training data"
   ]
  },
  {
   "cell_type": "code",
   "execution_count": null,
   "metadata": {},
   "outputs": [],
   "source": [
    "np_x_train = (np_x_train - np_x_train.mean(axis = 1, keepdims = True)) / (np_x_train.std(axis = 1, keepdims = True) + 1e-8)\n",
    "np_x_valid = (np_x_valid - np_x_valid.mean(axis = 1, keepdims = True)) / (np_x_valid.std(axis = 1, keepdims = True) + 1e-8)"
   ]
  },
  {
   "cell_type": "code",
   "execution_count": null,
   "metadata": {},
   "outputs": [
    {
     "data": {
      "text/plain": [
       "(-8.10809639770585e-20, 0.9999995545301024)"
      ]
     },
     "execution_count": null,
     "metadata": {},
     "output_type": "execute_result"
    }
   ],
   "source": [
    "np_x_train.mean(), np_x_train.std()"
   ]
  },
  {
   "cell_type": "code",
   "execution_count": null,
   "metadata": {},
   "outputs": [
    {
     "data": {
      "text/plain": [
       "dtype('float64')"
      ]
     },
     "execution_count": null,
     "metadata": {},
     "output_type": "execute_result"
    }
   ],
   "source": [
    "np_x_train.dtype"
   ]
  },
  {
   "cell_type": "markdown",
   "metadata": {},
   "source": [
    "# Start Here"
   ]
  },
  {
   "cell_type": "code",
   "execution_count": null,
   "metadata": {},
   "outputs": [],
   "source": [
    "def timing_test(runs, candidate_lengths, stride, num_kernels, seq_length, show_progress=True):\n",
    "    times, scores = [],[]\n",
    "    for i in range(runs):\n",
    "        kernels = generate_kernels(seq_length, num_kernels, candidate_lengths, stride)\n",
    "        start = time.time()\n",
    "        x_train_tfm = apply_kernels(np_x_train, kernels)\n",
    "        x_valid_tfm = apply_kernels(np_x_valid, kernels)\n",
    "        classifier = RidgeClassifierCV(alphas=np.logspace(-3, 3, 7), normalize=True)\n",
    "        classifier.fit(x_train_tfm, np_y_train)\n",
    "        score = classifier.score(x_valid_tfm, np_y_valid)\n",
    "        t = time.time()-start\n",
    "        scores.append(score)\n",
    "        times.append(t)\n",
    "        if(show_progress): print(\"Finished Run\", i+1, \"Score:\", round(score, 3), \"Time:\", round(t,3))\n",
    "    return times, scores"
   ]
  },
  {
   "cell_type": "markdown",
   "metadata": {},
   "source": [
    "# Initial attempts"
   ]
  },
  {
   "cell_type": "code",
   "execution_count": null,
   "metadata": {},
   "outputs": [],
   "source": [
    "timing_test(5, np.array((7,9,11)), stride=5, num_kernels=200, seq_length=16000)"
   ]
  },
  {
   "cell_type": "markdown",
   "metadata": {},
   "source": [
    "| Kernel Sizes     | Strides | Results |  Time  |\n",
    "| :--------------: | :-----: | :-----: | :-----:|      \n",
    "| {7,9,11}         | 7       | .85     |  4:02 |\n",
    "| {7,9,11}         | 5       | .899    |  5:20  |\n",
    "| {7,9,11}         | 3       | .903    |  8:15  |\n",
    "|{800,1000,1200}   | 400     | .46     |  3:43  |\n"
   ]
  },
  {
   "cell_type": "markdown",
   "metadata": {},
   "source": [
    "**Silence removed results 10000 kernels**\n",
    "\n",
    "| Kernel Sizes     | Strides | Results |  Time  |\n",
    "| :--------------: | :-----: | :-----: | :-----:|      \n",
    "| {7,9,11}         | 5       | .979     |  5:08 |\n",
    "| {7,9,11}         | 5       | .976     |  5:10 |\n",
    "| {7,9,11}         | 5       | .980     |  5:26 |\n"
   ]
  },
  {
   "cell_type": "markdown",
   "metadata": {},
   "source": [
    "**Silence removed results 2000 kernels**\n",
    "\n",
    "| Kernel Sizes     | Strides | Results |  Time  |\n",
    "| :--------------: | :-----: | :-----: | :-----:|      \n",
    "| {7,9,11}          | 5       | .972     |  1:10 |\n",
    "| {7,9,11}         | 5       | .979     |  1:03 |\n",
    "| {7,9,11}         | 5       | .976     |  1:01 |"
   ]
  },
  {
   "cell_type": "markdown",
   "metadata": {},
   "source": [
    "**Silence removed results 1000 kernels**\n",
    "\n",
    "| Kernel Sizes     | Strides | Results |  Time  |\n",
    "| :--------------: | :-----: | :-----: | :-----:|      \n",
    "| {7,9,11}         | 5       | .974     |  0:31 |\n",
    "| {7,9,11}         | 5       | .974     |  0:31 |\n",
    "| {7,9,11}         | 5       | .966     |  0:31 |"
   ]
  },
  {
   "cell_type": "markdown",
   "metadata": {},
   "source": [
    "**Silence removed results 200 kernels**\n",
    "\n",
    "| Kernel Sizes     | Strides | Results |  Time  |\n",
    "| :--------------: | :-----: | :-----: | :-----:|      \n",
    "| {7,9,11}         | 5       | .949     |  0:06 |\n",
    "| {7,9,11}         | 5       | .950     |  0:06 |\n",
    "| {7,9,11}         | 5       | .934     |  0:06|"
   ]
  },
  {
   "cell_type": "markdown",
   "metadata": {},
   "source": [
    "## 1s Audio, silence removed, testing strides"
   ]
  },
  {
   "cell_type": "markdown",
   "metadata": {},
   "source": [
    "**Silence removed results 200 kernels**\n",
    "\n",
    "| Kernel Sizes     | Strides | Results |  Time  |\n",
    "| :--------------: | :-----: | :-----: | :-----:|      \n",
    "| {7,9,11}         | 1       | .942     |  0:30 |\n",
    "| {7,9,11}         | 1       | .954     |  0:28 |\n",
    "| {7,9,11}         | 1       | .950     |  0:28|"
   ]
  },
  {
   "cell_type": "markdown",
   "metadata": {},
   "source": [
    "**Silence removed results 200 kernels**\n",
    "\n",
    "| Kernel Sizes     | Strides | Results |  Time  |\n",
    "| :--------------: | :-----: | :-----: | :-----:|      \n",
    "| {7,9,11}         | 3       | .960     |  0:10 |\n",
    "| {7,9,11}         | 3       | .948     |  0:10 |\n",
    "| {7,9,11}         | 3       | .954     |  0:10 |"
   ]
  },
  {
   "cell_type": "markdown",
   "metadata": {},
   "source": [
    "## Up clip length to 2 seconds"
   ]
  },
  {
   "cell_type": "markdown",
   "metadata": {},
   "source": [
    "**Silence removed results 200 kernels**\n",
    "\n",
    "| Kernel Sizes     | Strides | Results |  Time  |\n",
    "| :--------------: | :-----: | :-----: | :-----:|      \n",
    "| {7,9,11}         | 5       | .987     |  0:15 |\n",
    "| {7,9,11}         | 5       | .980     |  0:13 |\n",
    "| {7,9,11}         | 5       | .986     |  0:13 |"
   ]
  },
  {
   "cell_type": "markdown",
   "metadata": {},
   "source": [
    "**Silence removed results 200 kernels**\n",
    "\n",
    "| Kernel Sizes     | Strides | Results |  Time  |\n",
    "| :--------------: | :-----: | :-----: | :-----:|      \n",
    "| {7,9,11}         | 3       | .986     |  0:20 |\n",
    "| {7,9,11}         | 3       | .986     |  0:20 |\n",
    "| {7,9,11}         | 3       | .990     |  0:20 |"
   ]
  },
  {
   "cell_type": "markdown",
   "metadata": {},
   "source": [
    "**Silence removed results 1000 kernels**\n",
    "\n",
    "| Kernel Sizes     | Strides | Results |  Time  |\n",
    "| :--------------: | :-----: | :-----: | :-----:|      \n",
    "| {7,9,11}         | 3       | .992     |  1:40 |\n",
    "| {7,9,11}         | 3       | .992     |  1:40 |\n",
    "| {7,9,11}         | 3       | .992     |  1:40 |"
   ]
  },
  {
   "cell_type": "markdown",
   "metadata": {},
   "source": [
    "## Check impact of the kernel size options, do we really need to choose from 3?"
   ]
  },
  {
   "cell_type": "code",
   "execution_count": null,
   "metadata": {},
   "outputs": [],
   "source": [
    "times_ks2, scores_ks2 = timing_test(10, np.array((2,)), stride=1, num_kernels=100, seq_length=32000, show_progress=False)"
   ]
  },
  {
   "cell_type": "code",
   "execution_count": null,
   "metadata": {},
   "outputs": [],
   "source": [
    "times_ks3, scores_ks3 = timing_test(10, np.array((3,)), stride=1, num_kernels=100, seq_length=32000, show_progress=False)"
   ]
  },
  {
   "cell_type": "code",
   "execution_count": null,
   "metadata": {},
   "outputs": [],
   "source": [
    "times_ks5, scores_ks5 = timing_test(10, np.array((5,)), stride=1, num_kernels=100, seq_length=32000, show_progress=False)\n"
   ]
  },
  {
   "cell_type": "code",
   "execution_count": null,
   "metadata": {},
   "outputs": [],
   "source": [
    "times_ks7, scores_ks7 = timing_test(10, np.array((7,)), stride=1, num_kernels=100, seq_length=32000, show_progress=False)"
   ]
  },
  {
   "cell_type": "code",
   "execution_count": null,
   "metadata": {},
   "outputs": [],
   "source": [
    "times_ks9, scores_ks9 = timing_test(10, np.array((9,)), stride=1, num_kernels=100, seq_length=32000, show_progress=False)"
   ]
  },
  {
   "cell_type": "code",
   "execution_count": null,
   "metadata": {},
   "outputs": [],
   "source": [
    "times_ks11, scores_ks11 = timing_test(10, np.array((11,)), stride=1, num_kernels=100, seq_length=32000, show_progress=False)"
   ]
  },
  {
   "cell_type": "code",
   "execution_count": null,
   "metadata": {},
   "outputs": [],
   "source": [
    "times_ksorig, scores_ksorig = timing_test(10, np.array((7,9,11,)), stride=1, num_kernels=100, seq_length=32000, show_progress=False)"
   ]
  },
  {
   "cell_type": "code",
   "execution_count": null,
   "metadata": {},
   "outputs": [],
   "source": [
    "def mn(x): return round(sum(x)/len(x), 3)"
   ]
  },
  {
   "cell_type": "code",
   "execution_count": null,
   "metadata": {},
   "outputs": [],
   "source": [
    "all_scores = [scores_ks2, scores_ks3, scores_ks5, scores_ks7, scores_ks9, scores_ks11, scores_ksorig,]\n",
    "all_times = [times_ks2, times_ks3, times_ks5, times_ks7, times_ks9, times_ks11, times_ksorig,]"
   ]
  },
  {
   "cell_type": "code",
   "execution_count": null,
   "metadata": {},
   "outputs": [],
   "source": [
    "mean_times = list(map(mn, all_times))\n",
    "mean_scores = list(map(mn, all_scores))"
   ]
  },
  {
   "cell_type": "code",
   "execution_count": null,
   "metadata": {},
   "outputs": [
    {
     "data": {
      "text/plain": [
       "[<matplotlib.lines.Line2D at 0x7fad81118310>]"
      ]
     },
     "execution_count": null,
     "metadata": {},
     "output_type": "execute_result"
    },
    {
     "data": {
      "image/png": "[encoded data removed]",
      "text/plain": [
       "<Figure size 432x288 with 1 Axes>"
      ]
     },
     "metadata": {
      "needs_background": "light"
     },
     "output_type": "display_data"
    }
   ],
   "source": [
    "plt.plot([2,3,5,7,9,11], mean_scores[:6])\n"
   ]
  },
  {
   "cell_type": "code",
   "execution_count": null,
   "metadata": {},
   "outputs": [
    {
     "data": {
      "text/plain": [
       "[<matplotlib.lines.Line2D at 0x7fad819cd1d0>]"
      ]
     },
     "execution_count": null,
     "metadata": {},
     "output_type": "execute_result"
    },
    {
     "data": {
      "image/png": "[encoded data removed]",
      "text/plain": [
       "<Figure size 432x288 with 1 Axes>"
      ]
     },
     "metadata": {
      "needs_background": "light"
     },
     "output_type": "display_data"
    }
   ],
   "source": [
    "plt.plot([2,3,5,7,9,11], mean_times[:6])"
   ]
  },
  {
   "cell_type": "code",
   "execution_count": null,
   "metadata": {},
   "outputs": [
    {
     "data": {
      "text/plain": [
       "[0.924, 0.956, 0.967, 0.968, 0.969, 0.962, 0.967]"
      ]
     },
     "execution_count": null,
     "metadata": {},
     "output_type": "execute_result"
    }
   ],
   "source": [
    "mean_scores"
   ]
  },
  {
   "cell_type": "markdown",
   "metadata": {},
   "source": [
    "### Conclusion: It appears 7,9,11 do well, it's hard to tell if the variety helps without testing a higher number of kernels\n",
    "\n",
    "Let's rerun the last experiment, this time with longer strides"
   ]
  },
  {
   "cell_type": "code",
   "execution_count": null,
   "metadata": {},
   "outputs": [],
   "source": [
    "times_ks2, scores_ks2 = timing_test(10, np.array((2,)), stride=7, num_kernels=100, seq_length=32000, show_progress=False)"
   ]
  },
  {
   "cell_type": "code",
   "execution_count": null,
   "metadata": {},
   "outputs": [],
   "source": [
    "times_ks3, scores_ks3 = timing_test(10, np.array((3,)), stride=7, num_kernels=100, seq_length=32000, show_progress=False)"
   ]
  },
  {
   "cell_type": "code",
   "execution_count": null,
   "metadata": {},
   "outputs": [],
   "source": [
    "times_ks5, scores_ks5 = timing_test(10, np.array((5,)), stride=7, num_kernels=100, seq_length=32000, show_progress=False)\n"
   ]
  },
  {
   "cell_type": "code",
   "execution_count": null,
   "metadata": {},
   "outputs": [],
   "source": [
    "times_ks7, scores_ks7 = timing_test(10, np.array((7,)), stride=7, num_kernels=100, seq_length=32000, show_progress=False)"
   ]
  },
  {
   "cell_type": "code",
   "execution_count": null,
   "metadata": {},
   "outputs": [],
   "source": [
    "times_ks9, scores_ks9 = timing_test(10, np.array((9,)), stride=7, num_kernels=100, seq_length=32000, show_progress=False)"
   ]
  },
  {
   "cell_type": "code",
   "execution_count": null,
   "metadata": {},
   "outputs": [],
   "source": [
    "times_ks11, scores_ks11 = timing_test(10, np.array((11,)), stride=7, num_kernels=100, seq_length=32000, show_progress=False)"
   ]
  },
  {
   "cell_type": "code",
   "execution_count": null,
   "metadata": {},
   "outputs": [],
   "source": [
    "times_ksorig, scores_ksorig = timing_test(10, np.array((7,9,11,)), stride=7, num_kernels=100, seq_length=32000, show_progress=False)"
   ]
  },
  {
   "cell_type": "code",
   "execution_count": null,
   "metadata": {},
   "outputs": [],
   "source": [
    "all_scores_s7 = [scores_ks2, scores_ks3, scores_ks5, scores_ks7, scores_ks9, scores_ks11, scores_ksorig,]\n",
    "all_times_s7 = [times_ks2, times_ks3, times_ks5, times_ks7, times_ks9, times_ks11, times_ksorig,]"
   ]
  },
  {
   "cell_type": "code",
   "execution_count": null,
   "metadata": {},
   "outputs": [],
   "source": [
    "mean_times_s7 = list(map(mn, all_times_s7))\n",
    "mean_scores_s7 = list(map(mn, all_scores_s7))"
   ]
  },
  {
   "cell_type": "code",
   "execution_count": null,
   "metadata": {},
   "outputs": [
    {
     "data": {
      "text/plain": [
       "[0.905, 0.937, 0.949, 0.95, 0.958, 0.951, 0.957]"
      ]
     },
     "execution_count": null,
     "metadata": {},
     "output_type": "execute_result"
    }
   ],
   "source": [
    "mean_scores_s7"
   ]
  },
  {
   "cell_type": "code",
   "execution_count": null,
   "metadata": {},
   "outputs": [
    {
     "data": {
      "text/plain": [
       "[<matplotlib.lines.Line2D at 0x7fad80fe3c90>]"
      ]
     },
     "execution_count": null,
     "metadata": {},
     "output_type": "execute_result"
    },
    {
     "data": {
      "image/png": "[encoded data removed]",
      "text/plain": [
       "<Figure size 432x288 with 1 Axes>"
      ]
     },
     "metadata": {
      "needs_background": "light"
     },
     "output_type": "display_data"
    }
   ],
   "source": [
    "plt.plot([2,3,5,7,9,11], mean_scores_s7[:6])"
   ]
  },
  {
   "cell_type": "code",
   "execution_count": null,
   "metadata": {},
   "outputs": [
    {
     "data": {
      "text/plain": [
       "[<matplotlib.lines.Line2D at 0x7fad8a14bed0>]"
      ]
     },
     "execution_count": null,
     "metadata": {},
     "output_type": "execute_result"
    },
    {
     "data": {
      "image/png": "[encoded data removed]",
      "text/plain": [
       "<Figure size 432x288 with 1 Axes>"
      ]
     },
     "metadata": {
      "needs_background": "light"
     },
     "output_type": "display_data"
    }
   ],
   "source": [
    "plt.plot([2,3,5,7,9,11], mean_times_s7[:6])"
   ]
  },
  {
   "cell_type": "code",
   "execution_count": null,
   "metadata": {},
   "outputs": [],
   "source": [
    "def mn(x): return round(sum(x)/len(x),3)"
   ]
  },
  {
   "cell_type": "markdown",
   "metadata": {},
   "source": [
    "## Test 100 kernels each of larger kernels"
   ]
  },
  {
   "cell_type": "code",
   "execution_count": null,
   "metadata": {},
   "outputs": [
    {
     "name": "stdout",
     "output_type": "stream",
     "text": [
      "Kernel Size 7: Score: 0.952 Time: 5.322s\n",
      "Kernel Size 11: Score: 0.962 Time: 6.52s\n",
      "Kernel Size 15: Score: 0.956 Time: 7.862s\n",
      "Kernel Size 19: Score: 0.965 Time: 8.23s\n",
      "Kernel Size 23: Score: 0.943 Time: 9.699s\n",
      "Kernel Size 27: Score: 0.953 Time: 11.522s\n",
      "Kernel Size 31: Score: 0.941 Time: 12.626s\n",
      "Kernel Size 35: Score: 0.948 Time: 12.208s\n",
      "Kernel Size 39: Score: 0.947 Time: 11.937s\n",
      "Kernel Size 43: Score: 0.931 Time: 12.709s\n",
      "Kernel Size 47: Score: 0.936 Time: 14.581s\n",
      "Kernel Size 51: Score: 0.926 Time: 15.842s\n",
      "Kernel Size 55: Score: 0.932 Time: 17.233s\n",
      "Kernel Size 59: Score: 0.926 Time: 18.059s\n",
      "Kernel Size 63: Score: 0.932 Time: 20.527s\n",
      "Kernel Size 67: Score: 0.925 Time: 20.773s\n",
      "Kernel Size 71: Score: 0.935 Time: 18.156s\n",
      "Kernel Size 75: Score: 0.915 Time: 19.595s\n",
      "Kernel Size 79: Score: 0.912 Time: 21.77s\n",
      "Kernel Size 83: Score: 0.926 Time: 23.429s\n",
      "Kernel Size 87: Score: 0.923 Time: 25.025s\n",
      "Kernel Size 91: Score: 0.923 Time: 26.44s\n",
      "Kernel Size 95: Score: 0.902 Time: 26.552s\n",
      "Kernel Size 99: Score: 0.928 Time: 29.478s\n"
     ]
    }
   ],
   "source": [
    "scores_ks, times_ks = [],[]\n",
    "for kernel_size in range(7,100,4):\n",
    "    times, scores = timing_test(1, np.array((kernel_size,)), stride=7, num_kernels=100, seq_length=32000, show_progress=False)\n",
    "    print(f\"Kernel Size {kernel_size}: Score: {mn(scores)} Time: {mn(times)}s\")\n",
    "    scores_ks.append(mn(scores))\n",
    "    times_ks.append(mn(times))"
   ]
  },
  {
   "cell_type": "code",
   "execution_count": null,
   "metadata": {},
   "outputs": [
    {
     "data": {
      "image/png": "[encoded data removed]",
      "text/plain": [
       "<Figure size 432x288 with 1 Axes>"
      ]
     },
     "metadata": {
      "needs_background": "light"
     },
     "output_type": "display_data"
    }
   ],
   "source": [
    "plt.xlabel(\"Kernel Size\")\n",
    "plt.ylabel(\"Accuracy\")\n",
    "plt.plot(np.arange(7,100,4), scores_ks);"
   ]
  },
  {
   "cell_type": "code",
   "execution_count": null,
   "metadata": {},
   "outputs": [
    {
     "data": {
      "image/png": "[encoded data removed]",
      "text/plain": [
       "<Figure size 432x288 with 1 Axes>"
      ]
     },
     "metadata": {
      "needs_background": "light"
     },
     "output_type": "display_data"
    }
   ],
   "source": [
    "plt.xlabel(\"Kernel Size\")\n",
    "plt.ylabel(\"Time for 100 kernels\")\n",
    "plt.plot(np.arange(7,100,4), times_ks);"
   ]
  },
  {
   "cell_type": "markdown",
   "metadata": {},
   "source": [
    "### 3x3 kernel is twice as fast as 9x9, that means we can double the kernels and run in same time, but it still has worse results"
   ]
  },
  {
   "cell_type": "code",
   "execution_count": null,
   "metadata": {},
   "outputs": [],
   "source": [
    "times_ks3, scores_ks3 = timing_test(10, np.array((2,)), stride=7, num_kernels=200, seq_length=32000, show_progress=False)"
   ]
  },
  {
   "cell_type": "code",
   "execution_count": null,
   "metadata": {},
   "outputs": [
    {
     "data": {
      "text/plain": [
       "0.935"
      ]
     },
     "execution_count": null,
     "metadata": {},
     "output_type": "execute_result"
    }
   ],
   "source": [
    "mn(scores_ks3)"
   ]
  },
  {
   "cell_type": "markdown",
   "metadata": {},
   "source": [
    "## Drop down to stride 1 conv, run 2500 kernels for filter size 7,9,11 and {7,9,11} to see if variety helps"
   ]
  },
  {
   "cell_type": "code",
   "execution_count": null,
   "metadata": {},
   "outputs": [],
   "source": [
    "times_7, scores_7 = timing_test(1, np.array((7,)), stride=1, num_kernels=2500, seq_length=32000, show_progress=False)"
   ]
  },
  {
   "cell_type": "code",
   "execution_count": null,
   "metadata": {},
   "outputs": [],
   "source": [
    "times_9, scores_9 = timing_test(1, np.array((9,)), stride=1, num_kernels=2500, seq_length=32000, show_progress=False)"
   ]
  },
  {
   "cell_type": "code",
   "execution_count": null,
   "metadata": {},
   "outputs": [],
   "source": [
    "times_11, scores_11 = timing_test(1, np.array((11,)), stride=1, num_kernels=2500, seq_length=32000, show_progress=False)"
   ]
  },
  {
   "cell_type": "code",
   "execution_count": null,
   "metadata": {},
   "outputs": [],
   "source": [
    "times_orig, scores_orig = timing_test(1, np.array((7,9,11,)), stride=1, num_kernels=2500, seq_length=32000, show_progress=False)"
   ]
  },
  {
   "cell_type": "code",
   "execution_count": null,
   "metadata": {},
   "outputs": [
    {
     "data": {
      "text/plain": [
       "(0.996, 0.996, 1.0, 0.995)"
      ]
     },
     "execution_count": null,
     "metadata": {},
     "output_type": "execute_result"
    }
   ],
   "source": [
    "mn(scores_7), mn(scores_9), mn(scores_11), mn(scores_orig)"
   ]
  },
  {
   "cell_type": "markdown",
   "metadata": {},
   "source": [
    "### Conclusion: Doesnt appear to help but needs to be retested on a tougher dataset"
   ]
  },
  {
   "cell_type": "code",
   "execution_count": null,
   "metadata": {},
   "outputs": [
    {
     "data": {
      "text/plain": [
       "([600.959691286087],\n",
       " [723.5468919277191],\n",
       " [877.7471699714661],\n",
       " [831.6202943325043])"
      ]
     },
     "execution_count": null,
     "metadata": {},
     "output_type": "execute_result"
    }
   ],
   "source": [
    "times_7, times_9, times_11, times_orig"
   ]
  },
  {
   "cell_type": "markdown",
   "metadata": {},
   "source": [
    "## What is the predictive power of a single kernel?"
   ]
  },
  {
   "cell_type": "code",
   "execution_count": null,
   "metadata": {},
   "outputs": [],
   "source": []
  },
  {
   "cell_type": "code",
   "execution_count": null,
   "metadata": {},
   "outputs": [
    {
     "name": "stdout",
     "output_type": "stream",
     "text": [
      "Finished Run 1 Score: 0.243 Time: 0.101\n",
      "Finished Run 2 Score: 0.212 Time: 0.141\n",
      "Finished Run 3 Score: 0.226 Time: 0.161\n",
      "Finished Run 4 Score: 0.224 Time: 0.194\n",
      "Finished Run 5 Score: 0.211 Time: 0.107\n",
      "Finished Run 6 Score: 0.182 Time: 0.122\n",
      "Finished Run 7 Score: 0.257 Time: 0.189\n",
      "Finished Run 8 Score: 0.28 Time: 0.167\n",
      "Finished Run 9 Score: 0.19 Time: 0.146\n",
      "Finished Run 10 Score: 0.164 Time: 0.122\n",
      "Finished Run 11 Score: 0.186 Time: 0.172\n",
      "Finished Run 12 Score: 0.289 Time: 0.225\n",
      "Finished Run 13 Score: 0.251 Time: 0.226\n",
      "Finished Run 14 Score: 0.139 Time: 0.057\n",
      "Finished Run 15 Score: 0.274 Time: 0.157\n",
      "Finished Run 16 Score: 0.211 Time: 0.157\n",
      "Finished Run 17 Score: 0.213 Time: 0.21\n",
      "Finished Run 18 Score: 0.231 Time: 0.197\n",
      "Finished Run 19 Score: 0.226 Time: 0.108\n",
      "Finished Run 20 Score: 0.226 Time: 0.233\n"
     ]
    }
   ],
   "source": [
    "times, scores = timing_test(20, np.array((7,9,11)), stride=5, num_kernels=1, seq_length=32000)"
   ]
  },
  {
   "cell_type": "code",
   "execution_count": null,
   "metadata": {},
   "outputs": [
    {
     "data": {
      "text/plain": [
       "0.22178153446033813"
      ]
     },
     "execution_count": null,
     "metadata": {},
     "output_type": "execute_result"
    }
   ],
   "source": [
    "sum(scores)/len(scores)"
   ]
  },
  {
   "cell_type": "markdown",
   "metadata": {},
   "source": [
    "### Answer: about 22% on a 10-class probelm"
   ]
  },
  {
   "cell_type": "markdown",
   "metadata": {},
   "source": [
    "# Can we apply kernels to a small subset of our data and get enough data to see which ones will be predictive? if so we could generate 100x as many random kernels for a large dataset, select the best 1% and use those on full data"
   ]
  },
  {
   "cell_type": "code",
   "execution_count": null,
   "metadata": {},
   "outputs": [],
   "source": [
    "def get_good_kernels(runs, candidate_lengths, stride, num_kernels, seq_length, thresh, subset_size=300, show_progress=True):\n",
    "    good_kernels, scores = [], []\n",
    "    for i in range(runs):\n",
    "        candidate_lengths = np.array((7,))\n",
    "        kernels = generate_kernels(seq_length, num_kernels, candidate_lengths, stride)\n",
    "        idxs = torch.randperm(len(np_x_train))[:subset_size]\n",
    "        #print(idxs)\n",
    "        np_x_train_subset = np_x_train[idxs]\n",
    "        np_y_train_subset = np_y_train[idxs]\n",
    "        x_train_tfm = apply_kernels(np_x_train_subset, kernels)\n",
    "        x_valid_tfm = apply_kernels(np_x_valid, kernels)\n",
    "        classifier = RidgeClassifierCV(alphas=np.logspace(-3, 3, 7), normalize=True)\n",
    "        classifier.fit(x_train_tfm, np_y_train_subset)\n",
    "        score = classifier.score(x_valid_tfm, np_y_valid)\n",
    "        if score > thresh:\n",
    "            good_kernels.append(kernels)\n",
    "        scores.append(score)\n",
    "        if(show_progress): print(\"Finished Run\", i+1, \"Score:\", round(score, 3))\n",
    "    return good_kernels, scores"
   ]
  },
  {
   "cell_type": "code",
   "execution_count": null,
   "metadata": {},
   "outputs": [],
   "source": [
    "k, s = get_good_kernels(2000, np.array((7,)), stride=5, num_kernels=1,seq_length=32000, thresh=0.275, show_progress=False)"
   ]
  },
  {
   "cell_type": "code",
   "execution_count": null,
   "metadata": {},
   "outputs": [],
   "source": [
    "def merge_kernels(k):\n",
    "    num_kernels = len(k)\n",
    "    strides = np.zeros(num_kernels, dtype = np.int32)\n",
    "    weights = np.zeros((num_kernels, 7)) # see note\n",
    "    lengths = np.zeros(num_kernels, dtype = np.int32) # see note\n",
    "    biases = np.zeros(num_kernels)\n",
    "    dilations = np.zeros(num_kernels, dtype = np.int32)\n",
    "    paddings = np.zeros(num_kernels, dtype = np.int32)\n",
    "    for i in range(num_kernels):\n",
    "        #weights, lengths, biases, dilations, paddings, strides\n",
    "        weights[i], lengths[i], biases[i], dilations[i], paddings[i], strides[i] = k[i]\n",
    "    return weights, lengths, biases, dilations, paddings, strides"
   ]
  },
  {
   "cell_type": "code",
   "execution_count": null,
   "metadata": {},
   "outputs": [
    {
     "data": {
      "text/plain": [
       "165"
      ]
     },
     "execution_count": null,
     "metadata": {},
     "output_type": "execute_result"
    }
   ],
   "source": [
    "len(k)"
   ]
  },
  {
   "cell_type": "code",
   "execution_count": null,
   "metadata": {},
   "outputs": [],
   "source": [
    "kernels = merge_kernels(k)"
   ]
  },
  {
   "cell_type": "code",
   "execution_count": null,
   "metadata": {},
   "outputs": [
    {
     "name": "stdout",
     "output_type": "stream",
     "text": [
      "Finished Run 1 Score: 0.974 Time: 9.498\n",
      "Finished Run 2 Score: 0.978 Time: 9.682\n",
      "Finished Run 3 Score: 0.974 Time: 10.002\n",
      "Finished Run 4 Score: 0.979 Time: 9.684\n",
      "Finished Run 5 Score: 0.98 Time: 9.885\n",
      "Finished Run 6 Score: 0.979 Time: 9.818\n",
      "Finished Run 7 Score: 0.979 Time: 9.717\n",
      "Finished Run 8 Score: 0.978 Time: 9.658\n",
      "Finished Run 9 Score: 0.977 Time: 9.609\n",
      "Finished Run 10 Score: 0.978 Time: 9.866\n"
     ]
    }
   ],
   "source": [
    "times, scores = timing_test(10, np.array((7,)), stride=5, num_kernels=168, seq_length=32000, show_progress=True)"
   ]
  },
  {
   "cell_type": "code",
   "execution_count": null,
   "metadata": {},
   "outputs": [],
   "source": [
    "def score_kernels(k):\n",
    "    x_train_tfm = apply_kernels(np_x_train, k)\n",
    "    x_valid_tfm = apply_kernels(np_x_valid, k)\n",
    "    classifier = RidgeClassifierCV(alphas=np.logspace(-3, 3, 7), normalize=True)\n",
    "    classifier.fit(x_train_tfm, np_y_train)\n",
    "    score = classifier.score(x_valid_tfm, np_y_valid)\n",
    "    return(score)"
   ]
  },
  {
   "cell_type": "code",
   "execution_count": null,
   "metadata": {},
   "outputs": [
    {
     "data": {
      "text/plain": [
       "0.9687906371911573"
      ]
     },
     "execution_count": null,
     "metadata": {},
     "output_type": "execute_result"
    }
   ],
   "source": [
    "score_kernels(kernels)"
   ]
  },
  {
   "cell_type": "markdown",
   "metadata": {},
   "source": [
    "## Result is that 168 \"high accuracy\" kernels drawn from 2000 random kernels actually performs worse than just 168 random kernels! The correlation between the high accuracy kernels must be higher than among the random ones, so they are picking out the same features more frequently"
   ]
  },
  {
   "cell_type": "code",
   "execution_count": null,
   "metadata": {},
   "outputs": [
    {
     "data": {
      "text/plain": [
       "(0.4967490247074122, 0.5357607282184655, 0.52)"
      ]
     },
     "execution_count": null,
     "metadata": {},
     "output_type": "execute_result"
    }
   ],
   "source": [
    "min(s), max(s), mn(s)"
   ]
  },
  {
   "cell_type": "markdown",
   "metadata": {},
   "source": [
    "# Testing dilation to see its effect on audio"
   ]
  },
  {
   "cell_type": "code",
   "execution_count": null,
   "metadata": {},
   "outputs": [],
   "source": [
    "def get_dilation(input_length, filter_size):\n",
    "    return 2 ** np.random.uniform(0, np.log2((input_length - 1) // (filter_size - 1)))"
   ]
  },
  {
   "cell_type": "code",
   "execution_count": null,
   "metadata": {},
   "outputs": [],
   "source": [
    "dilations = [get_dilation(32000, 9) for i in range(100000)]"
   ]
  },
  {
   "cell_type": "code",
   "execution_count": null,
   "metadata": {},
   "outputs": [],
   "source": [
    "low = [int(d) for d in dilations if d < 20]"
   ]
  },
  {
   "cell_type": "code",
   "execution_count": null,
   "metadata": {},
   "outputs": [
    {
     "data": {
      "text/plain": [
       "36299"
      ]
     },
     "execution_count": null,
     "metadata": {},
     "output_type": "execute_result"
    }
   ],
   "source": [
    "len(low)"
   ]
  },
  {
   "cell_type": "code",
   "execution_count": null,
   "metadata": {},
   "outputs": [
    {
     "data": {
      "image/png": "[encoded data removed]",
      "text/plain": [
       "<Figure size 432x288 with 1 Axes>"
      ]
     },
     "metadata": {
      "needs_background": "light"
     },
     "output_type": "display_data"
    }
   ],
   "source": [
    "plt.hist(dilations, bins= 50);"
   ]
  },
  {
   "cell_type": "code",
   "execution_count": null,
   "metadata": {},
   "outputs": [
    {
     "data": {
      "text/plain": [
       "(array([13271.,  6201.,  4053.,  3075.,  1307.,  2189.,  1945.,  1577.,\n",
       "         1403.,  1278.]),\n",
       " array([ 1. ,  2.8,  4.6,  6.4,  8.2, 10. , 11.8, 13.6, 15.4, 17.2, 19. ]),\n",
       " <a list of 10 Patch objects>)"
      ]
     },
     "execution_count": null,
     "metadata": {},
     "output_type": "execute_result"
    },
    {
     "data": {
      "image/png": "[encoded data removed]",
      "text/plain": [
       "<Figure size 432x288 with 1 Axes>"
      ]
     },
     "metadata": {
      "needs_background": "light"
     },
     "output_type": "display_data"
    }
   ],
   "source": [
    "plt.hist(low)"
   ]
  },
  {
   "cell_type": "code",
   "execution_count": null,
   "metadata": {},
   "outputs": [],
   "source": [
    "@njit\n",
    "def generate_kernels_dilation(input_length, num_kernels, candidate_lengths=np.array((7, 9, 11)), stride=5, dilation=1):\n",
    "    # initialise kernel parameters\n",
    "    strides = np.ones(num_kernels, dtype = np.int32) * stride\n",
    "    weights = np.zeros((num_kernels, candidate_lengths.max())) # see note\n",
    "    lengths = np.zeros(num_kernels, dtype = np.int32) # see note\n",
    "    biases = np.zeros(num_kernels)\n",
    "    dilations = np.zeros(num_kernels, dtype = np.int32)\n",
    "    paddings = np.zeros(num_kernels, dtype = np.int32)\n",
    "    # note: only the first *lengths[i]* values of *weights[i]* are used\n",
    "    for i in range(num_kernels):\n",
    "        length = np.random.choice(candidate_lengths)\n",
    "        _weights = np.random.normal(0, 1, length)\n",
    "        bias = np.random.uniform(-1, 1)\n",
    "        padding = ((length - 1) * dilation) // 2 if np.random.randint(2) == 1 else 0\n",
    "        weights[i, :length] = _weights - _weights.mean()\n",
    "        lengths[i], biases[i], dilations[i], paddings[i] = length, bias, dilation, padding\n",
    "    return weights, lengths, biases, dilations, paddings, strides"
   ]
  },
  {
   "cell_type": "code",
   "execution_count": null,
   "metadata": {},
   "outputs": [],
   "source": [
    "def timing_test_dilation(runs, candidate_lengths, stride, num_kernels, seq_length, show_progress=True, dilation=1):\n",
    "    times, scores = [],[]\n",
    "    for i in range(runs):\n",
    "        kernels = generate_kernels_dilation(seq_length, num_kernels, candidate_lengths, stride, dilation)\n",
    "        start = time.time()\n",
    "        x_train_tfm = apply_kernels(np_x_train, kernels)\n",
    "        x_valid_tfm = apply_kernels(np_x_valid, kernels)\n",
    "        classifier = RidgeClassifierCV(alphas=np.logspace(-3, 3, 7), normalize=True)\n",
    "        classifier.fit(x_train_tfm, np_y_train)\n",
    "        score = classifier.score(x_valid_tfm, np_y_valid)\n",
    "        t = time.time()-start\n",
    "        scores.append(score)\n",
    "        times.append(t)\n",
    "        if(show_progress): print(\"Finished Run\", i+1, \"Score:\", round(score, 3), \"Time:\", round(t,3))\n",
    "    return times, scores"
   ]
  },
  {
   "cell_type": "code",
   "execution_count": null,
   "metadata": {},
   "outputs": [],
   "source": [
    "def mn(x): return round(sum(x)/len(x),3)"
   ]
  },
  {
   "cell_type": "code",
   "execution_count": null,
   "metadata": {},
   "outputs": [
    {
     "name": "stdout",
     "output_type": "stream",
     "text": [
      "Finished Run 1 Score: 0.882 Time: 6.582\n",
      "Finished Run 2 Score: 0.866 Time: 6.703\n",
      "Finished Run 3 Score: 0.876 Time: 6.641\n",
      "Finished Run 1 Score: 0.884 Time: 6.745\n",
      "Finished Run 2 Score: 0.879 Time: 6.639\n",
      "Finished Run 3 Score: 0.891 Time: 6.553\n",
      "Finished Run 1 Score: 0.935 Time: 6.618\n",
      "Finished Run 2 Score: 0.927 Time: 6.789\n",
      "Finished Run 3 Score: 0.934 Time: 6.582\n",
      "Finished Run 1 Score: 0.966 Time: 6.587\n",
      "Finished Run 2 Score: 0.965 Time: 6.609\n",
      "Finished Run 3 Score: 0.973 Time: 6.606\n",
      "Finished Run 1 Score: 0.958 Time: 6.683\n",
      "Finished Run 2 Score: 0.966 Time: 6.503\n",
      "Finished Run 3 Score: 0.96 Time: 6.71\n",
      "Finished Run 1 Score: 0.944 Time: 6.516\n",
      "Finished Run 2 Score: 0.935 Time: 6.606\n",
      "Finished Run 3 Score: 0.935 Time: 6.689\n",
      "Finished Run 1 Score: 0.896 Time: 6.714\n",
      "Finished Run 2 Score: 0.895 Time: 6.669\n",
      "Finished Run 3 Score: 0.921 Time: 6.726\n",
      "Finished Run 1 Score: 0.856 Time: 6.559\n",
      "Finished Run 2 Score: 0.84 Time: 6.491\n",
      "Finished Run 3 Score: 0.839 Time: 6.619\n",
      "Finished Run 1 Score: 0.688 Time: 6.618\n",
      "Finished Run 2 Score: 0.7 Time: 6.814\n",
      "Finished Run 3 Score: 0.73 Time: 6.608\n",
      "Finished Run 1 Score: 0.559 Time: 6.434\n",
      "Finished Run 2 Score: 0.572 Time: 6.62\n",
      "Finished Run 3 Score: 0.551 Time: 6.822\n"
     ]
    }
   ],
   "source": [
    "dilation_times, dilation_scores = [], []\n",
    "dilation_choices = [1,2,4,8,16,32,64,128,256,512]\n",
    "for dilation in dilation_choices:\n",
    "    times, scores = timing_test_dilation(3, np.array((9,)), stride=5, num_kernels=100, seq_length=32000, dilation=dilation)\n",
    "    dilation_times.append(mn(times))\n",
    "    dilation_scores.append(mn(scores))"
   ]
  },
  {
   "cell_type": "code",
   "execution_count": null,
   "metadata": {},
   "outputs": [
    {
     "data": {
      "text/plain": [
       "[<matplotlib.lines.Line2D at 0x7f2efd8b0f90>]"
      ]
     },
     "execution_count": null,
     "metadata": {},
     "output_type": "execute_result"
    },
    {
     "data": {
      "image/png": "[encoded data removed]",
      "text/plain": [
       "<Figure size 432x288 with 1 Axes>"
      ]
     },
     "metadata": {
      "needs_background": "light"
     },
     "output_type": "display_data"
    }
   ],
   "source": [
    "plt.plot(dilation_choices, dilation_scores)"
   ]
  },
  {
   "cell_type": "code",
   "execution_count": null,
   "metadata": {},
   "outputs": [
    {
     "data": {
      "text/plain": [
       "[<matplotlib.lines.Line2D at 0x7f2f26fccd90>]"
      ]
     },
     "execution_count": null,
     "metadata": {},
     "output_type": "execute_result"
    },
    {
     "data": {
      "image/png": "[encoded data removed]",
      "text/plain": [
       "<Figure size 432x288 with 1 Axes>"
      ]
     },
     "metadata": {
      "needs_background": "light"
     },
     "output_type": "display_data"
    }
   ],
   "source": [
    "plt.xscale('log',basex=2)\n",
    "plt.plot(dilation_choices, dilation_scores)"
   ]
  },
  {
   "cell_type": "markdown",
   "metadata": {},
   "source": [
    "## Repeat tests with stride 1 to make sure it's not affecting things"
   ]
  },
  {
   "cell_type": "code",
   "execution_count": null,
   "metadata": {},
   "outputs": [
    {
     "name": "stdout",
     "output_type": "stream",
     "text": [
      "Finished Run 1 Score: 0.878 Time: 14.549\n",
      "Finished Run 2 Score: 0.866 Time: 14.888\n",
      "Finished Run 3 Score: 0.901 Time: 14.822\n",
      "Finished Run 1 Score: 0.896 Time: 14.919\n",
      "Finished Run 2 Score: 0.867 Time: 14.778\n",
      "Finished Run 3 Score: 0.886 Time: 14.611\n",
      "Finished Run 1 Score: 0.93 Time: 14.642\n",
      "Finished Run 2 Score: 0.926 Time: 14.622\n",
      "Finished Run 3 Score: 0.926 Time: 14.865\n",
      "Finished Run 1 Score: 0.931 Time: 14.681\n",
      "Finished Run 2 Score: 0.952 Time: 14.774\n",
      "Finished Run 3 Score: 0.944 Time: 14.654\n",
      "Finished Run 1 Score: 0.941 Time: 14.715\n",
      "Finished Run 2 Score: 0.948 Time: 14.705\n",
      "Finished Run 3 Score: 0.953 Time: 14.948\n",
      "Finished Run 1 Score: 0.948 Time: 14.583\n",
      "Finished Run 2 Score: 0.964 Time: 14.786\n",
      "Finished Run 3 Score: 0.953 Time: 14.838\n",
      "Finished Run 1 Score: 0.949 Time: 14.716\n",
      "Finished Run 2 Score: 0.948 Time: 14.958\n",
      "Finished Run 3 Score: 0.944 Time: 14.608\n",
      "Finished Run 1 Score: 0.956 Time: 14.703\n",
      "Finished Run 2 Score: 0.951 Time: 14.645\n",
      "Finished Run 3 Score: 0.945 Time: 14.827\n",
      "Finished Run 1 Score: 0.944 Time: 14.907\n",
      "Finished Run 2 Score: 0.932 Time: 14.732\n",
      "Finished Run 3 Score: 0.953 Time: 14.749\n",
      "Finished Run 1 Score: 0.934 Time: 14.842\n",
      "Finished Run 2 Score: 0.936 Time: 14.786\n",
      "Finished Run 3 Score: 0.934 Time: 14.776\n",
      "Finished Run 1 Score: 0.918 Time: 14.902\n",
      "Finished Run 2 Score: 0.926 Time: 14.77\n",
      "Finished Run 3 Score: 0.93 Time: 14.729\n",
      "Finished Run 1 Score: 0.923 Time: 14.735\n",
      "Finished Run 2 Score: 0.941 Time: 14.648\n",
      "Finished Run 3 Score: 0.935 Time: 14.906\n",
      "Finished Run 1 Score: 0.912 Time: 14.78\n",
      "Finished Run 2 Score: 0.915 Time: 14.993\n",
      "Finished Run 3 Score: 0.93 Time: 14.697\n",
      "Finished Run 1 Score: 0.926 Time: 14.718\n",
      "Finished Run 2 Score: 0.927 Time: 14.732\n",
      "Finished Run 3 Score: 0.919 Time: 14.908\n",
      "Finished Run 1 Score: 0.925 Time: 14.836\n",
      "Finished Run 2 Score: 0.91 Time: 14.777\n",
      "Finished Run 3 Score: 0.921 Time: 14.546\n",
      "Finished Run 1 Score: 0.922 Time: 14.754\n",
      "Finished Run 2 Score: 0.936 Time: 14.711\n",
      "Finished Run 3 Score: 0.931 Time: 14.709\n",
      "Finished Run 1 Score: 0.919 Time: 14.655\n",
      "Finished Run 2 Score: 0.914 Time: 14.71\n",
      "Finished Run 3 Score: 0.922 Time: 14.666\n",
      "Finished Run 1 Score: 0.926 Time: 14.834\n",
      "Finished Run 2 Score: 0.923 Time: 14.819\n",
      "Finished Run 3 Score: 0.922 Time: 14.6\n",
      "Finished Run 1 Score: 0.91 Time: 14.784\n",
      "Finished Run 2 Score: 0.915 Time: 14.683\n",
      "Finished Run 3 Score: 0.91 Time: 14.979\n",
      "Finished Run 1 Score: 0.914 Time: 14.826\n",
      "Finished Run 2 Score: 0.904 Time: 14.8\n",
      "Finished Run 3 Score: 0.906 Time: 14.59\n",
      "Finished Run 1 Score: 0.891 Time: 14.707\n",
      "Finished Run 2 Score: 0.914 Time: 14.521\n",
      "Finished Run 3 Score: 0.893 Time: 14.799\n",
      "Finished Run 1 Score: 0.912 Time: 14.816\n",
      "Finished Run 2 Score: 0.901 Time: 14.74\n",
      "Finished Run 3 Score: 0.886 Time: 14.697\n",
      "Finished Run 1 Score: 0.899 Time: 14.834\n",
      "Finished Run 2 Score: 0.886 Time: 14.563\n",
      "Finished Run 3 Score: 0.88 Time: 14.822\n",
      "Finished Run 1 Score: 0.908 Time: 14.667\n",
      "Finished Run 2 Score: 0.889 Time: 14.644\n",
      "Finished Run 3 Score: 0.904 Time: 14.715\n",
      "Finished Run 1 Score: 0.917 Time: 14.94\n",
      "Finished Run 2 Score: 0.91 Time: 14.903\n",
      "Finished Run 3 Score: 0.895 Time: 14.803\n",
      "Finished Run 1 Score: 0.893 Time: 14.607\n",
      "Finished Run 2 Score: 0.909 Time: 14.907\n",
      "Finished Run 3 Score: 0.897 Time: 14.747\n",
      "Finished Run 1 Score: 0.893 Time: 14.604\n",
      "Finished Run 2 Score: 0.897 Time: 14.374\n",
      "Finished Run 3 Score: 0.892 Time: 14.582\n",
      "Finished Run 1 Score: 0.875 Time: 14.716\n",
      "Finished Run 2 Score: 0.892 Time: 14.94\n",
      "Finished Run 3 Score: 0.892 Time: 14.722\n",
      "Finished Run 1 Score: 0.88 Time: 14.622\n",
      "Finished Run 2 Score: 0.879 Time: 14.721\n",
      "Finished Run 3 Score: 0.889 Time: 14.776\n",
      "Finished Run 1 Score: 0.87 Time: 14.488\n",
      "Finished Run 2 Score: 0.858 Time: 14.663\n",
      "Finished Run 3 Score: 0.867 Time: 14.558\n",
      "Finished Run 1 Score: 0.873 Time: 14.767\n",
      "Finished Run 2 Score: 0.867 Time: 14.594\n",
      "Finished Run 3 Score: 0.887 Time: 14.619\n",
      "Finished Run 1 Score: 0.883 Time: 14.65\n",
      "Finished Run 2 Score: 0.896 Time: 14.624\n",
      "Finished Run 3 Score: 0.896 Time: 14.561\n",
      "Finished Run 1 Score: 0.878 Time: 14.789\n",
      "Finished Run 2 Score: 0.863 Time: 14.719\n",
      "Finished Run 3 Score: 0.888 Time: 14.594\n",
      "Finished Run 1 Score: 0.893 Time: 14.561\n",
      "Finished Run 2 Score: 0.865 Time: 14.638\n",
      "Finished Run 3 Score: 0.882 Time: 14.724\n",
      "Finished Run 1 Score: 0.857 Time: 14.438\n",
      "Finished Run 2 Score: 0.847 Time: 14.775\n",
      "Finished Run 3 Score: 0.843 Time: 14.786\n",
      "Finished Run 1 Score: 0.876 Time: 14.681\n",
      "Finished Run 2 Score: 0.854 Time: 14.593\n",
      "Finished Run 3 Score: 0.858 Time: 14.71\n",
      "Finished Run 1 Score: 0.862 Time: 14.673\n",
      "Finished Run 2 Score: 0.875 Time: 14.582\n",
      "Finished Run 3 Score: 0.861 Time: 14.604\n",
      "Finished Run 1 Score: 0.858 Time: 14.714\n",
      "Finished Run 2 Score: 0.858 Time: 14.805\n",
      "Finished Run 3 Score: 0.871 Time: 14.836\n",
      "Finished Run 1 Score: 0.848 Time: 14.815\n",
      "Finished Run 2 Score: 0.844 Time: 14.783\n",
      "Finished Run 3 Score: 0.856 Time: 14.726\n",
      "Finished Run 1 Score: 0.836 Time: 14.944\n",
      "Finished Run 2 Score: 0.857 Time: 14.762\n",
      "Finished Run 3 Score: 0.843 Time: 14.744\n",
      "Finished Run 1 Score: 0.826 Time: 14.824\n",
      "Finished Run 2 Score: 0.853 Time: 14.541\n",
      "Finished Run 3 Score: 0.831 Time: 14.737\n",
      "Finished Run 1 Score: 0.831 Time: 14.801\n",
      "Finished Run 2 Score: 0.827 Time: 14.658\n",
      "Finished Run 3 Score: 0.854 Time: 14.864\n",
      "Finished Run 1 Score: 0.837 Time: 14.826\n",
      "Finished Run 2 Score: 0.843 Time: 14.59\n",
      "Finished Run 3 Score: 0.841 Time: 14.695\n",
      "Finished Run 1 Score: 0.862 Time: 14.857\n",
      "Finished Run 2 Score: 0.841 Time: 14.672\n",
      "Finished Run 3 Score: 0.848 Time: 14.481\n",
      "Finished Run 1 Score: 0.813 Time: 14.62\n",
      "Finished Run 2 Score: 0.836 Time: 14.812\n",
      "Finished Run 3 Score: 0.814 Time: 14.819\n",
      "Finished Run 1 Score: 0.827 Time: 14.675\n",
      "Finished Run 2 Score: 0.835 Time: 14.727\n",
      "Finished Run 3 Score: 0.834 Time: 14.889\n",
      "Finished Run 1 Score: 0.831 Time: 14.705\n",
      "Finished Run 2 Score: 0.852 Time: 14.881\n",
      "Finished Run 3 Score: 0.86 Time: 14.648\n",
      "Finished Run 1 Score: 0.832 Time: 14.854\n",
      "Finished Run 2 Score: 0.865 Time: 14.65\n",
      "Finished Run 3 Score: 0.849 Time: 14.488\n",
      "Finished Run 1 Score: 0.862 Time: 15.05\n",
      "Finished Run 2 Score: 0.843 Time: 14.832\n",
      "Finished Run 3 Score: 0.865 Time: 14.816\n",
      "Finished Run 1 Score: 0.839 Time: 14.581\n",
      "Finished Run 2 Score: 0.871 Time: 14.629\n",
      "Finished Run 3 Score: 0.834 Time: 14.494\n"
     ]
    }
   ],
   "source": [
    "dilation_times_s1, dilation_scores_s1 = [], []\n",
    "dilation_choices_s1 = list(range(1,100,2))\n",
    "for dilation in dilation_choices_s1:\n",
    "    times, scores = timing_test_dilation(3, np.array((9,)), stride=1, num_kernels=50, seq_length=32000, dilation=dilation)\n",
    "    dilation_times_s1.append(mn(times))\n",
    "    dilation_scores_s1.append(mn(scores))"
   ]
  },
  {
   "cell_type": "code",
   "execution_count": null,
   "metadata": {},
   "outputs": [
    {
     "data": {
      "text/plain": [
       "[<matplotlib.lines.Line2D at 0x7f2efdd71310>]"
      ]
     },
     "execution_count": null,
     "metadata": {},
     "output_type": "execute_result"
    },
    {
     "data": {
      "image/png": "[encoded data removed]",
      "text/plain": [
       "<Figure size 432x288 with 1 Axes>"
      ]
     },
     "metadata": {
      "needs_background": "light"
     },
     "output_type": "display_data"
    }
   ],
   "source": [
    "plt.plot(dilation_choices_s1, dilation_scores_s1)"
   ]
  },
  {
   "cell_type": "markdown",
   "metadata": {},
   "source": [
    "## Lastly return to stride 5 and do a test with varying filter size and dilation to make sure theyre not correlated"
   ]
  },
  {
   "cell_type": "code",
   "execution_count": null,
   "metadata": {},
   "outputs": [],
   "source": [
    "from collections import defaultdict"
   ]
  },
  {
   "cell_type": "code",
   "execution_count": null,
   "metadata": {},
   "outputs": [
    {
     "name": "stdout",
     "output_type": "stream",
     "text": [
      "Finished Run 1 Score: 0.817 Time: 4.494\n",
      "Finished Run 2 Score: 0.818 Time: 4.557\n",
      "Finished Run 3 Score: 0.835 Time: 4.681\n",
      "Finished Run 1 Score: 0.882 Time: 5.53\n",
      "Finished Run 2 Score: 0.863 Time: 5.522\n",
      "Finished Run 3 Score: 0.873 Time: 5.477\n",
      "Finished Run 1 Score: 0.909 Time: 6.643\n",
      "Finished Run 2 Score: 0.9 Time: 6.353\n",
      "Finished Run 3 Score: 0.896 Time: 6.341\n",
      "Finished Run 1 Score: 0.913 Time: 7.454\n",
      "Finished Run 2 Score: 0.931 Time: 7.347\n",
      "Finished Run 3 Score: 0.926 Time: 7.466\n",
      "Finished Run 1 Score: 0.925 Time: 8.48\n",
      "Finished Run 2 Score: 0.943 Time: 8.527\n",
      "Finished Run 3 Score: 0.932 Time: 8.416\n",
      "Finished Run 1 Score: 0.843 Time: 4.627\n",
      "Finished Run 2 Score: 0.866 Time: 4.468\n",
      "Finished Run 3 Score: 0.848 Time: 4.485\n",
      "Finished Run 1 Score: 0.931 Time: 5.467\n",
      "Finished Run 2 Score: 0.919 Time: 5.331\n",
      "Finished Run 3 Score: 0.926 Time: 5.596\n",
      "Finished Run 1 Score: 0.956 Time: 6.512\n",
      "Finished Run 2 Score: 0.956 Time: 6.47\n",
      "Finished Run 3 Score: 0.943 Time: 6.544\n",
      "Finished Run 1 Score: 0.954 Time: 7.438\n",
      "Finished Run 2 Score: 0.962 Time: 7.26\n",
      "Finished Run 3 Score: 0.957 Time: 7.515\n",
      "Finished Run 1 Score: 0.966 Time: 8.479\n",
      "Finished Run 2 Score: 0.973 Time: 8.575\n",
      "Finished Run 3 Score: 0.969 Time: 8.443\n",
      "Finished Run 1 Score: 0.896 Time: 4.541\n",
      "Finished Run 2 Score: 0.896 Time: 4.728\n",
      "Finished Run 3 Score: 0.893 Time: 4.649\n",
      "Finished Run 1 Score: 0.951 Time: 5.598\n",
      "Finished Run 2 Score: 0.945 Time: 5.607\n",
      "Finished Run 3 Score: 0.945 Time: 5.402\n",
      "Finished Run 1 Score: 0.973 Time: 6.426\n",
      "Finished Run 2 Score: 0.954 Time: 6.408\n",
      "Finished Run 3 Score: 0.96 Time: 6.38\n",
      "Finished Run 1 Score: 0.965 Time: 7.573\n",
      "Finished Run 2 Score: 0.964 Time: 7.515\n",
      "Finished Run 3 Score: 0.979 Time: 7.618\n",
      "Finished Run 1 Score: 0.974 Time: 8.507\n",
      "Finished Run 2 Score: 0.973 Time: 8.445\n",
      "Finished Run 3 Score: 0.967 Time: 8.396\n",
      "Finished Run 1 Score: 0.925 Time: 4.644\n",
      "Finished Run 2 Score: 0.931 Time: 4.628\n",
      "Finished Run 3 Score: 0.915 Time: 4.509\n",
      "Finished Run 1 Score: 0.962 Time: 5.551\n",
      "Finished Run 2 Score: 0.969 Time: 5.549\n",
      "Finished Run 3 Score: 0.967 Time: 5.536\n",
      "Finished Run 1 Score: 0.967 Time: 6.526\n",
      "Finished Run 2 Score: 0.98 Time: 6.507\n",
      "Finished Run 3 Score: 0.973 Time: 6.601\n",
      "Finished Run 1 Score: 0.966 Time: 7.463\n",
      "Finished Run 2 Score: 0.965 Time: 7.491\n",
      "Finished Run 3 Score: 0.975 Time: 7.447\n",
      "Finished Run 1 Score: 0.973 Time: 8.469\n",
      "Finished Run 2 Score: 0.977 Time: 8.521\n",
      "Finished Run 3 Score: 0.969 Time: 8.459\n",
      "Finished Run 1 Score: 0.949 Time: 4.567\n",
      "Finished Run 2 Score: 0.948 Time: 4.631\n",
      "Finished Run 3 Score: 0.944 Time: 4.5\n",
      "Finished Run 1 Score: 0.967 Time: 5.534\n",
      "Finished Run 2 Score: 0.965 Time: 5.42\n",
      "Finished Run 3 Score: 0.962 Time: 5.598\n",
      "Finished Run 1 Score: 0.974 Time: 6.47\n",
      "Finished Run 2 Score: 0.964 Time: 6.559\n",
      "Finished Run 3 Score: 0.975 Time: 6.488\n",
      "Finished Run 1 Score: 0.966 Time: 7.595\n",
      "Finished Run 2 Score: 0.974 Time: 7.46\n",
      "Finished Run 3 Score: 0.966 Time: 7.594\n",
      "Finished Run 1 Score: 0.97 Time: 8.581\n",
      "Finished Run 2 Score: 0.965 Time: 8.631\n",
      "Finished Run 3 Score: 0.961 Time: 8.423\n"
     ]
    }
   ],
   "source": [
    "dilation_scores_dict = defaultdict(list)\n",
    "dilation_times_filt = []\n",
    "dilation_choices_filt = [3,5,7,9,11]\n",
    "filter_choices = [5,7,9,11,13]\n",
    "for dilation in dilation_choices_filt:\n",
    "    for filter_size in filter_choices:\n",
    "        times, scores = timing_test_dilation(3, np.array((filter_size,)), stride=5, num_kernels=100, seq_length=32000, dilation=dilation)\n",
    "        dilation_times_s1.append(mn(times))\n",
    "        dilation_scores_dict[filter_size].append((mn(scores)))"
   ]
  },
  {
   "cell_type": "code",
   "execution_count": null,
   "metadata": {},
   "outputs": [
    {
     "data": {
      "text/plain": [
       "defaultdict(list,\n",
       "            {5: [0.823, 0.852, 0.895, 0.924, 0.947],\n",
       "             7: [0.873, 0.925, 0.947, 0.966, 0.965],\n",
       "             9: [0.902, 0.951, 0.962, 0.974, 0.971],\n",
       "             11: [0.923, 0.958, 0.969, 0.969, 0.969],\n",
       "             13: [0.933, 0.969, 0.971, 0.973, 0.965]})"
      ]
     },
     "execution_count": null,
     "metadata": {},
     "output_type": "execute_result"
    }
   ],
   "source": [
    "dilation_scores_dict"
   ]
  },
  {
   "cell_type": "code",
   "execution_count": null,
   "metadata": {},
   "outputs": [
    {
     "data": {
      "image/png": "[encoded data removed]",
      "text/plain": [
       "<Figure size 432x288 with 1 Axes>"
      ]
     },
     "metadata": {
      "needs_background": "light"
     },
     "output_type": "display_data"
    }
   ],
   "source": [
    "for i, v in enumerate(dilation_scores_dict.values()):\n",
    "    plt.plot(dilation_choices_filt, v, label=filter_choices[i])\n",
    "    plt.legend(title=\"Filter Size\")\n",
    "    plt.title(\"\")\n",
    "    plt.xlabel(\"dilation\")\n",
    "    plt.ylabel(\"100 Kernel Accuracy\")"
   ]
  },
  {
   "cell_type": "code",
   "execution_count": null,
   "metadata": {},
   "outputs": [
    {
     "name": "stdout",
     "output_type": "stream",
     "text": [
      "Finished Run 1 Score: 0.988 Time: 32.032\n"
     ]
    }
   ],
   "source": [
    "times, scores = timing_test_dilation(1, np.array((9,)), stride=5, num_kernels=500, seq_length=32000, dilation=8)"
   ]
  },
  {
   "cell_type": "markdown",
   "metadata": {},
   "source": [
    "### Hypothesis: Different dilations are extracting data about different frequency ranges, the most important frequencies will yield the highest accuracy, but ensembling those will plateau because it needs data about other frequencies as well (even though in isolation they are less predictive)"
   ]
  },
  {
   "cell_type": "code",
   "execution_count": null,
   "metadata": {},
   "outputs": [],
   "source": [
    "from scipy.stats import skewnorm"
   ]
  },
  {
   "cell_type": "code",
   "execution_count": null,
   "metadata": {},
   "outputs": [],
   "source": [
    "a=6\n",
    "data= skewnorm.rvs(a, size=1000)"
   ]
  },
  {
   "cell_type": "code",
   "execution_count": null,
   "metadata": {},
   "outputs": [
    {
     "data": {
      "text/plain": [
       "(array([ 31., 192., 252., 178., 135., 110.,  48.,  34.,  14.,   6.]),\n",
       " array([-0.40513973, -0.06437618,  0.27638737,  0.61715092,  0.95791447,\n",
       "         1.29867802,  1.63944157,  1.98020512,  2.32096867,  2.66173222,\n",
       "         3.00249577]),\n",
       " <a list of 10 Patch objects>)"
      ]
     },
     "execution_count": null,
     "metadata": {},
     "output_type": "execute_result"
    },
    {
     "data": {
      "image/png": "[encoded data removed]",
      "text/plain": [
       "<Figure size 432x288 with 1 Axes>"
      ]
     },
     "metadata": {
      "needs_background": "light"
     },
     "output_type": "display_data"
    }
   ],
   "source": [
    "plt.hist(data)"
   ]
  },
  {
   "cell_type": "code",
   "execution_count": null,
   "metadata": {},
   "outputs": [],
   "source": [
    "from scipy.stats import skewnorm\n",
    "#dilation = 2 ** np.random.uniform(0, np.log2((input_length - 1) // (length - 1)))\n",
    "def dilation_strategy(num_kernels, input_length, max_length):\n",
    "    max_exponent= np.log10((input_length - 1) // (max_length - 1))\n",
    "    dist = skewnorm.rvs(10, size=num_kernels)\n",
    "    clean_dist = [d for d in dist if d >= 0 and d < max_exponent]\n",
    "    dilations = [int(10**d) for d in clean_dist]\n",
    "    #rint(dilations)\n",
    "    return np.array(dilations[:num_kernels], np.int32)\n",
    "\n"
   ]
  },
  {
   "cell_type": "code",
   "execution_count": null,
   "metadata": {},
   "outputs": [],
   "source": [
    "dilations = dilation_strategy(10000,32000, 9)"
   ]
  },
  {
   "cell_type": "code",
   "execution_count": null,
   "metadata": {},
   "outputs": [
    {
     "name": "stdout",
     "output_type": "stream",
     "text": [
      "[ 2  2  3 ...  4  1 96]\n"
     ]
    }
   ],
   "source": [
    "print(dilations)"
   ]
  },
  {
   "cell_type": "code",
   "execution_count": null,
   "metadata": {},
   "outputs": [],
   "source": [
    "from collections import Counter"
   ]
  },
  {
   "cell_type": "code",
   "execution_count": null,
   "metadata": {},
   "outputs": [],
   "source": [
    "c = Counter(dilations)"
   ]
  },
  {
   "cell_type": "code",
   "execution_count": null,
   "metadata": {},
   "outputs": [
    {
     "data": {
      "text/plain": [
       "873"
      ]
     },
     "execution_count": null,
     "metadata": {},
     "output_type": "execute_result"
    }
   ],
   "source": [
    "c[3]"
   ]
  },
  {
   "cell_type": "code",
   "execution_count": null,
   "metadata": {},
   "outputs": [
    {
     "data": {
      "text/plain": [
       "[1,\n",
       " 2,\n",
       " 3,\n",
       " 4,\n",
       " 5,\n",
       " 6,\n",
       " 7,\n",
       " 8,\n",
       " 9,\n",
       " 10,\n",
       " 12,\n",
       " 11,\n",
       " 13,\n",
       " 14,\n",
       " 15,\n",
       " 18,\n",
       " 17,\n",
       " 16,\n",
       " 20,\n",
       " 19,\n",
       " 21,\n",
       " 24,\n",
       " 22,\n",
       " 28,\n",
       " 25,\n",
       " 26,\n",
       " 23,\n",
       " 37,\n",
       " 30,\n",
       " 32,\n",
       " 33,\n",
       " 34,\n",
       " 27,\n",
       " 31,\n",
       " 35,\n",
       " 29,\n",
       " 44,\n",
       " 39,\n",
       " 49,\n",
       " 42,\n",
       " 54,\n",
       " 47,\n",
       " 36,\n",
       " 41,\n",
       " 40,\n",
       " 53,\n",
       " 43,\n",
       " 70,\n",
       " 51,\n",
       " 52]"
      ]
     },
     "execution_count": null,
     "metadata": {},
     "output_type": "execute_result"
    }
   ],
   "source": [
    "sorted(c, key=lambda x: c[x], reverse=True)[:50]"
   ]
  },
  {
   "cell_type": "code",
   "execution_count": null,
   "metadata": {},
   "outputs": [
    {
     "data": {
      "text/plain": [
       "3995"
      ]
     },
     "execution_count": null,
     "metadata": {},
     "output_type": "execute_result"
    }
   ],
   "source": [
    "dilations.max()"
   ]
  },
  {
   "cell_type": "code",
   "execution_count": null,
   "metadata": {},
   "outputs": [
    {
     "data": {
      "text/plain": [
       "1"
      ]
     },
     "execution_count": null,
     "metadata": {},
     "output_type": "execute_result"
    }
   ],
   "source": [
    "dilations[1]"
   ]
  },
  {
   "cell_type": "code",
   "execution_count": null,
   "metadata": {},
   "outputs": [
    {
     "data": {
      "image/png": "[encoded data removed]",
      "text/plain": [
       "<Figure size 432x288 with 1 Axes>"
      ]
     },
     "metadata": {
      "needs_background": "light"
     },
     "output_type": "display_data"
    }
   ],
   "source": [
    "plt.xscale('log',basex=10)\n",
    "plt.hist(dilations,bins=50);"
   ]
  },
  {
   "cell_type": "code",
   "execution_count": null,
   "metadata": {},
   "outputs": [],
   "source": [
    "@njit\n",
    "def generate_kernels_dilation_strategy(input_length, num_kernels, candidate_lengths=np.array((7, 9, 11)), stride=5, dilations=dilations):\n",
    "    # initialise kernel parameters\n",
    "    strides = np.ones(num_kernels, dtype = np.int32) * stride\n",
    "    weights = np.zeros((num_kernels, candidate_lengths.max())) # see note\n",
    "    lengths = np.zeros(num_kernels, dtype = np.int32) # see note\n",
    "    biases = np.zeros(num_kernels)\n",
    "    paddings = np.zeros(num_kernels, dtype = np.int32)\n",
    "    # note: only the first *lengths[i]* values of *weights[i]* are used\n",
    "    for i in range(num_kernels):\n",
    "        length = np.random.choice(candidate_lengths)\n",
    "        _weights = np.random.normal(0, 1, length)\n",
    "        bias = np.random.uniform(-1, 1)\n",
    "        padding = ((length - 1) * dilations[i]) // 2 if np.random.randint(2) == 1 else 0\n",
    "        weights[i, :length] = _weights - _weights.mean()\n",
    "        lengths[i], biases[i], paddings[i] = length, bias, padding\n",
    "    return weights, lengths, biases, dilations, paddings, strides\n",
    "    "
   ]
  },
  {
   "cell_type": "code",
   "execution_count": null,
   "metadata": {},
   "outputs": [],
   "source": [
    "@njit(parallel = True, fastmath = True)\n",
    "def apply_kernels(X, kernels):\n",
    "    weights, lengths, biases, dilations, paddings, strides = kernels\n",
    "    num_examples = len(X)\n",
    "    num_kernels = len(weights)\n",
    "    # initialise output\n",
    "    _X = np.zeros((num_examples, num_kernels * 2)) # 2 features per kernel\n",
    "    for i in prange(num_examples):\n",
    "        for j in range(num_kernels):\n",
    "            _X[i, (j * 2):((j * 2) + 2)] = \\\n",
    "            apply_kernel(X[i], weights[j][:lengths[j]], lengths[j], biases[j], dilations[j], paddings[j], strides[j])\n",
    "    return _X"
   ]
  },
  {
   "cell_type": "code",
   "execution_count": null,
   "metadata": {},
   "outputs": [],
   "source": [
    "def timing_test_dilation_strategy(runs, candidate_lengths, stride, num_kernels, seq_length, show_progress=True):\n",
    "    times, scores = [],[]\n",
    "    for i in range(runs):\n",
    "        dilations = simple_dilation_strategy(num_kernels)\n",
    "        kernels = generate_kernels_dilation_strategy(seq_length, num_kernels, candidate_lengths, stride, dilations)\n",
    "        start = time.time()\n",
    "        x_train_tfm = apply_kernels(np_x_train, kernels)\n",
    "        x_valid_tfm = apply_kernels(np_x_valid, kernels)\n",
    "        classifier = RidgeClassifierCV(alphas=np.logspace(-3, 3, 7), normalize=True)\n",
    "        classifier.fit(x_train_tfm, np_y_train)\n",
    "        score = classifier.score(x_valid_tfm, np_y_valid)\n",
    "        t = time.time()-start\n",
    "        scores.append(score)\n",
    "        times.append(t)\n",
    "        if(show_progress): print(\"Finished Run\", i+1, \"Score:\", round(score, 3), \"Time:\", round(t,3))\n",
    "    return times, scores"
   ]
  },
  {
   "cell_type": "code",
   "execution_count": null,
   "metadata": {},
   "outputs": [
    {
     "name": "stdout",
     "output_type": "stream",
     "text": [
      "Finished Run 1 Score: 0.965 Time: 68.379\n"
     ]
    },
    {
     "data": {
      "text/plain": [
       "([68.37943172454834], [0.9648894668400521])"
      ]
     },
     "execution_count": null,
     "metadata": {},
     "output_type": "execute_result"
    }
   ],
   "source": [
    "timing_test_dilation_strategy(1, np.array((7,9,11,)), stride=5, num_kernels=1000, seq_length=32000)"
   ]
  },
  {
   "cell_type": "code",
   "execution_count": null,
   "metadata": {},
   "outputs": [],
   "source": []
  }
 ],
 "metadata": {
  "kernelspec": {
   "display_name": "Python 3",
   "language": "python",
   "name": "python3"
  }
 },
 "nbformat": 4,
 "nbformat_minor": 2
}
